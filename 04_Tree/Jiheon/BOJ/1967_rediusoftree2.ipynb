{
 "cells": [
  {
   "cell_type": "markdown",
   "metadata": {},
   "source": [
    "### 1967 트리의 지름\n",
    "\n",
    "1. 트리에 각 노드간의 거리를 포함한 정보를 저장함 (노드, 거리)\n",
    "\n",
    "2. 한 노드에서 출발해서 가장 먼 노드를 찍고, 그 노드에서 가장 먼 노드로 가는 것이 가장 먼 거리!\n",
    "\n",
    "3. 거리를 저장할 수 있는 visited 리스트를 만들고, 가장 먼 visited 거리를 저장해서 출력"
   ]
  },
  {
   "cell_type": "code",
   "execution_count": 1,
   "metadata": {},
   "outputs": [
    {
     "name": "stdout",
     "output_type": "stream",
     "text": [
      "45\n"
     ]
    }
   ],
   "source": [
    "N = int(input())\n",
    "tree = [[] for _ in range(N+1)]\n",
    "for _ in range(N-1):\n",
    "    start, end, dis = map(int, input().split())\n",
    "    tree[start].append((end, dis))\n",
    "    tree[end].append((start, dis))\n",
    "\n",
    "# dfs 함수 정의\n",
    "def dfs(start):\n",
    "    stack = [start]\n",
    "    visited = [-1] * (N+1)\n",
    "    visited[start] = 0\n",
    "    temp_max = [0, 0]\n",
    "    while stack:\n",
    "        now = stack.pop()\n",
    "        # 방문하지 않은 노드에 도착하면, visited list에 거리를 더해줌\n",
    "        for next, dis in tree[now]:\n",
    "            if visited[next] == -1:\n",
    "                visited[next] = visited[now] + dis\n",
    "                stack.append(next)\n",
    "                # 임시 max 값보다, visited의 거리가 더 길면 max 값 갱신\n",
    "                if visited[next] > temp_max[1]:\n",
    "                    temp_max = next, visited[next]\n",
    "    return temp_max\n",
    "\n",
    "node, dis = dfs(1)\n",
    "node, dis = dfs(node)\n",
    "print(dis)"
   ]
  }
 ],
 "metadata": {
  "kernelspec": {
   "display_name": "Python 3",
   "language": "python",
   "name": "python3"
  },
  "language_info": {
   "codemirror_mode": {
    "name": "ipython",
    "version": 3
   },
   "file_extension": ".py",
   "mimetype": "text/x-python",
   "name": "python",
   "nbconvert_exporter": "python",
   "pygments_lexer": "ipython3",
   "version": "3.9.13"
  },
  "orig_nbformat": 4
 },
 "nbformat": 4,
 "nbformat_minor": 2
}
