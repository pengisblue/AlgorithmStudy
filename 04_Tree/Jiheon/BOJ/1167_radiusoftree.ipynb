{
 "cells": [
  {
   "cell_type": "markdown",
   "metadata": {},
   "source": [
    "### 1167 트리의 지름\n",
    "\n",
    "1. 노드 정보에 (노드번호, 노드간의 거리) 형식으로 저장한다.\n",
    "\n",
    "2. dfs or bfs 를 사용해서 모든 노드를 순회하면서 특정 노드에서의 노드거리를 모두 구한다.\n",
    "\n",
    "3. 현재 노드에서 가장 먼 노드는 트리의 오른쪽 or 왼쪽 끝이기 때문에, 가장 먼 노드에서 다시 dfs or bfs를 사용해서 반대쪽 가장 먼 노드까지의 거리를 구하면 그것이 트리의 지름이다."
   ]
  },
  {
   "cell_type": "code",
   "execution_count": 20,
   "metadata": {},
   "outputs": [],
   "source": [
    "import sys\n",
    "input = sys.stdin.readline\n",
    "\n",
    "# 간단한 dfs 함수 정의\n",
    "def dfs(start):\n",
    "    visited = [-1] * (N + 1)\n",
    "    stack = [start]\n",
    "    visited[start] = 0\n",
    "    # 가장 먼 노드를 (노드 번호, 거리) 형식으로 저장하는 변수 정의\n",
    "    max_dis = [0, 0]\n",
    "    while stack:\n",
    "        now = stack.pop()\n",
    "        # 현재 노드와 연결된 노드의 정보를 (노드 번호, 거리) 로 들고 옴\n",
    "        for num, dis in node[now]:\n",
    "            if visited[num] == -1:\n",
    "                visited[num] = visited[now] + dis\n",
    "                stack.append(num)\n",
    "                # 노드 간의 거리의 최댓값을 갱신\n",
    "                if max_dis[1] < visited[num]:\n",
    "                    max_dis = num, visited[num]\n",
    "    return max_dis\n",
    "\n",
    "N = int(input())\n",
    "node = [[] for _ in range(N+1)]\n",
    "for _ in range(N):\n",
    "    node_info = list(map(int, input().split()))\n",
    "    for i in range(1, len(node_info)-2, 2):\n",
    "        # 노드 정보를 (노드 번호, 노드 거리) 순으로 리스트 형식으로 저장\n",
    "        node[node_info[0]].append([node_info[i], node_info[i+1]])\n",
    "# 첫 dfs 로 현재 기준에서 가장 먼 노드를 구한 뒤, 가장 먼 노드에서 가장 먼 노드까지 거리를 구하면 트리의 지름이 된다.\n",
    "num, dis = dfs(1)\n",
    "num, dis = dfs(num)\n",
    "print(dis)\n"
   ]
  }
 ],
 "metadata": {
  "kernelspec": {
   "display_name": "Python 3",
   "language": "python",
   "name": "python3"
  },
  "language_info": {
   "codemirror_mode": {
    "name": "ipython",
    "version": 3
   },
   "file_extension": ".py",
   "mimetype": "text/x-python",
   "name": "python",
   "nbconvert_exporter": "python",
   "pygments_lexer": "ipython3",
   "version": "3.9.13"
  },
  "orig_nbformat": 4
 },
 "nbformat": 4,
 "nbformat_minor": 2
}
