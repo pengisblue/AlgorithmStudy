{
 "cells": [
  {
   "cell_type": "markdown",
   "metadata": {},
   "source": [
    "### 4803 트리\n",
    "\n",
    "1. bfs 를 돌 떄, que에 넣을 때 visited 여부를 조사해서 방문하지 않은 노드만 que에 넣음\n",
    "\n",
    "2. que에서 꺼낼 때 다시 visited 여부를 조사하는데, visited 가 되어있다면 cycle이 존재하는 것!(tree는 cycle이 없음, 1-2-3-1 의 사이클에 대해 생각 해볼 것)\n",
    "\n",
    "3. 모든 노드들을 돌면서 아직 방문하지 않은 노드에 대해서 bfs를 실시"
   ]
  },
  {
   "cell_type": "code",
   "execution_count": 10,
   "metadata": {},
   "outputs": [
    {
     "name": "stdout",
     "output_type": "stream",
     "text": [
      "Case 1: A forest of 3 trees.\n",
      "Case 2: There is one tree.\n",
      "Case 3: No trees.\n"
     ]
    }
   ],
   "source": [
    "from collections import deque\n",
    "\n",
    "# bfs 함수 정의\n",
    "def bfs(start):\n",
    "    # 현재 그래프에 사이클이 존재하는지 여부를 저장하는 변수 할당\n",
    "    isCycle = 0\n",
    "    que = deque([start])\n",
    "    while que:\n",
    "        now = que.popleft()\n",
    "        # que에 넣을 때 방문하지 않았는데, 꺼낼 때는 방문한 노드라면 cycle이 존재\n",
    "        if visited[now]:\n",
    "            isCycle = 1\n",
    "        # 꺼낼 때 visited 표시를 해줘야 cycle 로 연결된 노드를 확인 가능\n",
    "        visited[now] = 1\n",
    "        for next in node[now]:\n",
    "            if not visited[next]:\n",
    "                que.append(next)\n",
    "    # cycle 여부 변수 return\n",
    "    return isCycle\n",
    "\n",
    "case = 1\n",
    "while True:\n",
    "    N, M = map(int, input().split())\n",
    "    if N == 0 and M == 0:\n",
    "        break\n",
    "    node = [[] for _ in range(N+1)]\n",
    "    visited = [0] * (N+1)\n",
    "    cnt = 0\n",
    "    for _ in range(M):\n",
    "        start, end = map(int, input().split())\n",
    "        node[start].append(end)\n",
    "        node[end].append(start)\n",
    "    # 모든 노드를 돌면서 방문하지 않은 노드를 만났을 때, 해당 노드의 cycle 여부 탐색\n",
    "    for i in range(1, N+1):\n",
    "        if visited[i] == 0:\n",
    "            if not bfs(i):\n",
    "                cnt += 1\n",
    "    if cnt == 0:\n",
    "        print(f'Case {case}: No trees.')\n",
    "    elif cnt == 1:\n",
    "        print(f'Case {case}: There is one tree.')\n",
    "    else:\n",
    "        print(f'Case {case}: A forest of {cnt} trees.')\n",
    "    case += 1"
   ]
  }
 ],
 "metadata": {
  "kernelspec": {
   "display_name": "Python 3",
   "language": "python",
   "name": "python3"
  },
  "language_info": {
   "codemirror_mode": {
    "name": "ipython",
    "version": 3
   },
   "file_extension": ".py",
   "mimetype": "text/x-python",
   "name": "python",
   "nbconvert_exporter": "python",
   "pygments_lexer": "ipython3",
   "version": "3.9.13"
  },
  "orig_nbformat": 4
 },
 "nbformat": 4,
 "nbformat_minor": 2
}
