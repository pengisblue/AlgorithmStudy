{
 "cells": [
  {
   "cell_type": "markdown",
   "metadata": {},
   "source": [
    "### 11725 트리의 부모 찾기\n",
    "\n",
    "1. BFS를 사용하면 간단하게 해결가능\n",
    "\n",
    "2. 연결되어 있는 노드들을 1번 노드부터 탐색하는 BFS 함수 정의\n",
    "\n",
    "3. 각 노드들을 방문하면서, visited에 각 노드의 부모노드를 기록!"
   ]
  },
  {
   "cell_type": "code",
   "execution_count": null,
   "metadata": {},
   "outputs": [],
   "source": [
    "from collections import deque\n",
    "import sys\n",
    "input = sys.stdin.readline\n",
    "\n",
    "N = int(input())\n",
    "node = [[] for _ in range(N+1)]\n",
    "for _ in range(N-1):\n",
    "    start, end = map(int, input().split())\n",
    "    node[end].append(start)\n",
    "    node[start].append(end)\n",
    "# bfs 함수 정의\n",
    "def bfs(start):\n",
    "    visited = [0] * (N + 1)\n",
    "    que = deque([start])\n",
    "    visited[start] = 1\n",
    "    while que:\n",
    "        now = que.popleft()\n",
    "        for i in node[now]:\n",
    "            if not visited[i]:\n",
    "                # 부모노드 번호를 visited 행렬에 저장\n",
    "                visited[i] = now\n",
    "                que.append(i)\n",
    "    return visited[2:]\n",
    "\n",
    "print(*bfs(1), sep = '\\n')"
   ]
  }
 ],
 "metadata": {
  "kernelspec": {
   "display_name": "Python 3",
   "language": "python",
   "name": "python3"
  },
  "language_info": {
   "codemirror_mode": {
    "name": "ipython",
    "version": 3
   },
   "file_extension": ".py",
   "mimetype": "text/x-python",
   "name": "python",
   "nbconvert_exporter": "python",
   "pygments_lexer": "ipython3",
   "version": "3.9.13"
  },
  "orig_nbformat": 4
 },
 "nbformat": 4,
 "nbformat_minor": 2
}
