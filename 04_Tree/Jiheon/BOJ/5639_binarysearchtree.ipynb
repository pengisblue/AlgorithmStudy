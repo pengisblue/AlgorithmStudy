{
 "cells": [
  {
   "cell_type": "markdown",
   "metadata": {},
   "source": [
    "### 5639 이진 검색 트리\n",
    "\n",
    "1. 루트 노드를 기준으로 왼쪽의 노드들은 전부 루트 노드보다 작은 값을, 오른쪽 노드들은 전부 루트 노드보다 큰 값을 갖고 있다.\n",
    "\n",
    "2. preorder 의 맨 앞 노드(루트노드) 값을 저장하고, 각 노드를 순회하면서 루트노드보다 큰 값이 나오면, 그 전에 값까지가 왼쪽 서브트리의 원소가 그 이후의 값은 오른쪽 서브트리의 원소가 된다.\n",
    "\n",
    "3. 서브트리를 다 쪼개어 나가다가 더이상 쪼갤 수 없을 떄, 즉 왼쪽 끝으로 내려왔을 때 부터 노드를 print한다."
   ]
  },
  {
   "cell_type": "code",
   "execution_count": 4,
   "metadata": {},
   "outputs": [],
   "source": [
    "import sys\n",
    "sys.setrecursionlimit(10 ** 6)\n",
    "input = sys.stdin.readline\n",
    "\n",
    "# preorder 순서 값을 입력 받는다.\n",
    "pre = []\n",
    "while True:\n",
    "    try:\n",
    "        pre.append(int(input()))\n",
    "    except:\n",
    "        break\n",
    "\n",
    "# postorder 순서를 기록하는 함수 정의\n",
    "def post(start, end):\n",
    "    # 더 쪼갤 수 없을 떄, 재귀 함수 종료\n",
    "    if start > end:\n",
    "        return\n",
    "    # 모든 노드값이 루트노드보다 작은경우, 오른쪽 서브 트리는 없다는 뜻이기 때문에, 오른쪽에서는 바로 재귀를 종료시킬 수 있게 mid = end + 1 설정\n",
    "    mid = end + 1\n",
    "    # 순서대로 각 노드의 값을 확인하면서, 루트노드보다 큰 값이 나오면 그 값이 왼쪽/오른쪽 트리를 나누는 지점\n",
    "    for i in range(start + 1, end + 1):\n",
    "        if pre[i] > pre[start]:\n",
    "            mid = i\n",
    "            break\n",
    "    # 왼쪽트리와 오른쪽 트리를 위의 기준에 따라서 분리\n",
    "    post(start + 1, mid - 1)\n",
    "    post(mid, end)\n",
    "    print(pre[start])\n",
    "post(0, len(pre)-1)"
   ]
  }
 ],
 "metadata": {
  "kernelspec": {
   "display_name": "Python 3",
   "language": "python",
   "name": "python3"
  },
  "language_info": {
   "codemirror_mode": {
    "name": "ipython",
    "version": 3
   },
   "file_extension": ".py",
   "mimetype": "text/x-python",
   "name": "python",
   "nbconvert_exporter": "python",
   "pygments_lexer": "ipython3",
   "version": "3.9.6"
  },
  "orig_nbformat": 4
 },
 "nbformat": 4,
 "nbformat_minor": 2
}
