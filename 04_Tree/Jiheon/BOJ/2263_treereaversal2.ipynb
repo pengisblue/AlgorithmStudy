{
 "cells": [
  {
   "cell_type": "markdown",
   "metadata": {},
   "source": [
    "### 2263 트리의 순회\n",
    "\n",
    "1. inorder는 왼쪽의 서브트리를 탐색 -> 루트노드를 탐색 -> 오른쪽의 서브트리를 탐색 순서대로 탐색을 실시한다.\n",
    "\n",
    "2. postorder는 왼쪽의 서브트리를 탐색 -> 오른쪽의 서브트리를 탐색 -> 루트노드를 탐색 순서대로 탐색을 실시한다.\n",
    "\n",
    "3. postorder 가 언제나 맨 마지막에 루트노드를 탐색한다는 점을 사용하여, 현재 서브트리의 루트노드를 확인한다.\n",
    "\n",
    "4. 확인된 루트노드의 inorder 위치를 찾는다.\n",
    "\n",
    "5. 루트노드의 inorder 위치에서 왼쪽은 왼쪽 서브트리, 오른쪽은 오른쪽 서브트리이다.\n",
    "\n",
    "6. 각 서브트리의 갯수를 확인한다음, 각각의 inorder/postorder 순서를 원래 inorder/postorder 순서에서 분리해낸다.\n",
    "\n",
    "7. 더 이상 서브트리를 분리할 수 없으면, 재귀를 끝내고 상위 노드로 돌아가서 다음번 노드를 탐색한다."
   ]
  },
  {
   "cell_type": "code",
   "execution_count": 19,
   "metadata": {},
   "outputs": [
    {
     "name": "stdout",
     "output_type": "stream",
     "text": [
      "21 15 7 3 1 2 6 4 5 8 9 11 12 10 13 14 16 17 19 20 18 "
     ]
    }
   ],
   "source": [
    "import sys\n",
    "input = sys.stdin.readline\n",
    "sys.setrecursionlimit(10**6)\n",
    "\n",
    "N = int(input())\n",
    "inorder = list(map(int, input().split()))\n",
    "postorder = list(map(int, input().split()))\n",
    "\n",
    "# 미리 각 node 가 어디에 위치하는지를 기록해 놓는 것이, 나중에 매번 루트노드를 찾고 인덱스로 접근하는 것 보다 시간적으로 빠름\n",
    "nodenum = [0] * (N+1)\n",
    "for i in range(N):\n",
    "    nodenum[inorder[i]] = i\n",
    "\n",
    "def preorder(instart, inend, poststart, postend):\n",
    "    # inorder 부분집합이나, postorder 부분집합의 길이가 0이되면 재귀 종료하고 복귀\n",
    "    if instart > inend or poststart > postend:\n",
    "        return\n",
    "    # root노드의 위치를 찾음(현재 postorder 순서 맨 뒤의 원소)\n",
    "    root = postorder[postend]\n",
    "    # 루트 print\n",
    "    print(root, end = ' ')\n",
    "    # inorder 순서에서 root의 위치를 기준으로 왼쪽 서브트리 노드의 갯수와 오른쪽 서브트리 노드의 갯수를 산출해냄\n",
    "    left = nodenum[root] - instart\n",
    "    right = inend - nodenum[root]\n",
    "    # 알아낸 각 갯수를 기준으로 오른쪽 트리와 왼쪽 트리의 preorder 순서를 알아내는 함수 실행\n",
    "    preorder(instart, instart+left-1, poststart, poststart +left-1)\n",
    "    preorder(inend-right+1, inend, postend-right, postend-1)\n",
    "\n",
    "preorder(0, N-1, 0, N-1)"
   ]
  }
 ],
 "metadata": {
  "kernelspec": {
   "display_name": "Python 3",
   "language": "python",
   "name": "python3"
  },
  "language_info": {
   "codemirror_mode": {
    "name": "ipython",
    "version": 3
   },
   "file_extension": ".py",
   "mimetype": "text/x-python",
   "name": "python",
   "nbconvert_exporter": "python",
   "pygments_lexer": "ipython3",
   "version": "3.9.6"
  },
  "orig_nbformat": 4
 },
 "nbformat": 4,
 "nbformat_minor": 2
}
