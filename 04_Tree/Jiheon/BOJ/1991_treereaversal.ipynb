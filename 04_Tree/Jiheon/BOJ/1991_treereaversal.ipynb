{
 "cells": [
  {
   "cell_type": "markdown",
   "metadata": {},
   "source": [
    "### 1991 트리 순회\n",
    "\n",
    "1. 전위 순회, 중위 순회, 후위 순회에 대한 간단한 함수를 정의함으로써 해결가능\n",
    "\n",
    "2. 재귀형식으로 함수를 구성하면 됨!\n",
    "\n",
    "3. 전위순회의 경우 루트 -> 왼쪽 자식 -> 오른쪽 자식 이므로 왼쪽자식노드로 내려가면서 탐색할 때 마다 print\n",
    "\n",
    "4. 중위 순회의 경우, 왼쪽으로 끝까지 내려간다음에 탐색하므로 다 내려간 다음 오른쪽 자식 노드 탐색 전에 print\n",
    "\n",
    "5. 후위 순회의 경우 왼쪽 오른쪽 탐색 후, 본인 탐색하므로 왼쪽, 오른쪽 모두 탐색 후 탐색 결과 print"
   ]
  },
  {
   "cell_type": "code",
   "execution_count": 7,
   "metadata": {},
   "outputs": [
    {
     "name": "stdout",
     "output_type": "stream",
     "text": [
      "ABDCEFG\n",
      "DBAECFG\n",
      "DBEGFCA"
     ]
    }
   ],
   "source": [
    "N = int(input())\n",
    "node = {}\n",
    "for _ in range(N):\n",
    "    mom, left, right = input().split()\n",
    "    left = None if left == '.' else left\n",
    "    right = None if right == '.' else right\n",
    "    node[mom] = [left, right]\n",
    "\n",
    "# 전위 순회\n",
    "def preorder(now):\n",
    "    if now != None:\n",
    "        print(now, end = '')\n",
    "        preorder(node[now][0])\n",
    "        preorder(node[now][1])\n",
    "\n",
    "# 중위 순회\n",
    "def inorder(now):\n",
    "    if now != None:\n",
    "        inorder(node[now][0])\n",
    "        print(now, end = '')\n",
    "        inorder(node[now][1])\n",
    "\n",
    "# 후위 순회\n",
    "def postorder(now):\n",
    "    if now != None:\n",
    "        postorder(node[now][0])\n",
    "        postorder(node[now][1])\n",
    "        print(now, end = '')\n",
    "\n",
    "preorder('A')\n",
    "print()\n",
    "inorder('A')\n",
    "print()\n",
    "postorder('A')"
   ]
  }
 ],
 "metadata": {
  "kernelspec": {
   "display_name": "Python 3",
   "language": "python",
   "name": "python3"
  },
  "language_info": {
   "codemirror_mode": {
    "name": "ipython",
    "version": 3
   },
   "file_extension": ".py",
   "mimetype": "text/x-python",
   "name": "python",
   "nbconvert_exporter": "python",
   "pygments_lexer": "ipython3",
   "version": "3.9.13"
  },
  "orig_nbformat": 4
 },
 "nbformat": 4,
 "nbformat_minor": 2
}
