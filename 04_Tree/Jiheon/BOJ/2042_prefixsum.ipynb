{
 "cells": [
  {
   "cell_type": "markdown",
   "metadata": {},
   "source": [
    "### 2042 구간 합 구하기\n",
    "\n",
    "1. 세그먼트 트리구조를 구하여, 각 노드에 각 구간합을 더함.\n",
    "\n",
    "2. 구간합을 구하고자 하는 list를 최대한으로 분할하는 깊이의 길이만큼 트리 리스트를 할당(원 리스트가 6개라면, 2 ** 3 의 2 배인 16으로 길이를 정함)\n",
    "\n",
    "3. 원 리스트는 트리 리스트의 리프 노드에 저장하면 된다.(6 개의 경우 2 ** 3 부터 시작)\n",
    "\n",
    "4. 리프 노드의 시작점 -1 (i 라고 가정) 에서 순차적으로 i = (2 * i)  + (2 * i + 1) 를 할당\n",
    "\n",
    "5. 값이 변화하면, 리프노드(idx = i)의 값을 변화시키고, i //= 2 로 인덱스를 감소시키면 변화 값을 빼거나 더해주면 됨\n",
    "\n",
    "6. 구간합의 경우, 리프노드의 인덱스에서 시작하여, 부모노드로 계속 이동시키면서 값들을 더한다. "
   ]
  },
  {
   "cell_type": "code",
   "execution_count": 5,
   "metadata": {},
   "outputs": [
    {
     "name": "stdout",
     "output_type": "stream",
     "text": [
      "17\n",
      "12\n"
     ]
    }
   ],
   "source": [
    "N, M, K = map(int, input().split())\n",
    "treeHeight = 0\n",
    "length = N\n",
    "\n",
    "while length != 0:\n",
    "    length //= 2\n",
    "    treeHeight += 1\n",
    "\n",
    "treesize = 2 ** (treeHeight + 1)\n",
    "startidx = treesize // 2 - 1\n",
    "tree = [0] * (treesize + 1)\n",
    "\n",
    "for i in range(startidx + 1, startidx + N + 1):\n",
    "    tree[i] = int(input())\n",
    "\n",
    "def settree(i):\n",
    "    while i != 1:\n",
    "        tree[i // 2] += tree[i]\n",
    "        i -= 1\n",
    "\n",
    "settree(treesize - 1)\n",
    "\n",
    "def changval(idx, val):\n",
    "    diff = val - tree[idx]\n",
    "    while idx > 0:\n",
    "        tree[idx] = tree[idx] + diff\n",
    "        idx = idx // 2\n",
    "\n",
    "def getsum(start, end):\n",
    "    partsum = 0\n",
    "    while start <= end:\n",
    "        if start % 2 == 1:\n",
    "            partsum += tree[start]\n",
    "            start += 1\n",
    "        if end % 2 == 0:\n",
    "            partsum += tree[end]\n",
    "            end -= 1\n",
    "        start = start // 2\n",
    "        end = end // 2\n",
    "    return partsum\n",
    "\n",
    "for _ in range(M+K):\n",
    "    a, b, c = map(int, input().split())\n",
    "    if a == 1:\n",
    "        changval(startidx + b, c)\n",
    "    elif a == 2:\n",
    "        b = b + startidx\n",
    "        c = c + startidx\n",
    "        print(getsum(b, c))\n"
   ]
  }
 ],
 "metadata": {
  "kernelspec": {
   "display_name": "Python 3",
   "language": "python",
   "name": "python3"
  },
  "language_info": {
   "codemirror_mode": {
    "name": "ipython",
    "version": 3
   },
   "file_extension": ".py",
   "mimetype": "text/x-python",
   "name": "python",
   "nbconvert_exporter": "python",
   "pygments_lexer": "ipython3",
   "version": "3.9.13"
  },
  "orig_nbformat": 4
 },
 "nbformat": 4,
 "nbformat_minor": 2
}
