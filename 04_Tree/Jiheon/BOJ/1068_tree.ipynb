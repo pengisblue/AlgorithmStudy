{
 "cells": [
  {
   "cell_type": "markdown",
   "metadata": {},
   "source": [
    "### 1068 트리\n",
    "\n",
    "1. 없앨 노드와 그 노드를 부모로 하는 모든 노드를 없애는 함수를 재귀함수로 구성\n",
    "\n",
    "2. 다시 노드 리스트를 순회하면서, 없어지지 않았으면서 자기를 부모로 하는 노드가 없는 노드들의 개수를 셈"
   ]
  },
  {
   "cell_type": "code",
   "execution_count": 18,
   "metadata": {},
   "outputs": [
    {
     "name": "stdout",
     "output_type": "stream",
     "text": [
      "2\n"
     ]
    }
   ],
   "source": [
    "N = int(input())\n",
    "nodes = list(map(int, input().split()))\n",
    "idx = int(input())\n",
    "\n",
    "# 없앨 노드를 재귀적으로 모두 없애는 함수 정의\n",
    "def dfs(idx, node):\n",
    "    node[idx] = -2\n",
    "    # 없앤 노드를 부모로 하는 모든 노드를 없앨 수 있게 재귀함수로 구성\n",
    "    for i in range(N):\n",
    "        if node[i] == idx:\n",
    "            dfs(i, node)\n",
    "\n",
    "dfs(idx, nodes)\n",
    "cnt = 0\n",
    "# 노드 리스트를 돌면서 사라지지 않으면서 자신을 부모노드로 하는 노드가 없는 노드를 셈\n",
    "for i in range(N):\n",
    "    if nodes[i] != -2:\n",
    "        if i not in nodes:\n",
    "            cnt += 1\n",
    "\n",
    "print(cnt)"
   ]
  }
 ],
 "metadata": {
  "kernelspec": {
   "display_name": "Python 3",
   "language": "python",
   "name": "python3"
  },
  "language_info": {
   "codemirror_mode": {
    "name": "ipython",
    "version": 3
   },
   "file_extension": ".py",
   "mimetype": "text/x-python",
   "name": "python",
   "nbconvert_exporter": "python",
   "pygments_lexer": "ipython3",
   "version": "3.9.13"
  },
  "orig_nbformat": 4
 },
 "nbformat": 4,
 "nbformat_minor": 2
}
