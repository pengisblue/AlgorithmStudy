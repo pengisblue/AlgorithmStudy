{
 "cells": [
  {
   "cell_type": "markdown",
   "metadata": {},
   "source": [
    "# 0x05강 - 스택\n",
    "### 특징\n",
    "  1. 한쪽 끝에서만 자료를 넣거나 뺄 수 있는 자료구조(FILO 자료구조)\n",
    "\n",
    "  2. 원소의 추가가 O(1), 제거가 O(1) 제일 상단의 원소 확인이 O(1)\n",
    "\n",
    "  3. 상단이 아닌 나머지 원소들의 확인/변경이 원칙적으로 불가능"
   ]
  },
  {
   "cell_type": "markdown",
   "metadata": {},
   "source": [
    "### 구현\n",
    "  1. 연결 리스트 혹은 배열로 구현이 가능함\n",
    "\n",
    "  2. 파이썬에서는 리스트를 이용하여 스택을 흉내냄.\n",
    "\n",
    "  3. 따로 스택 라이브러리 존재 x, 보통 덱 라이브러리를 import 해서 사용"
   ]
  },
  {
   "cell_type": "code",
   "execution_count": 5,
   "metadata": {},
   "outputs": [
    {
     "data": {
      "text/plain": [
       "True"
      ]
     },
     "execution_count": 5,
     "metadata": {},
     "output_type": "execute_result"
    }
   ],
   "source": [
    "class stack:\n",
    "    # 리스트를 이용한 스택 구현\n",
    "    def __init__(self):\n",
    "        self.top = []\n",
    "    # 스택 크기 반환\n",
    "    def __len__(self) -> bool :\n",
    "        return len(self.top)\n",
    "    def __str__(self) -> str :\n",
    "        return str(self.top[::1])\n",
    "\n",
    "\n",
    "    # 구현함수\n",
    "    # 스택에 원소 삽입\n",
    "    def push(self, item):\n",
    "        self.top.append(item)\n",
    "    # 스택 가장 위에 있는 원소를 삭제/반환\n",
    "    def pop(self):\n",
    "        if not self.isEmpty():\n",
    "            return self.top.pop(-1)\n",
    "        else:\n",
    "            print('Stack underflow')\n",
    "            exit()\n",
    "    #스택 가장 위에 있는 원소를 반환\n",
    "    def peek(self):\n",
    "        if not self.isEmpty():\n",
    "            return self.top[-1]\n",
    "        else:\n",
    "            print('underflow')\n",
    "            exit()\n",
    "    # 스택이 비어있는지를 bool값으로 반환\n",
    "    def isEmpty(self) -> bool :\n",
    "        return len(self.top) == 0\n",
    "\n"
   ]
  }
 ],
 "metadata": {
  "kernelspec": {
   "display_name": "Python 3",
   "language": "python",
   "name": "python3"
  },
  "language_info": {
   "codemirror_mode": {
    "name": "ipython",
    "version": 3
   },
   "file_extension": ".py",
   "mimetype": "text/x-python",
   "name": "python",
   "nbconvert_exporter": "python",
   "pygments_lexer": "ipython3",
   "version": "3.9.13"
  },
  "orig_nbformat": 4
 },
 "nbformat": 4,
 "nbformat_minor": 2
}
