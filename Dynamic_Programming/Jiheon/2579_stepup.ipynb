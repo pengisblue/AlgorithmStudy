{
 "cells": [
  {
   "cell_type": "markdown",
   "metadata": {},
   "source": [
    "### 2579 계단 오르기\n",
    "\n",
    "1. 간단한 DP + 점화식 찾기 문제\n",
    "\n",
    "2. 점화식 -> 해당 계단을 기준으로 이전에 연속으로 2번을 계단을 오르면 안된다.\n",
    "\n",
    "3. (3번전의 누적합 + 1번전의 계단 + 지금 계단) vs (2번전의 누적합 + 지금 계단) 중 더 큰 것을 지금 계단에 할당"
   ]
  },
  {
   "cell_type": "code",
   "execution_count": 18,
   "metadata": {},
   "outputs": [
    {
     "name": "stdout",
     "output_type": "stream",
     "text": [
      "75\n"
     ]
    }
   ],
   "source": [
    "N = int(input())\n",
    "# 각계단의 점수 값을 할당하고 dp 용 리스트도 하나 만듬\n",
    "step = [int(input()) for _ in range(N)]\n",
    "score = [0 for _ in range(N)]\n",
    "# 만약 계단이 한개/두개만 있을 경우 모든 계단을 밟는게 최댓값\n",
    "if N < 3:\n",
    "    print(sum(step))\n",
    "# 현재 계단에서 이전에 밟아왔던 계단의 경우의 수는 2개\n",
    "# 1번 전 + (2번 전은 뛰어넘고) + 3번전 vs (1번 전은 뛰어넘고) + 2번 전 + 3번 전\n",
    "else:\n",
    "    score[0] = step[0]\n",
    "    score[1] = step[1] + step[0]\n",
    "    # 경우의 수중 더 큰 값을 dp 상의 해당 좌표에 할당\n",
    "    for i in range(2, N):\n",
    "        score[i] = max(score[i-3] + step[i-1] + step[i], score[i-2]+step[i])\n",
    "    # 마지막 좌표값 출력\n",
    "    print(score[-1])"
   ]
  }
 ],
 "metadata": {
  "kernelspec": {
   "display_name": "Python 3",
   "language": "python",
   "name": "python3"
  },
  "language_info": {
   "codemirror_mode": {
    "name": "ipython",
    "version": 3
   },
   "file_extension": ".py",
   "mimetype": "text/x-python",
   "name": "python",
   "nbconvert_exporter": "python",
   "pygments_lexer": "ipython3",
   "version": "3.9.13"
  },
  "orig_nbformat": 4
 },
 "nbformat": 4,
 "nbformat_minor": 2
}
