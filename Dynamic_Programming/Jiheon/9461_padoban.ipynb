{
 "cells": [
  {
   "cell_type": "markdown",
   "metadata": {},
   "source": [
    "### 9461 파도반 수열\n",
    "\n",
    "1. 점화식만 찾으면 DP로 간단화게 풀리는 문제\n",
    "\n",
    "2. 점화식 -> (i-1) + (i-5)"
   ]
  },
  {
   "cell_type": "code",
   "execution_count": 3,
   "metadata": {},
   "outputs": [
    {
     "name": "stdout",
     "output_type": "stream",
     "text": [
      "3\n",
      "16\n"
     ]
    }
   ],
   "source": [
    "T = int(input())\n",
    "dp = [0] * 101\n",
    "# 초기값 미리 할당\n",
    "dp[1] = 1\n",
    "dp[2] = 1\n",
    "dp[3] = 1\n",
    "dp[4] = 2\n",
    "dp[5] = 2\n",
    "for t in range(T):\n",
    "    N = int(input())\n",
    "    for i in range(5, N+1):\n",
    "        dp[i] = dp[i-1] + dp[i-5]\n",
    "    print(dp[N])"
   ]
  }
 ],
 "metadata": {
  "kernelspec": {
   "display_name": "Python 3",
   "language": "python",
   "name": "python3"
  },
  "language_info": {
   "codemirror_mode": {
    "name": "ipython",
    "version": 3
   },
   "file_extension": ".py",
   "mimetype": "text/x-python",
   "name": "python",
   "nbconvert_exporter": "python",
   "pygments_lexer": "ipython3",
   "version": "3.9.13"
  },
  "orig_nbformat": 4
 },
 "nbformat": 4,
 "nbformat_minor": 2
}
