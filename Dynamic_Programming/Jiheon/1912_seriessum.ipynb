{
 "cells": [
  {
   "cell_type": "markdown",
   "metadata": {},
   "source": [
    "### 1912 연속합\n",
    "\n",
    "1. 수열 자체를 dp 로 만들어서 해결 가능\n",
    "\n",
    "2. 맨 처음부터 시작한다. i 번째 데이터 이전까지 합을 계산하여 최댓값을 기록\n",
    "\n",
    "3. 만약 i 번째 데이터가 이전까지의 합과 i 번째 데이터를 합친거보다 크다면, 다시 i 번째 데이터에서부터 더해나간다.\n",
    "\n",
    "4. 끝까지 순회한다음, 가장 큰 값을 print 하면 됨!\n"
   ]
  },
  {
   "cell_type": "code",
   "execution_count": null,
   "metadata": {},
   "outputs": [],
   "source": [
    "N = int(input())\n",
    "dp = list(map(int, input().split()))\n",
    "for i in range(1, N):\n",
    "    dp[i] = max(dp[i], dp[i] + dp[i-1])\n",
    "print(max(dp))"
   ]
  }
 ],
 "metadata": {
  "kernelspec": {
   "display_name": "Python 3",
   "language": "python",
   "name": "python3"
  },
  "language_info": {
   "codemirror_mode": {
    "name": "ipython",
    "version": 3
   },
   "file_extension": ".py",
   "mimetype": "text/x-python",
   "name": "python",
   "nbconvert_exporter": "python",
   "pygments_lexer": "ipython3",
   "version": "3.9.13"
  },
  "orig_nbformat": 4
 },
 "nbformat": 4,
 "nbformat_minor": 2
}
