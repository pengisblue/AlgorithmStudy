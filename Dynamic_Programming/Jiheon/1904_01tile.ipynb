{
 "cells": [
  {
   "cell_type": "markdown",
   "metadata": {},
   "source": [
    "### 1904 01타일\n",
    "\n",
    "1. 점화식만 찾고 나면, DP 로 굉장히 간단히 풀 수 있음\n",
    "\n",
    "2. 피보나치 수열과 굉장히 유사한 점화식을 갖고 있음(1 -> 1, 2 -> 2, 3부터는 (i-1) + (i-2))"
   ]
  },
  {
   "cell_type": "code",
   "execution_count": 6,
   "metadata": {},
   "outputs": [
    {
     "name": "stdout",
     "output_type": "stream",
     "text": [
      "5\n"
     ]
    }
   ],
   "source": [
    "N = int(input())\n",
    "dp = [0] * 1000001\n",
    "dp[1] = 1\n",
    "dp[2] = 2\n",
    "# 점화식을 DP 를 이용하여 계산하면 된다.\n",
    "for i in range(3, N+1):\n",
    "    dp[i] = (dp[i-1] + dp[i-2]) % 15746\n",
    "print(dp[N])"
   ]
  }
 ],
 "metadata": {
  "kernelspec": {
   "display_name": "Python 3",
   "language": "python",
   "name": "python3"
  },
  "language_info": {
   "codemirror_mode": {
    "name": "ipython",
    "version": 3
   },
   "file_extension": ".py",
   "mimetype": "text/x-python",
   "name": "python",
   "nbconvert_exporter": "python",
   "pygments_lexer": "ipython3",
   "version": "3.9.13"
  },
  "orig_nbformat": 4
 },
 "nbformat": 4,
 "nbformat_minor": 2
}
