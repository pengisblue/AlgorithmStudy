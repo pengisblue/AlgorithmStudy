{
 "cells": [
  {
   "cell_type": "markdown",
   "metadata": {},
   "source": [
    "### 1149 RGB 거리\n",
    "\n",
    "1. 첫번째 집은 원래의 행렬의 값 그대로\n",
    "\n",
    "2. 두번째 집부터는 이전 집과 다른색을 칠하는 경우 중 더 적은 값 + 해당집의 값으로 값 할당\n",
    "\n",
    "3. 행렬의 맨 뒷값 중 최솟값이 모든 집을 칠하는 경우의 수 중 "
   ]
  },
  {
   "cell_type": "code",
   "execution_count": 12,
   "metadata": {},
   "outputs": [
    {
     "name": "stdout",
     "output_type": "stream",
     "text": [
      "208\n"
     ]
    }
   ],
   "source": [
    "N = int(input())\n",
    "rgb = [list(map(int, input().split())) for _ in range(N)]\n",
    "for i in range(1, N):\n",
    "    # 이전 집과 다른 색으로 집을 색칠하는 비용 중 최소 + 현재 집을 칠하는 비용 할당\n",
    "    rgb[i][0] += min(rgb[i-1][1], rgb[i-1][2])\n",
    "    rgb[i][1] += min(rgb[i-1][0], rgb[i-1][2])\n",
    "    rgb[i][2] += min(rgb[i-1][1], rgb[i-1][0])\n",
    "# 맨마지막 리스트(모든 집을 색칠함)의 최솟값이 모든 칠할 집들의 비용의 최솟값\n",
    "print(min(rgb[-1]))"
   ]
  }
 ],
 "metadata": {
  "kernelspec": {
   "display_name": "Python 3",
   "language": "python",
   "name": "python3"
  },
  "language_info": {
   "codemirror_mode": {
    "name": "ipython",
    "version": 3
   },
   "file_extension": ".py",
   "mimetype": "text/x-python",
   "name": "python",
   "nbconvert_exporter": "python",
   "pygments_lexer": "ipython3",
   "version": "3.9.13"
  },
  "orig_nbformat": 4
 },
 "nbformat": 4,
 "nbformat_minor": 2
}
