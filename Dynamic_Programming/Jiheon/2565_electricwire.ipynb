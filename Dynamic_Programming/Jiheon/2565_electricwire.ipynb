{
 "cells": [
  {
   "cell_type": "markdown",
   "metadata": {},
   "source": [
    "### 2565 전깃줄\n",
    "\n",
    "1. LIS 응용문제임 -> A 를 크기순으로 나열했을 때, 가장 긴 LIS 가 겹치지 않는 전깃줄의 최댓값\n",
    "\n",
    "2. 총 전깃줄의 갯수 - LIS 를 하면 정답을 구할 수 있음!"
   ]
  },
  {
   "cell_type": "code",
   "execution_count": 38,
   "metadata": {},
   "outputs": [
    {
     "name": "stdout",
     "output_type": "stream",
     "text": [
      "[1, 1, 2, 1, 2, 3, 4, 5]\n",
      "3\n"
     ]
    }
   ],
   "source": [
    "N = int(input())\n",
    "wire = [list(map(int, input().split())) for _ in range(N)]\n",
    "wire.sort()\n",
    "\n",
    "dp = [1] * (N)\n",
    "for i in range(1, N):\n",
    "    for j in range(i):\n",
    "        if wire[j][1] < wire[i][1]:\n",
    "            dp[i] = max(dp[j] + 1, dp[i])\n",
    "\n",
    "print(N - max(dp))\n",
    "    "
   ]
  }
 ],
 "metadata": {
  "kernelspec": {
   "display_name": "Python 3",
   "language": "python",
   "name": "python3"
  },
  "language_info": {
   "codemirror_mode": {
    "name": "ipython",
    "version": 3
   },
   "file_extension": ".py",
   "mimetype": "text/x-python",
   "name": "python",
   "nbconvert_exporter": "python",
   "pygments_lexer": "ipython3",
   "version": "3.9.13"
  },
  "orig_nbformat": 4
 },
 "nbformat": 4,
 "nbformat_minor": 2
}
