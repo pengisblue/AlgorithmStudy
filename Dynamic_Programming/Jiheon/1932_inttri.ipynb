{
 "cells": [
  {
   "cell_type": "markdown",
   "metadata": {},
   "source": [
    "### 1932 정수 삼각형\n",
    "\n",
    "1. 맨위에서부터 내려가면서 누적으로 가질 수 있는 값들 중 최댓값을 더하면서 내려가면 된다.\n",
    "\n",
    "2. 맨 위를 제외하고, 현재 위치에서 가질 수 있는 값은 왼쪽값이거나 오른쪽값이다.\n",
    "\n",
    "3. 둘을 비교해서 더 큰 값을 현재 위치에 누적시키는 방법을 통해서 문제 해결이 가능하다."
   ]
  },
  {
   "cell_type": "code",
   "execution_count": 11,
   "metadata": {},
   "outputs": [
    {
     "name": "stdout",
     "output_type": "stream",
     "text": [
      "30\n"
     ]
    }
   ],
   "source": [
    "N = int(input())\n",
    "tri = [list(map(int, input().split())) for _ in range(N)]\n",
    "\n",
    "# 맨 위를 제외한 두 번째 층부터 시작해서 각 좌표별 누적합을 구한다.\n",
    "for i in range(1, N):\n",
    "    for j in range(len(tri[i])):\n",
    "        # 현재 위치에서 가질 수 있는 값은 위 층의 왼쪽/오른쪽 값이다.\n",
    "        left, right = 0, 0\n",
    "        if 0 <= j-1 < len(tri[i-1]):\n",
    "            left = tri[i-1][j-1]\n",
    "        if j < len(tri[i-1]):\n",
    "            right = tri[i-1][j]\n",
    "        # 가질 수 있는 왼쪽 오른쪽 값중 큰 값을 현재 좌표에 더해줌\n",
    "        tri[i][j] += max(left, right)\n",
    "print(max(tri[-1]))"
   ]
  }
 ],
 "metadata": {
  "kernelspec": {
   "display_name": "Python 3",
   "language": "python",
   "name": "python3"
  },
  "language_info": {
   "codemirror_mode": {
    "name": "ipython",
    "version": 3
   },
   "file_extension": ".py",
   "mimetype": "text/x-python",
   "name": "python",
   "nbconvert_exporter": "python",
   "pygments_lexer": "ipython3",
   "version": "3.9.13"
  },
  "orig_nbformat": 4
 },
 "nbformat": 4,
 "nbformat_minor": 2
}
