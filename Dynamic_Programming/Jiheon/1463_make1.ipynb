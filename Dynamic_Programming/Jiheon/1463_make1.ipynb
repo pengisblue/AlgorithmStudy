{
 "cells": [
  {
   "cell_type": "markdown",
   "metadata": {},
   "source": [
    "### 1463 1로 만들기\n",
    "\n",
    "1. 바텀업, 탑다운 다 가능!\n",
    "\n",
    "2. 바텀업의 경우 반대로 1에서 곱하면서 N을 찾아나가면됨\n",
    "\n",
    "3. 해당 숫자에서 + 1 한 값과 * 2 한 값과 * 3 한 값을 방문함.\n",
    "\n",
    "4. 방문한 적이 없다면, 현재 좌표가 갖고 있던 횟수 + 1 할당\n",
    "\n",
    "5. 방문한 적이 있다면, min(현재 좌표가 갖고 있던 횟수 + 1, 원래 방문때의 횟수)\n",
    "\n",
    "6. 탑다운의 경우, 현재 좌표에서 -1, // 2, // 3 한 값을 전부방문(나누어 떨어지는 경우에만)\n",
    "\n",
    "7. 세 경우 모두를 고려하여, 세 경우 중 가장 작은 값을 해당 좌표에 할당한다."
   ]
  },
  {
   "cell_type": "code",
   "execution_count": null,
   "metadata": {},
   "outputs": [],
   "source": [
    "N = int(input())\n",
    "# dp list 할당\n",
    "dp = [0] * (N + 1)\n",
    "for i in range(1, N+1):\n",
    "    # i * 3 이 목표보다 작거나 같을 때\n",
    "    if i * 3 < N + 1:\n",
    "        # 방문한적이 없다면, 현재좌표 상에 저장된 횟수 할당\n",
    "        if not dp[i*3]:\n",
    "            dp[i*3] = dp[i] + 1\n",
    "        # 아니면, 비교해서 더 작은 값을 할당\n",
    "        else:\n",
    "            dp[i*3] = min(dp[i*3], dp[i]+1)\n",
    "    if i * 2 < N + 1:\n",
    "        if not dp[i*2]:\n",
    "            dp[i*2] = dp[i] + 1\n",
    "        else:\n",
    "            dp[i*2] = min(dp[i] + 1, dp[i*2])\n",
    "    if i + 1 < N + 1:\n",
    "        if not dp[i+1]:\n",
    "            dp[i+1] = dp[i] + 1\n",
    "        else:\n",
    "            dp[i+1] = min(dp[i] + 1, dp[i+1])\n",
    "print(dp[-1])"
   ]
  },
  {
   "cell_type": "code",
   "execution_count": null,
   "metadata": {},
   "outputs": [],
   "source": [
    "N = int(input())\n",
    "# dp list 할당\n",
    "dp = [0] * (N+1)\n",
    "for i in range(2, N+1):\n",
    "    # 현재 위치에서 일단 1을 뺀 값의 횟수를 할당\n",
    "    dp[i] = dp[i-1] + 1\n",
    "    # 2로 나눌 수 있을경우, 3으로 나눌 수 있을경우를 고려해서 가장 작은 수로 갱신\n",
    "    if i % 2 == 0:\n",
    "        dp[i] = min(dp[i], dp[i//2] + 1)\n",
    "    if i % 3 == 0:\n",
    "        dp[i] = min(dp[i], dp[i//3]+1)\n",
    "print(dp[-1])"
   ]
  }
 ],
 "metadata": {
  "kernelspec": {
   "display_name": "Python 3",
   "language": "python",
   "name": "python3"
  },
  "language_info": {
   "codemirror_mode": {
    "name": "ipython",
    "version": 3
   },
   "file_extension": ".py",
   "mimetype": "text/x-python",
   "name": "python",
   "nbconvert_exporter": "python",
   "pygments_lexer": "ipython3",
   "version": "3.9.13"
  },
  "orig_nbformat": 4
 },
 "nbformat": 4,
 "nbformat_minor": 2
}
