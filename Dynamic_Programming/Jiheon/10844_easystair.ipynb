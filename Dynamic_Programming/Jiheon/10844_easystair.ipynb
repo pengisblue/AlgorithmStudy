{
 "cells": [
  {
   "cell_type": "markdown",
   "metadata": {},
   "source": [
    "### 10844 쉬운 계단 수\n",
    "\n",
    "1. 이전 자릿수에 대해서 0과 9가 나오면 이후에 올 수 있는 수는 하나밖에 없음\n",
    "\n",
    "2. 나머지 숫자는 이후에 2개의 숫자가 올 수 있음\n",
    "\n",
    "3. 2차원 리스트를 구성 x -> 해당 좌표에 들어오는 숫자 y -> 숫자의 자리수\n",
    "\n",
    "4. 첫째수는 1 ~ 9 만이 들어올 수 있음\n",
    "\n",
    "5. 그 이후부터는 0 과 9 면 이전 자릿수의 경우의 수를 더해주고 다른 숫자라면 이전 자릿수 -1 +1 의 숫자를 더해주면 된다."
   ]
  },
  {
   "cell_type": "code",
   "execution_count": 39,
   "metadata": {},
   "outputs": [
    {
     "name": "stdout",
     "output_type": "stream",
     "text": [
      "18404112\n"
     ]
    }
   ],
   "source": [
    "N = int(input())\n",
    "dp = [[0 for _ in range(11)] for _ in range(N+1)]\n",
    "# 첫자리에는 1 - 9 만이 들어올 수 있음\n",
    "for i in range(1, 10):\n",
    "    dp[1][i] = 1\n",
    "# 그 다음자리 숫자부터는 경우의 수를 전부 고려함\n",
    "for i in range(2, N+1):\n",
    "    for j in range(10):\n",
    "        # 숫자가 0이거나 9일때는 경우의 수는 하나밖에 없음\n",
    "        if j == 0 or j == 9:\n",
    "            dp[i][j] = dp[i-1][abs(j-1)]\n",
    "        # 다른 숫자일 경우 이전 자릿 수의 -1, +1 한 숫자에 저장되어 있는 경우의 수를 더해줌\n",
    "        else:\n",
    "            dp[i][j] = dp[i-1][j-1] + dp[i-1][j+1]\n",
    "            \n",
    "print(sum(dp[-1]) % 10 ** 9)        "
   ]
  }
 ],
 "metadata": {
  "kernelspec": {
   "display_name": "Python 3",
   "language": "python",
   "name": "python3"
  },
  "language_info": {
   "codemirror_mode": {
    "name": "ipython",
    "version": 3
   },
   "file_extension": ".py",
   "mimetype": "text/x-python",
   "name": "python",
   "nbconvert_exporter": "python",
   "pygments_lexer": "ipython3",
   "version": "3.9.13"
  },
  "orig_nbformat": 4
 },
 "nbformat": 4,
 "nbformat_minor": 2
}
