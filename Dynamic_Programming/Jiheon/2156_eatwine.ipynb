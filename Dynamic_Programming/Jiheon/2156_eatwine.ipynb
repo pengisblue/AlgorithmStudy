{
 "cells": [
  {
   "cell_type": "markdown",
   "metadata": {},
   "source": [
    "### 2156 포도주 시식\n",
    "\n",
    "1. 현재좌표에서 포도주를 먹지 않는 것이 더 이득인 경우가 있음!!(전전과 전을 먹는 것이 더 이득인 경우)\n",
    "\n",
    "2. 이를 고려해서 dp 행렬을 구성하는 것이 중요함\n",
    "  \n",
    "3. 현재를 기준으로 전전을 안마시는 경우, 전을 안마시는 경우, 그리고 지금 안마시는 경우로 나누어 DP에 최댓값을 저장"
   ]
  },
  {
   "cell_type": "code",
   "execution_count": null,
   "metadata": {},
   "outputs": [],
   "source": [
    "N = int(input())\n",
    "wine = [int(input()) for _ in range(N)]\n",
    "# 와인이 3개 미만인 경우에는 다 마시는 것이 이득\n",
    "if N < 3:\n",
    "    print(sum(wine))\n",
    "# 3개 전까지 확인해야 하므로 1, 2, 3번째 와인은 직접 입력\n",
    "else:\n",
    "    dp = [0] * (N)\n",
    "    dp[0] = wine[0]\n",
    "    dp[1] = wine[1] + dp[0]\n",
    "    dp[2] = max(wine[2] + wine[0], wine[2] + wine[1], dp[1])\n",
    "    # 3부터 출발 전전을 마시지 않는것, 전을 마시지 않는것, 지금와인을 마시지 않는 것으로 나누어서 최댓값을 DP에 저장\n",
    "    for i in range(3, N):\n",
    "        dp[i] = max(dp[i-2] + wine[i], wine[i-1] + wine[i] + dp[i-3], dp[i-1])\n",
    "    print(dp[-1])"
   ]
  }
 ],
 "metadata": {
  "kernelspec": {
   "display_name": "Python 3",
   "language": "python",
   "name": "python3"
  },
  "language_info": {
   "codemirror_mode": {
    "name": "ipython",
    "version": 3
   },
   "file_extension": ".py",
   "mimetype": "text/x-python",
   "name": "python",
   "nbconvert_exporter": "python",
   "pygments_lexer": "ipython3",
   "version": "3.9.13"
  },
  "orig_nbformat": 4
 },
 "nbformat": 4,
 "nbformat_minor": 2
}
