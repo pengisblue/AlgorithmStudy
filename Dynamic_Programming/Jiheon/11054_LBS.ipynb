{
 "cells": [
  {
   "cell_type": "markdown",
   "metadata": {},
   "source": [
    "### 11054 가장 긴 바이토닉 부분 수열\n",
    "\n",
    "1. 특정 위치를 기준으로 왼쪽의 증가 수열, 오른쪽의 감소 수열을 각각 계산해서 각각의 dp에 더한다.\n",
    "\n",
    "2. 두개의 dp 순열을 순회하면서(decrease는 반대로 순회) 둘의 합이 최대가 되는 지점을 print"
   ]
  },
  {
   "cell_type": "code",
   "execution_count": 24,
   "metadata": {},
   "outputs": [
    {
     "name": "stdout",
     "output_type": "stream",
     "text": [
      "7\n"
     ]
    }
   ],
   "source": [
    "N = int(input())\n",
    "nums = list(map(int, input().split()))\n",
    "dp = [1] * N\n",
    "dp_de = [1] * N\n",
    "rlt = []\n",
    "for i in range(len(nums)):\n",
    "    for j in range(i):\n",
    "        if nums[j] < nums[i]:\n",
    "            dp[i] = max(dp[j] + 1, dp[i])\n",
    "        if nums[N-j-1] < nums[N-i-1]:\n",
    "            dp_de[i] = max(dp_de[j]+1, dp_de[i])\n",
    "for i in range(N):\n",
    "    rlt.append(dp[i] + dp_de[N-i-1])\n",
    "print(max(rlt) - 1)"
   ]
  }
 ],
 "metadata": {
  "kernelspec": {
   "display_name": "Python 3",
   "language": "python",
   "name": "python3"
  },
  "language_info": {
   "codemirror_mode": {
    "name": "ipython",
    "version": 3
   },
   "file_extension": ".py",
   "mimetype": "text/x-python",
   "name": "python",
   "nbconvert_exporter": "python",
   "pygments_lexer": "ipython3",
   "version": "3.9.13"
  },
  "orig_nbformat": 4
 },
 "nbformat": 4,
 "nbformat_minor": 2
}
