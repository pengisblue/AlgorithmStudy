{
 "cells": [
  {
   "cell_type": "markdown",
   "metadata": {},
   "source": [
    "### 9251 LCS\n",
    "\n",
    "1. 두개의 문자열을 비교하는 문제이다.\n",
    "\n",
    "2. DP 행렬을 2차원으로 구성하여 DP[i][j] 에 str1 의 i 번째 문자와 str2 의 j 번째 문자를 비교할 수 있도록 구성\n",
    "\n",
    "3. 만약 둘이 같다면, DP[i][j] 에 DP[i-1][j-1] +1 을 해주고, 아니라면 DP[i][j-1] / DP[i-1][j] 중 큰 값을 할당한다."
   ]
  },
  {
   "cell_type": "code",
   "execution_count": 11,
   "metadata": {},
   "outputs": [
    {
     "name": "stdout",
     "output_type": "stream",
     "text": [
      "4\n"
     ]
    }
   ],
   "source": [
    "str1 = input()\n",
    "str2 = input()\n",
    "dp = [[0 for _ in range(len(str2) + 1)] for _ in range(len(str1) + 1)]\n",
    "# 문자열을 모두 순회하면서 LCS 정보를 DP 에 저장\n",
    "for i in range(1, len(str1)+1):\n",
    "    for j in range(1, len(str2)+1):\n",
    "        # 만약 두 문자가 같다면, DP 행렬의 i, j 에 저장\n",
    "        if str1[i-1] == str2[j-1]:\n",
    "            dp[i][j] = dp[i-1][j-1] + 1\n",
    "        # 다르다면, [i-1][j] / [i][j-1] 둘중에 큰 값으로 dp[i][j] 갱신\n",
    "        else:\n",
    "            dp[i][j] = max(dp[i-1][j], dp[i][j-1])\n",
    "print(dp[-1][-1])"
   ]
  }
 ],
 "metadata": {
  "kernelspec": {
   "display_name": "Python 3",
   "language": "python",
   "name": "python3"
  },
  "language_info": {
   "codemirror_mode": {
    "name": "ipython",
    "version": 3
   },
   "file_extension": ".py",
   "mimetype": "text/x-python",
   "name": "python",
   "nbconvert_exporter": "python",
   "pygments_lexer": "ipython3",
   "version": "3.9.13"
  },
  "orig_nbformat": 4
 },
 "nbformat": 4,
 "nbformat_minor": 2
}
