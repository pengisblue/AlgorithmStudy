{
 "cells": [
  {
   "cell_type": "markdown",
   "metadata": {},
   "source": [
    "### 9184 신나는 함수 실행\n",
    "\n",
    "1. DP 로 간단하게 해결가능\n",
    "\n",
    "2. 원 재귀함수의 입력값이 3개 이기 때문에, 각각의 입력값을 DP의 차원으로 사용, abc가 모두 같은 값이 들어왔을 때, 연산없이 바로 사용가능하도록 dp[a][b][c] 에 저장"
   ]
  },
  {
   "cell_type": "code",
   "execution_count": null,
   "metadata": {},
   "outputs": [],
   "source": [
    "# 원 재귀함수 정의\n",
    "def w(a, b, c):\n",
    "    if a <= 0 or b <= 0 or c <= 0:\n",
    "        return 1\n",
    "    if a > 20 or b > 20 or c > 20:\n",
    "        return w(20, 20, 20)\n",
    "    # 이전에 계산을 한 적 있었던 입력값이라면, 재귀함수를 사용할 필요없이 바로 DP 내에서 호출\n",
    "    if dp[a][b][c]:\n",
    "        return dp[a][b][c]\n",
    "    if a < b < c:\n",
    "        dp[a][b][c] = w(a, b, c-1) + w(a, b-1, c-1) - w(a, b-1, c)\n",
    "        return dp[a][b][c]\n",
    "    dp[a][b][c] = w(a-1, b, c) + w(a-1, b-1, c) + w(a-1, b, c - 1) - w(a-1, b-1, c-1) \n",
    "    # 모든 호출이 끝나고, 원래 찾고자 했던 값을 dp 내에서 찾아서 return\n",
    "    return dp[a][b][c]\n",
    "\n",
    "# a, b, c 의 범위가 1 ~ 21 이므로 21 x 21 x 21 차원의 dp 생성\n",
    "dp = [[[0]*(21) for _ in range(21)] for _ in range(21)]\n",
    "\n",
    "while True:\n",
    "    a, b, c = map(int, input().split())\n",
    "    if a == b == c == -1:\n",
    "        break\n",
    "    print(f'w({a}, {b}, {c}) = {w(a,b,c)}')"
   ]
  }
 ],
 "metadata": {
  "kernelspec": {
   "display_name": "Python 3",
   "language": "python",
   "name": "python3"
  },
  "language_info": {
   "codemirror_mode": {
    "name": "ipython",
    "version": 3
   },
   "file_extension": ".py",
   "mimetype": "text/x-python",
   "name": "python",
   "nbconvert_exporter": "python",
   "pygments_lexer": "ipython3",
   "version": "3.9.13"
  },
  "orig_nbformat": 4
 },
 "nbformat": 4,
 "nbformat_minor": 2
}
