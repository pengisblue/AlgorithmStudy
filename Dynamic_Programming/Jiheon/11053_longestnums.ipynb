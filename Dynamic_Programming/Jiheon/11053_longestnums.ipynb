{
 "cells": [
  {
   "cell_type": "markdown",
   "metadata": {},
   "source": [
    "### 11053 가장 긴 증가하는 부분 수열\n",
    "\n",
    "1. dp 에 저장하는 값\n",
    "   - 인덱스 : 인덱스에 저장된 값을 가장 큰 값으로 가지는 인덱스 길이의 증가하는 수열\n",
    "  \n",
    "   - 인덱스의 값 : 인덱스 길이의 증가수열의 가장 끝 값\n",
    "   \n",
    "2. 원 입력 리스트를 순회하면서 dp의 값을 갱신시켜준다.\n",
    "\n",
    "3. dp의 맨 뒤보다 현재 값이 더 크다면 dq의 맨 뒤에 값 추가\n",
    "\n",
    "4. 아니라면, dp 를 이분탐색하면서 현재 값보다 작은값이 왼쪽에, 큰값이 오른쪽에 올때까지 이분탐색\n",
    "\n",
    "5. 해당 좌표에 도착했다면, 오른쪽을 해당 값으로 교체"
   ]
  },
  {
   "cell_type": "code",
   "execution_count": 2,
   "metadata": {},
   "outputs": [
    {
     "name": "stdout",
     "output_type": "stream",
     "text": [
      "4\n"
     ]
    }
   ],
   "source": [
    "N = int(input())\n",
    "nums = list(map(int, input().split()))\n",
    "dp = [0]\n",
    "# 원 순열을 돈다\n",
    "for i in range(len(nums)):\n",
    "    # 만약 dp의 맨뒤보다 숫자가 크다면 dp에 바로 추가\n",
    "    if nums[i] > dp[-1]:\n",
    "        dp.append(nums[i])\n",
    "    # 그게 아니면 이분탐색\n",
    "    else:\n",
    "        left, right = 0, len(dp)\n",
    "        while left < right:\n",
    "            mid = (left + right) // 2\n",
    "            # 숫자가 dp의 mid 보다 크다면 왼쪽으로 한칸 이동\n",
    "            if nums[i] > dp[mid]:\n",
    "                left += 1\n",
    "            # 그렇지 않으면, 왼쪽 반쪽을 검사\n",
    "            else:\n",
    "                right = mid\n",
    "        dp[right] = nums[i]\n",
    "print(len(dp)-1)"
   ]
  }
 ],
 "metadata": {
  "kernelspec": {
   "display_name": "Python 3",
   "language": "python",
   "name": "python3"
  },
  "language_info": {
   "codemirror_mode": {
    "name": "ipython",
    "version": 3
   },
   "file_extension": ".py",
   "mimetype": "text/x-python",
   "name": "python",
   "nbconvert_exporter": "python",
   "pygments_lexer": "ipython3",
   "version": "3.9.13"
  },
  "orig_nbformat": 4
 },
 "nbformat": 4,
 "nbformat_minor": 2
}
