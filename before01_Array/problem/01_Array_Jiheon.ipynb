{
 "cells": [
  {
   "cell_type": "markdown",
   "metadata": {},
   "source": [
    "# 01_Array"
   ]
  },
  {
   "cell_type": "markdown",
   "metadata": {},
   "source": [
    "##### 2018 수들의 합\n",
    "\n",
    "1. Input N에 대하여 모든 경우의 수를 따질 경우 시간복잡도가 O(N^2)이 된다(맞나?)\n",
    "\n",
    "2. 시작 숫자와 끝 숫자를 두 포인터로 가정함.\n",
    "\n",
    "3. 시작 숫자와 끝 숫자 사이의 숫자들의 합이 N보다 작으면 끝 숫자를 더 크게 만들고, 크면 시작 숫자를 작게 만듦\n",
    "\n",
    "4. 순차적으로 탐색해나가다가, 시작 숫자가 끝 숫자보다 커지면(더이상 연속된 자연수의 합으로 나타낼 수 없으면) 반복을 종료."
   ]
  },
  {
   "cell_type": "code",
   "execution_count": null,
   "metadata": {},
   "outputs": [],
   "source": [
    "N = int(input())\n",
    "cnt, summ = 0,0\n",
    "start, end = 0,0\n",
    "\n",
    "# end가 N이 될때까지 반복\n",
    "while end <= N:\n",
    "    if summ < N:\n",
    "        end += 1\n",
    "# end 값이 1이 늘었기 때문에, end 값을 총합에 더함\n",
    "        summ += end\n",
    "    elif summ > N:\n",
    "# start 값이 1 늘었기 때문에, start 값을 총합에서 뺌\n",
    "        summ -= start\n",
    "        start += 1\n",
    "    else :\n",
    "# 총합의 값과 N이 같을 경우에, 1씩 카운트하고 다음 경우의 수를 찾기 위해 end + 1\n",
    "        cnt += 1\n",
    "        end += 1\n",
    "        summ += end\n",
    "print(cnt)"
   ]
  },
  {
   "cell_type": "markdown",
   "metadata": {},
   "source": [
    "##### 1940 주몽\n",
    "\n",
    "1. 마찬가지로, 모든 경우의 수를 따질 경우 시간복잡도가 O(N^2)가 된다\n",
    "\n",
    "2. ls를 크기 순으로 정렬한 다음, 가장 작은 수와 가장 큰 수를 더한다.\n",
    "\n",
    "3. 더한 값이 M보다 작으면 작은 수를 한단계 이동시키고, M보다 크면 큰 수를 한단계 이동시킨다.\n",
    "\n",
    "4. 작은수가 큰수보다 커질 떄 까지 반복하여, 경우의 수를 다 고려한다."
   ]
  },
  {
   "cell_type": "code",
   "execution_count": null,
   "metadata": {},
   "outputs": [],
   "source": [
    "N = int(input())\n",
    "M = int(input())\n",
    "ls = list(map(int, input().split()))\n",
    "ls.sort()\n",
    "cnt = 0\n",
    "\n",
    "start = 0\n",
    "end = N-1\n",
    "\n",
    "# start(작은 수)가 end(큰 수)보다 커질 때 까지 반복\n",
    "while start < end:\n",
    "# 두 수를 더한 것이 M 보다 크면 큰 수를 한단계 줄인다.\n",
    "    if ls[start] + ls[end] > M:\n",
    "        end -= 1\n",
    "# 두 수를 더한 것이 M보다 작으면 작은 수를 한단계 늘린다.\n",
    "    elif ls[start] + ls[end] < M:\n",
    "        start += 1\n",
    "# M과 같을 때, +1 카운트하고, 다음 경우의 수 탐색을 위하여 start 값을 1 늘린다.\n",
    "    else:\n",
    "        cnt += 1\n",
    "        start += 1\n",
    "\n",
    "print(cnt)"
   ]
  },
  {
   "cell_type": "markdown",
   "metadata": {},
   "source": [
    "##### 1253 좋다\n",
    "\n",
    "1. 중첩 for 문으로 해결할 수 있겠지만, 시간복잡도가 O(N^2)이 된다.\n",
    "\n",
    "2. ls를 크기순으로 정렬한 다음, i 번째 숫자를 제외하고 합할 두개의 수를 뽑아낼 list를 만든다.\n",
    "\n",
    "3. 가장 작은 숫자와 가장 큰 숫자를 더하는 것에서 시작한다.\n",
    "\n",
    "4. 더한 값이 목표 값보다 작으면 start +1 을, 더 크면 end -1을 하는 이진탐색 방법을 사용한다.\n"
   ]
  },
  {
   "cell_type": "code",
   "execution_count": null,
   "metadata": {},
   "outputs": [],
   "source": [
    "import sys\n",
    "input = sys.stdin.readline\n",
    "\n",
    "N = int(input())\n",
    "ls = list(map(int, input().split()))\n",
    "ls.sort()\n",
    "cnt = 0\n",
    "for i in range(len(ls)):\n",
    "    ls_i = ls[:]\n",
    "# i 번째 값을 제거한 list를 생성한다.\n",
    "    ls_i.remove(ls[i])\n",
    "# 새로운 리스트의 첫째 값과 마지막 값을 start와 end 값으로 설정한다.\n",
    "    start, end = 0, len(ls_i)-1\n",
    "    while start < end:\n",
    "        if ls_i[start] + ls_i[end] < ls[i]:\n",
    "            start += 1\n",
    "        elif ls_i[start] + ls_i[end] > ls[i]:\n",
    "            end -= 1\n",
    "        else:\n",
    "            cnt += 1\n",
    "            break\n",
    "    \n",
    "print(cnt)"
   ]
  }
 ],
 "metadata": {
  "language_info": {
   "name": "python"
  },
  "orig_nbformat": 4
 },
 "nbformat": 4,
 "nbformat_minor": 2
}
