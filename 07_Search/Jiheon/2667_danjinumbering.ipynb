{
 "cells": [
  {
   "cell_type": "markdown",
   "metadata": {},
   "source": [
    "### 2667 단지번호붙이기\n",
    "\n",
    "1. 2차원 리스트를 DFS 나 BFS를 이용하여 순회하는 문제\n",
    "\n",
    "2. 연결된 단지(1)이 노드로 연결되어있다고 생각하면 편함!\n",
    "\n",
    "3. 시작점 i, j 를 기준으로 탐색. 상하좌우 한칸씩 이동하면서 방문하지 않고, 노드의 값이 1인 노드를 순차적으로 탐색\n",
    "\n",
    "4. 더이상 탐색할 곳이 없다면, 그 단지를 다 조사한것이므로 다음 시작점을 찾아 탐색\n",
    "\n",
    "5. 위 과정을 반복하여 모든 단지를 조사"
   ]
  },
  {
   "cell_type": "code",
   "execution_count": null,
   "metadata": {},
   "outputs": [],
   "source": [
    "from collections import deque\n",
    "\n",
    "# 각 좌표에서 탐색할 델타값 설정\n",
    "dx = [0, 0, 1, -1]\n",
    "dy = [1, -1, 0, 0]\n",
    "\n",
    "# 너비우선탐색 정의\n",
    "def bfs(startx, starty):\n",
    "    que = deque([[startx, starty]])\n",
    "    maps[startx][starty] = 0\n",
    "    cnt = 1\n",
    "    while que:\n",
    "        x, y = que.popleft()\n",
    "        # 현재 좌표를 기준으로 델타값을 반영하여 조사\n",
    "        for j in range(4):\n",
    "            nx = x + dx[j]\n",
    "            ny = y + dy[j]\n",
    "            # 델타값을 기준으로 이동한 좌표가 정상적인지 확인해서 아니라면, 그 좌표는 뛰어넘음\n",
    "            if nx < 0 or nx >= N or ny < 0 or ny >= N:\n",
    "                continue\n",
    "            # 델타값만큼 이동한 좌표의 값이 1이라면, cnt + 1 그리고 방문했다는 기록으로 좌표의 값을 0으로 바꿈\n",
    "            if maps[nx][ny] == 1:\n",
    "                maps[nx][ny] = 0\n",
    "                que.append([nx, ny])\n",
    "                cnt += 1\n",
    "    return cnt\n",
    "\n",
    "N = int(input())\n",
    "maps = []\n",
    "for i in range(N):\n",
    "    maps.append(list(map(int, input())))\n",
    "\n",
    "nums = []\n",
    "# 2차원 리스트의 모든 좌표를 검사하여, 해당 좌표의 값이 1이라면 너브 우선 탐색을 통해서 단지를 탐색\n",
    "for i in range(N):\n",
    "    for j in range(N):\n",
    "        if maps[i][j] == 1:\n",
    "            nums.append(bfs(i, j))\n",
    "# 단지내 아파트 갯수를 기준으로 오름차순으로 출력해야함으로 sort\n",
    "nums.sort()\n",
    "print(len(nums))\n",
    "for i in nums:\n",
    "    print(i)"
   ]
  }
 ],
 "metadata": {
  "kernelspec": {
   "display_name": "Python 3",
   "language": "python",
   "name": "python3"
  },
  "language_info": {
   "codemirror_mode": {
    "name": "ipython",
    "version": 3
   },
   "file_extension": ".py",
   "mimetype": "text/x-python",
   "name": "python",
   "nbconvert_exporter": "python",
   "pygments_lexer": "ipython3",
   "version": "3.9.13"
  },
  "orig_nbformat": 4
 },
 "nbformat": 4,
 "nbformat_minor": 2
}
