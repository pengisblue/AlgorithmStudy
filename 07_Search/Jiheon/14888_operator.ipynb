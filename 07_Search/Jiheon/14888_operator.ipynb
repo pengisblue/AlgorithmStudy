{
 "cells": [
  {
   "cell_type": "markdown",
   "metadata": {},
   "source": [
    "### 14888 연산자 끼워넣기\n",
    "\n",
    "1. 모든 경우의 수에 대해서 백트래킹을 실시한다.\n",
    "\n",
    "2. 맨 첫 숫자부터 시작한다. 모든 연산자에 대한 깊이 우선 탐색을 실시한다.\n",
    "\n",
    "3. 맨 마지막 숫자까지 도달하면, 구한 결과값을 return 하고 최대값/최솟값을 비교한다\n",
    "\n",
    "4. 그 다음엔, 다음 연산자를 기준으로 깊이 우선 탐색을 한다."
   ]
  },
  {
   "cell_type": "code",
   "execution_count": 9,
   "metadata": {},
   "outputs": [
    {
     "name": "stdout",
     "output_type": "stream",
     "text": [
      "54\n",
      "-24\n"
     ]
    }
   ],
   "source": [
    "N = int(input())\n",
    "nums = list(map(int, input().split()))\n",
    "p, s, m, d = list(map(int, input().split()))\n",
    "max_num = float('-inf')\n",
    "min_num = float('inf')\n",
    "\n",
    "# 모든 연산자에 대해서 깊이 우선 탐색을 실시하는 함수 정의\n",
    "def dfs(depth, num, p, s, m, d):\n",
    "    global max_num, min_num\n",
    "    # 깊이 즉 연산을 몇번까지 했는가가 N이 되면 max 값 min 값 갱신\n",
    "    if depth == N:\n",
    "        max_num = max(max_num, num)\n",
    "        min_num = min(min_num, num)\n",
    "        return\n",
    "    # 각 연산자들에 대해서 따로 깊이 우선 탐색 실시\n",
    "    if p:\n",
    "        dfs(depth + 1, num + nums[depth], p -1, s, m, d)\n",
    "    if s:\n",
    "        dfs(depth + 1, num - nums[depth], p, s - 1, m, d)\n",
    "    if m:\n",
    "        dfs(depth + 1, num * nums[depth], p, s, m - 1, d)\n",
    "    if d:\n",
    "        dfs(depth + 1, int(num / nums[depth]), p, s, m, d - 1)\n",
    "\n",
    "dfs(1, nums[0], p, s, m, d)\n",
    "print(max_num, min_num, sep = '\\n')"
   ]
  }
 ],
 "metadata": {
  "kernelspec": {
   "display_name": "Python 3",
   "language": "python",
   "name": "python3"
  },
  "language_info": {
   "codemirror_mode": {
    "name": "ipython",
    "version": 3
   },
   "file_extension": ".py",
   "mimetype": "text/x-python",
   "name": "python",
   "nbconvert_exporter": "python",
   "pygments_lexer": "ipython3",
   "version": "3.9.13"
  },
  "orig_nbformat": 4
 },
 "nbformat": 4,
 "nbformat_minor": 2
}
