{
 "cells": [
  {
   "cell_type": "markdown",
   "metadata": {},
   "source": [
    "### 24445 알고리즘 수업 - 너비 우선 탐색 2\n",
    "\n",
    "1. 기본적인 너비 우선탐색!\n",
    "\n",
    "2. 각 형제노드들을 내림차순으로 탐색해야하기 때문에, 정렬한 상태로 너비우선탐색"
   ]
  },
  {
   "cell_type": "code",
   "execution_count": null,
   "metadata": {},
   "outputs": [],
   "source": [
    "from collections import deque\n",
    "\n",
    "def bfs(N, start):\n",
    "    cnt = 1\n",
    "    visited = [0] * (N+1)\n",
    "    que = deque([start])\n",
    "    visited[start] = cnt\n",
    "    while que:\n",
    "        now = que.popleft()\n",
    "        for i in node[now]:\n",
    "            if visited[i] == 0:\n",
    "                que.append(i)\n",
    "                cnt += 1\n",
    "                visited[i] = cnt \n",
    "    return visited[1:]\n",
    "    \n",
    "N, M, R = map(int, input().split())\n",
    "node = [[] for _ in range(N+1)]\n",
    "for _ in range(M):\n",
    "    start, end = map(int, input().split())\n",
    "    node[start].append(end)\n",
    "    node[end].append(start)\n",
    "for i in range(1, N+1):\n",
    "    # 내림차순으로 탐색해야 하기 떄문에 내림차순 정렬!\n",
    "    node[i].sort(reverse=True)\n",
    "print(*bfs(N, R), sep = '\\n')"
   ]
  }
 ],
 "metadata": {
  "language_info": {
   "name": "python"
  },
  "orig_nbformat": 4
 },
 "nbformat": 4,
 "nbformat_minor": 2
}
