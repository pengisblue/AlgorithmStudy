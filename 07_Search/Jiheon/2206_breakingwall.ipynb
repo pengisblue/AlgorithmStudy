{
 "cells": [
  {
   "cell_type": "markdown",
   "metadata": {},
   "source": [
    "### 2206 벽 부수고 이동하기\n",
    "\n",
    "1. 벽을 한번 부술 수 있기 때문에, 벽을 부순 경우와 안 부순 경우의 visited 행렬을 만들면 된다\n",
    "\n",
    "2. 벽을 부술 수 있는 분기점이 나오게 되면, 벽을 부수는 경우에는 visited 행렬의 2번째에 값을 저장한다.\n",
    "\n",
    "3. 벽을 먼저 부수는 경우엔, 도달할 수 없으나 벽을 부수지 않고 돌아서 간다음 나중에 벽을 부수는 경우에 성공할 수 있는 경우가 있을 수 있음\n",
    "\n",
    "4. 따라서, 벽을 부수는 횟수만 카운트를 할경우 통과를 할 수 있음에도 불구하고 이미 방문했다고 판단해 통과를 할 수 없다.\n",
    "\n",
    "5. visited 행렬을 2개로 나누어, 경우의 수를 저장하는 것이 이 문제의 핵심이다."
   ]
  },
  {
   "cell_type": "code",
   "execution_count": 19,
   "metadata": {},
   "outputs": [
    {
     "ename": "IndexError",
     "evalue": "list index out of range",
     "output_type": "error",
     "traceback": [
      "\u001b[0;31m---------------------------------------------------------------------------\u001b[0m",
      "\u001b[0;31mIndexError\u001b[0m                                Traceback (most recent call last)",
      "Cell \u001b[0;32mIn[19], line 31\u001b[0m\n\u001b[1;32m     28\u001b[0m                     que\u001b[39m.\u001b[39mappend([nx, ny, wall])               \n\u001b[1;32m     29\u001b[0m     \u001b[39mreturn\u001b[39;00m \u001b[39m-\u001b[39m\u001b[39m1\u001b[39m\n\u001b[0;32m---> 31\u001b[0m \u001b[39mprint\u001b[39m(bfs())\n",
      "Cell \u001b[0;32mIn[19], line 23\u001b[0m, in \u001b[0;36mbfs\u001b[0;34m()\u001b[0m\n\u001b[1;32m     21\u001b[0m ny \u001b[39m=\u001b[39m y \u001b[39m+\u001b[39m dy[i]\n\u001b[1;32m     22\u001b[0m \u001b[39mif\u001b[39;00m \u001b[39m0\u001b[39m \u001b[39m<\u001b[39m\u001b[39m=\u001b[39m nx \u001b[39m<\u001b[39m N \u001b[39mand\u001b[39;00m \u001b[39m0\u001b[39m \u001b[39m<\u001b[39m\u001b[39m=\u001b[39m ny \u001b[39m<\u001b[39m M:\n\u001b[0;32m---> 23\u001b[0m     \u001b[39mif\u001b[39;00m maze[nx][ny] \u001b[39m==\u001b[39m \u001b[39m1\u001b[39m \u001b[39mand\u001b[39;00m wall \u001b[39m==\u001b[39m \u001b[39m0\u001b[39m:\n\u001b[1;32m     24\u001b[0m         visited[nx][ny][\u001b[39m1\u001b[39m] \u001b[39m=\u001b[39m visited[x][y][\u001b[39m0\u001b[39m] \u001b[39m+\u001b[39m \u001b[39m1\u001b[39m\n\u001b[1;32m     25\u001b[0m         que\u001b[39m.\u001b[39mappend([nx, ny, \u001b[39m1\u001b[39m])\n",
      "\u001b[0;31mIndexError\u001b[0m: list index out of range"
     ]
    }
   ],
   "source": [
    "from collections import deque\n",
    "\n",
    "dx = [1, -1, 0, 0]\n",
    "dy = [0, 0, 1, -1]\n",
    "\n",
    "N, M = map(int, input().split())\n",
    "maze = []\n",
    "for _ in range(N):\n",
    "    maze.append(list(map(int, input())))\n",
    "\n",
    "def bfs():\n",
    "    # 벽을 부순 경우의 수를 que에 저장하여 다음 경우의 수가 어떤 visited 행렬에 들어가야하는지를 판단\n",
    "    que = deque([[0, 0, 0]])\n",
    "    # 벽을 부순 경우와 아닌 경우의 visited 행렬을 준비\n",
    "    visited = [[[0] * 2 for _ in range(M)] for _ in range(N)] \n",
    "    visited[0][0][0] = 1\n",
    "    while que:\n",
    "        x, y, wall = que.popleft()\n",
    "        if x == N-1 and y == M-1:\n",
    "            return visited[x][y][wall]\n",
    "        for i in range(4):\n",
    "            nx = x + dx[i]\n",
    "            ny = y + dy[i]\n",
    "            if 0 <= nx < N and 0 <= ny < M:\n",
    "                # 벽을 만났고 벽을 부순적이 없다면, 벽을 부수고 wall 변수에 1저장\n",
    "                if maze[nx][ny] == 1 and wall == 0:\n",
    "                    visited[nx][ny][1] = visited[x][y][0] + 1\n",
    "                    que.append([nx, ny, 1])\n",
    "                # 벽이 아니고, 이전에 방문한 적이 없었다면 해당 좌표를 방문\n",
    "                elif not maze[nx][ny] and not visited[nx][ny][wall]:\n",
    "                    visited[nx][ny][wall] = visited[x][y][wall] + 1\n",
    "                    que.append([nx, ny, wall])               \n",
    "    return -1\n",
    "\n",
    "print(bfs())"
   ]
  }
 ],
 "metadata": {
  "kernelspec": {
   "display_name": "Python 3",
   "language": "python",
   "name": "python3"
  },
  "language_info": {
   "codemirror_mode": {
    "name": "ipython",
    "version": 3
   },
   "file_extension": ".py",
   "mimetype": "text/x-python",
   "name": "python",
   "nbconvert_exporter": "python",
   "pygments_lexer": "ipython3",
   "version": "3.9.6"
  },
  "orig_nbformat": 4
 },
 "nbformat": 4,
 "nbformat_minor": 2
}
