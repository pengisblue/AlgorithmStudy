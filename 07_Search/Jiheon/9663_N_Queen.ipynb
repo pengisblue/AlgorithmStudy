{
 "cells": [
  {
   "cell_type": "markdown",
   "metadata": {},
   "source": [
    "### 9663 N-Queen\n",
    "\n",
    "1. 1차원 배열로도 해결이 가능!\n",
    "\n",
    "2. row 변수는, 각 row 에서 퀸이 어느 col에 위치하는 지를 저장\n",
    "\n",
    "3. 같은 col에 위치하거나 같은 대각선에 위치한다면 즉시 0 을 반환하고 다시 다른 좌표탐색\n",
    "\n",
    "4. 모든 좌표를 탐색했지만, 가능한 경우가 없을 떄는 직전 row로 돌아가서 직전 row의 퀸을 이동시켜서 다시 탐색\n",
    "\n",
    "5. 위와같은 과정을 모든 row에 대해서 실시하여 맨 마지막 row까지 조건을 만족하는 경우의 수가 나온다면 cnt + 1"
   ]
  },
  {
   "cell_type": "code",
   "execution_count": null,
   "metadata": {},
   "outputs": [],
   "source": [
    "def isqueen(x):\n",
    "    for i in range(x):\n",
    "        if row[i] == row[x] or abs(row[x] - row[i]) == x - i:\n",
    "            return 0\n",
    "    return 1\n",
    "\n",
    "def dfs(x):\n",
    "    global cnt\n",
    "    if x == N:\n",
    "        cnt += 1\n",
    "    else:\n",
    "        for i in range(N):\n",
    "            row[x] = i\n",
    "            if isqueen(x):\n",
    "                dfs(x+1)\n",
    "    return cnt\n",
    "\n",
    "\n",
    "N = int(input())\n",
    "row = [0] * N\n",
    "cnt = 0\n",
    "print(dfs(0))"
   ]
  }
 ],
 "metadata": {
  "kernelspec": {
   "display_name": "Python 3",
   "language": "python",
   "name": "python3"
  },
  "language_info": {
   "codemirror_mode": {
    "name": "ipython",
    "version": 3
   },
   "file_extension": ".py",
   "mimetype": "text/x-python",
   "name": "python",
   "nbconvert_exporter": "python",
   "pygments_lexer": "ipython3",
   "version": "3.9.13"
  },
  "orig_nbformat": 4
 },
 "nbformat": 4,
 "nbformat_minor": 2
}
