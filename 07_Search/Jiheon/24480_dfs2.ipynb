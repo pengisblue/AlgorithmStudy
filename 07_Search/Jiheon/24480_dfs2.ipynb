{
 "cells": [
  {
   "cell_type": "markdown",
   "metadata": {},
   "source": [
    "### 24480 알고리즘 수업 - 깊이 우선 탐색 2\n",
    "\n",
    "1. 위의 깊이 우선 탐색과 거의 동일!!\n",
    "\n",
    "2. 내림차순으로 탐색하기 때문에, 형제노드들을 오름차순으로 정렬!"
   ]
  },
  {
   "cell_type": "code",
   "execution_count": null,
   "metadata": {},
   "outputs": [],
   "source": [
    "def dfs(N, start):\n",
    "    cnt = 1\n",
    "    stack = [start]\n",
    "    visited = [0] * (N+1)\n",
    "    rlt = [0] * (N+1)\n",
    "    while stack:\n",
    "        now = stack.pop()\n",
    "        if visited[now] == 0:\n",
    "            visited[now] = 1\n",
    "            rlt[now] = cnt\n",
    "            cnt += 1\n",
    "        for i in node[now]:\n",
    "            if visited[i] == 0:\n",
    "                stack.append(i)\n",
    "    return rlt[1:]\n",
    "\n",
    "N, M, R = map(int, input().split())\n",
    "node = [[]for _ in range(N+1)]\n",
    "for _ in range(M):\n",
    "    start, end = map(int, input().split())\n",
    "    node[start].append(end)\n",
    "    node[end].append(start)\n",
    "for i in range(1, len(node)):\n",
    "    node[i].sort()\n",
    "    \n",
    "result = dfs(N, R)\n",
    "for i in range(len(result)):\n",
    "    print(result[i])"
   ]
  }
 ],
 "metadata": {
  "kernelspec": {
   "display_name": "Python 3",
   "language": "python",
   "name": "python3"
  },
  "language_info": {
   "codemirror_mode": {
    "name": "ipython",
    "version": 3
   },
   "file_extension": ".py",
   "mimetype": "text/x-python",
   "name": "python",
   "nbconvert_exporter": "python",
   "pygments_lexer": "ipython3",
   "version": "3.9.6"
  },
  "orig_nbformat": 4
 },
 "nbformat": 4,
 "nbformat_minor": 2
}
