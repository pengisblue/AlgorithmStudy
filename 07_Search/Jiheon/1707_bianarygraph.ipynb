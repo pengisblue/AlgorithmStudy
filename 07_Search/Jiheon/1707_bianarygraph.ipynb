{
 "cells": [
  {
   "cell_type": "markdown",
   "metadata": {},
   "source": [
    "### 1797 이분 그래프\n",
    "\n",
    "1. 인접한 두개의 노드가 다른 집합이 될 수 있는가? 에 대한 문제이다.\n",
    "\n",
    "2. 탐색 노드에 각각 1, -1 을 기록해두면서 탐색(이전노드의 값에 -1을 곱한 값을 기록하면 됨)\n",
    "\n",
    "3. 만약 탐색 노드와 이전노드에 같은 색이 칠해져 있다면, 인접한 두개의 노드를 다른 노드로 만들 수 없다는 뜻이기 때문에 즉시 NO return\n",
    "\n",
    "4. 연결된 모든 노드를 탐색하였으나, 탐색하지 못한 노드가 존재할 수 있음(1-2 3-4 의 경우 1에서 시작하면, 3과 4를 탐색할 수 없음)\n",
    "\n",
    "5. 그렇기 때문에, 탐색을 완료한 뒤 나머지 노드들 중 탐색을 하지 않은 노드가 존재하는 지 검사 후 존재한다면 그 노드에서 부터 다시 탐색하도록 함\n",
    "\n",
    "6. 모든 노드에 대해서 위의 과정을 반복 후, 이상이 없다면 yes return"
   ]
  },
  {
   "cell_type": "code",
   "execution_count": 7,
   "metadata": {},
   "outputs": [
    {
     "name": "stdout",
     "output_type": "stream",
     "text": [
      "YES\n"
     ]
    }
   ],
   "source": [
    "from collections import deque\n",
    "\n",
    "def bfs():\n",
    "    visited = [0] * (V+1)\n",
    "    # 모든 존재하는 노드들에 대해서 이분이 가능한지 검사해야 하기 때문에, 아직 방문하지 않은 노드가 있다면 탐색을 실시\n",
    "    for i in range(len(visited)-1):\n",
    "        if visited[i+1] == 0:\n",
    "            que = deque([i+1])\n",
    "            visited[i+1] = 1\n",
    "            while que:\n",
    "                now = que.popleft()\n",
    "                for j in node[now]:\n",
    "                    # 방문하지 않은 인접한 노드에 대해서 이전에 기록했던 값(1 or -1)과 다른 값을 기록\n",
    "                    if visited[j] == 0:\n",
    "                        visited[j] = visited[now] * (-1)\n",
    "                        que.append(j)\n",
    "                    # 만약, 이전에 방문을 한 노드와 마주쳤을 떄 현재 노드와 기록된 값이 같다면 인접한 노드임에도 불구하고 다른 집단으로 나눌 수 없다는 뜻\n",
    "                    # 그 즉시 NO를 반환!\n",
    "                    elif visited[j] == visited[now]:\n",
    "                        return 'NO'\n",
    "    # 존재하는 모든 node에 대해서 검사를 실시해서 이분이 가능하다면 YES 출력\n",
    "    return 'YES'\n",
    "    \n",
    "\n",
    "K = int(input())\n",
    "for _ in range(K):\n",
    "    V, E = map(int, input().split())\n",
    "    node = [[] for i in range(V+1)]\n",
    "    for e in range(E):\n",
    "        start, end = map(int, input().split())\n",
    "        node[start].append(end)\n",
    "        node[end].append(start)\n",
    "    print(bfs())"
   ]
  }
 ],
 "metadata": {
  "kernelspec": {
   "display_name": "Python 3",
   "language": "python",
   "name": "python3"
  },
  "language_info": {
   "codemirror_mode": {
    "name": "ipython",
    "version": 3
   },
   "file_extension": ".py",
   "mimetype": "text/x-python",
   "name": "python",
   "nbconvert_exporter": "python",
   "pygments_lexer": "ipython3",
   "version": "3.9.6"
  },
  "orig_nbformat": 4
 },
 "nbformat": 4,
 "nbformat_minor": 2
}
