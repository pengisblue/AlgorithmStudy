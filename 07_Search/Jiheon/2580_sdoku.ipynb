{
 "cells": [
  {
   "cell_type": "markdown",
   "metadata": {},
   "source": [
    "### 2580 스도쿠\n",
    "\n",
    "1. 각 row 와 col 그리고 box 안에 겹치는 숫자가 없어야한다.\n",
    "\n",
    "2. 각각의 row/col/box 를 검사하는 함수를 따로 정의\n",
    "\n",
    "3. 빈칸의 위치를 모두 파악해서 리스트로 저장. 맨 앞부터 차례차례 채워나간다.\n",
    "\n",
    "4. row/col/box 검사를 모두 통과한 원소만을 빈칸에 저장후, 다음 번 빈칸을 탐색\n",
    "\n",
    "5. 중간에 막히게 되면 다시 돌아와서 탐색\n",
    "\n",
    "6. 가능한 경우의 수를 탐색했다면, 다음번 경우의 수를 찾는것이 아니라 바로 함수를 종료해야하기 때문에, return 대신 exit 사용"
   ]
  },
  {
   "cell_type": "code",
   "execution_count": 1,
   "metadata": {},
   "outputs": [
    {
     "name": "stdout",
     "output_type": "stream",
     "text": [
      "[[1, 3, 5, 4, 6, 9, 2, 7, 8], [7, 8, 2, 1, 3, 5, 6, 4, 9], [4, 6, 9, 2, 7, 8, 1, 3, 5], [3, 2, 1, 5, 4, 6, 8, 9, 7], [8, 7, 4, 9, 1, 3, 5, 2, 6], [5, 9, 6, 8, 2, 7, 4, 1, 3], [9, 1, 7, 6, 5, 2, 3, 8, 4], [6, 4, 3, 7, 8, 1, 9, 5, 2], [2, 5, 8, 3, 9, 4, 7, 6, 0]]\n"
     ]
    }
   ],
   "source": [
    "sdoku = []\n",
    "point = []\n",
    "\n",
    "def checkrow(x, num):\n",
    "    for i in range(9):\n",
    "        if num == sdoku[x][i]:\n",
    "            return 0\n",
    "    return 1\n",
    "\n",
    "def checkcol(y, num):\n",
    "    for i in range(9):\n",
    "        if num == sdoku[i][y]:\n",
    "            return 0\n",
    "    return 1\n",
    "\n",
    "def checkbox(x, y, num):\n",
    "    nx = x // 3 * 3\n",
    "    ny = y // 3 * 3\n",
    "    for i in range(3):\n",
    "        for j in range(3):\n",
    "            if num == sdoku[i+nx][j+ny]:\n",
    "                return 0\n",
    "    return 1\n",
    "\n",
    "def bfs(idx):\n",
    "        if idx == len(point):\n",
    "            for i in range(9):\n",
    "                print(*sdoku[i])\n",
    "            exit(0)\n",
    "        x, y = point[idx]\n",
    "        for j in range(1, 10):\n",
    "            if checkrow(x, j) and checkcol(y, j) and checkbox(x, y, j):\n",
    "                sdoku[x][y] = j\n",
    "                bfs(idx + 1)\n",
    "                sdoku[x][y] = 0\n",
    "\n",
    "for _ in range(9):\n",
    "    sdoku.append(list(map(int, input().split())))\n",
    "\n",
    "for i in range(9):\n",
    "    for j in range(9):\n",
    "        if sdoku[i][j] == 0:\n",
    "            point.append((i, j))\n",
    "\n",
    "bfs(0)"
   ]
  }
 ],
 "metadata": {
  "kernelspec": {
   "display_name": "Python 3",
   "language": "python",
   "name": "python3"
  },
  "language_info": {
   "codemirror_mode": {
    "name": "ipython",
    "version": 3
   },
   "file_extension": ".py",
   "mimetype": "text/x-python",
   "name": "python",
   "nbconvert_exporter": "python",
   "pygments_lexer": "ipython3",
   "version": "3.9.13"
  },
  "orig_nbformat": 4
 },
 "nbformat": 4,
 "nbformat_minor": 2
}
