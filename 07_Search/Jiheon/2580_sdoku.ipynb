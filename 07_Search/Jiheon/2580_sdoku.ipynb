{
 "cells": [
  {
   "cell_type": "markdown",
   "metadata": {},
   "source": [
    "### 2580 스도쿠\n",
    "\n",
    "1. 각 row 와 col 그리고 box 안에 겹치는 숫자가 없어야한다.\n",
    "\n",
    "2. 각각의 row/col/box 를 검사하는 함수를 따로 정의\n",
    "\n",
    "3. 빈칸의 위치를 모두 파악해서 리스트로 저장. 맨 앞부터 차례차례 채워나간다.\n",
    "\n",
    "4. row/col/box 검사를 모두 통과한 원소만을 빈칸에 저장후, 다음 번 빈칸을 탐색\n",
    "\n",
    "5. 중간에 막히게 되면 다시 돌아와서 탐색\n",
    "\n",
    "6. 정답을 보고 풀었기 때문에, 다음번에 다시 풀어볼 것"
   ]
  },
  {
   "cell_type": "code",
   "execution_count": null,
   "metadata": {},
   "outputs": [],
   "source": [
    "sdoku = []\n",
    "for _ in range(9):\n",
    "    sdoku.append(list(map(int, input().split())))\n",
    "\n",
    "blank = []\n",
    "for i in range(9):\n",
    "    for j in range(9):\n",
    "        if sdoku[i][j] == 0:\n",
    "            blank.append([i, j])\n",
    "\n",
    "def checkrow(x, a):\n",
    "    for i in range(9):\n",
    "        if a == sdoku[x][i]:\n",
    "            return 0\n",
    "    return 1\n",
    "\n",
    "def checkcol(y, a):\n",
    "    for i in range(9):\n",
    "        if a == sdoku[i][y]:\n",
    "            return 0\n",
    "    return 1\n",
    "\n",
    "def checkbox(x, y, a):\n",
    "    nx = x // 3 * 3\n",
    "    ny = y // 3 * 3\n",
    "    for i in range(3):\n",
    "        for j in range(3):\n",
    "            if a == sdoku[nx+i][ny+j]:\n",
    "                return 0\n",
    "    return 1\n",
    "\n",
    "def dfs(i):\n",
    "        if i == len(blank):\n",
    "            for j in range(9):\n",
    "                print(*sdoku[j])\n",
    "            return 0\n",
    "            \n",
    "        x, y = blank[i]\n",
    "        for a in range(1, 10):\n",
    "            if checkrow(x, a) and checkcol(y, a) and checkbox(x, y, a):\n",
    "                sdoku[x][y] = a\n",
    "                dfs(i + 1)\n",
    "                sdoku[x][y] = 0\n",
    "\n",
    "dfs(0)"
   ]
  }
 ],
 "metadata": {
  "kernelspec": {
   "display_name": "Python 3",
   "language": "python",
   "name": "python3"
  },
  "language_info": {
   "codemirror_mode": {
    "name": "ipython",
    "version": 3
   },
   "file_extension": ".py",
   "mimetype": "text/x-python",
   "name": "python",
   "nbconvert_exporter": "python",
   "pygments_lexer": "ipython3",
   "version": "3.9.13"
  },
  "orig_nbformat": 4
 },
 "nbformat": 4,
 "nbformat_minor": 2
}
