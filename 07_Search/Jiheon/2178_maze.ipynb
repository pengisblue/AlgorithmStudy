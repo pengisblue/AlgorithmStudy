{
 "cells": [
  {
   "cell_type": "markdown",
   "metadata": {},
   "source": [
    "### 2178 미로탐색"
   ]
  },
  {
   "cell_type": "code",
   "execution_count": 6,
   "metadata": {},
   "outputs": [
    {
     "ename": "KeyboardInterrupt",
     "evalue": "",
     "output_type": "error",
     "traceback": [
      "\u001b[1;31m---------------------------------------------------------------------------\u001b[0m",
      "\u001b[1;31mKeyboardInterrupt\u001b[0m                         Traceback (most recent call last)",
      "Cell \u001b[1;32mIn[6], line 28\u001b[0m\n\u001b[0;32m     26\u001b[0m \u001b[39mfor\u001b[39;00m _ \u001b[39min\u001b[39;00m \u001b[39mrange\u001b[39m(N):\n\u001b[0;32m     27\u001b[0m     maze\u001b[39m.\u001b[39mappend(\u001b[39mlist\u001b[39m(\u001b[39mmap\u001b[39m(\u001b[39mint\u001b[39m, \u001b[39minput\u001b[39m())))\n\u001b[1;32m---> 28\u001b[0m \u001b[39mprint\u001b[39m(bfs(N, M))\n",
      "Cell \u001b[1;32mIn[6], line 18\u001b[0m, in \u001b[0;36mbfs\u001b[1;34m(N, M)\u001b[0m\n\u001b[0;32m     16\u001b[0m \u001b[39mif\u001b[39;00m nx \u001b[39m<\u001b[39m \u001b[39m0\u001b[39m \u001b[39mor\u001b[39;00m ny \u001b[39m<\u001b[39m \u001b[39m0\u001b[39m \u001b[39mor\u001b[39;00m nx \u001b[39m>\u001b[39m\u001b[39m=\u001b[39m N \u001b[39mor\u001b[39;00m ny \u001b[39m>\u001b[39m\u001b[39m=\u001b[39m M:\n\u001b[0;32m     17\u001b[0m     \u001b[39mcontinue\u001b[39;00m\n\u001b[1;32m---> 18\u001b[0m \u001b[39mif\u001b[39;00m maze[nx][ny] \u001b[39m==\u001b[39m \u001b[39m1\u001b[39m:\n\u001b[0;32m     19\u001b[0m     \u001b[39mif\u001b[39;00m nx \u001b[39m==\u001b[39m N\u001b[39m-\u001b[39m\u001b[39m1\u001b[39m \u001b[39mand\u001b[39;00m ny \u001b[39m==\u001b[39m M\u001b[39m-\u001b[39m\u001b[39m1\u001b[39m:\n\u001b[0;32m     20\u001b[0m         \u001b[39mreturn\u001b[39;00m cnt \u001b[39m+\u001b[39m \u001b[39m1\u001b[39m\n",
      "\u001b[1;31mKeyboardInterrupt\u001b[0m: "
     ]
    }
   ],
   "source": [
    "from collections import deque\n",
    "\n",
    "dx = [-1, 1, 0, 0]\n",
    "dy = [0, 0, -1, 1]\n",
    "\n",
    "def bfs(N, M):\n",
    "    cnt = 1\n",
    "    que = deque([[0, 0, cnt]])\n",
    "    maze[0][0] = 0\n",
    "    while que:\n",
    "        x, y, cnt = que.popleft()\n",
    "        for i in range(4):\n",
    "            nx = x + dx[i]\n",
    "            ny = y + dy[i]\n",
    "            if nx < 0 or ny < 0 or nx >= N or ny >= M:\n",
    "                continue\n",
    "            if maze[nx][ny] == 1:\n",
    "                if nx == N-1 and ny == M-1:\n",
    "                    return cnt + 1\n",
    "                que.append([nx, ny, cnt +1])\n",
    "                maze[nx][ny] = 0\n",
    "\n",
    "N, M = map(int, input().split())\n",
    "maze = []\n",
    "for _ in range(N):\n",
    "    maze.append(list(map(int, input())))\n",
    "print(bfs(N, M))\n"
   ]
  }
 ],
 "metadata": {
  "kernelspec": {
   "display_name": "Python 3",
   "language": "python",
   "name": "python3"
  },
  "language_info": {
   "codemirror_mode": {
    "name": "ipython",
    "version": 3
   },
   "file_extension": ".py",
   "mimetype": "text/x-python",
   "name": "python",
   "nbconvert_exporter": "python",
   "pygments_lexer": "ipython3",
   "version": "3.9.13"
  },
  "orig_nbformat": 4
 },
 "nbformat": 4,
 "nbformat_minor": 2
}
