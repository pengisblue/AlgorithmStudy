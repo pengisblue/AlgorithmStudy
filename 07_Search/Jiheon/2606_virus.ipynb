{
 "cells": [
  {
   "cell_type": "markdown",
   "metadata": {},
   "source": [
    "### 2606 바이러스\n",
    "\n",
    "1. node 간에 연결되어 있다면, 그 컴퓨터는 감염이 된것\n",
    "\n",
    "2. 깊이 우선탐색을 통해, 1번 노드에서부터 모든 연결된 노드들을 탐색\n",
    "\n",
    "3. 방문하지 않은 노드들을 방문할 때 마다, cnt + 1\n",
    "\n",
    "4. 1번 컴퓨터는 이미 감염이 되어있기 때문에, 출력 (cnt - 1)"
   ]
  },
  {
   "cell_type": "code",
   "execution_count": null,
   "metadata": {},
   "outputs": [],
   "source": [
    "# 깊이 우선 탐색\n",
    "def dfs(N, start):\n",
    "    cnt = 0\n",
    "    stack = [start]\n",
    "    visited = [0] * (N+1)\n",
    "    while stack:\n",
    "        now = stack.pop()\n",
    "        if visited[now] == 0:\n",
    "            visited[now] = 1\n",
    "            cnt += 1\n",
    "            for i in node[now]:\n",
    "                stack.append(i)\n",
    "    return cnt\n",
    "# 노드와 간선의 수\n",
    "node_n = int(input())\n",
    "line_n = int(input())\n",
    "# 노드들을 그래프 형식으로 연결\n",
    "node = [[] for _ in range(node_n+1)]\n",
    "for _ in range(line_n):\n",
    "    start, end = map(int, input().split())\n",
    "    node[start].append(end)\n",
    "    node[end].append(start)\n",
    "# 그래프 형식으로 연결된 노드를 깊이 우선 탐색으로 탐색\n",
    "rlt = dfs(node_n, 1)\n",
    "# cnt-1 을 출력\n",
    "print(rlt-1)"
   ]
  }
 ],
 "metadata": {
  "language_info": {
   "name": "python"
  },
  "orig_nbformat": 4
 },
 "nbformat": 4,
 "nbformat_minor": 2
}
