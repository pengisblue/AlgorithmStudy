{
 "cells": [
  {
   "cell_type": "markdown",
   "metadata": {},
   "source": [
    "### 15650 N과 M(2)\n",
    "\n",
    "1. 기본적인 backtraking으로 해결가능\n",
    "\n",
    "2. 이전시행에서 추가했던 원소보다 큰 경우만을 탐색하게 정의하여 중복된 부분집합을 탐색하지 않게 함"
   ]
  },
  {
   "cell_type": "code",
   "execution_count": 12,
   "metadata": {},
   "outputs": [
    {
     "name": "stdout",
     "output_type": "stream",
     "text": [
      "1 2 3\n",
      "1 2 4\n",
      "1 2 5\n",
      "1 3 4\n",
      "1 3 5\n",
      "1 4 5\n",
      "2 3 4\n",
      "2 3 5\n",
      "2 4 5\n",
      "3 4 5\n"
     ]
    }
   ],
   "source": [
    "N, M = map(int, input().split())\n",
    "subset = []\n",
    "visited = [0] * (N+1)\n",
    "# start 변수로 해서, 이전에 탐색했던 원소보다 큰 경우만 탐색!\n",
    "def dfs(start):\n",
    "    global j\n",
    "    if len(subset) == M:\n",
    "        print(' '.join(map(str, subset)))\n",
    "        return\n",
    "    for i in range(start, N+1):\n",
    "        if not visited[i]:\n",
    "            subset.append(i)\n",
    "            visited[i] = 1\n",
    "            # 이전에 탐색했던 원소 +1 부터 탐색\n",
    "            dfs(i + 1)\n",
    "            subset.pop()\n",
    "            visited[i] = 0\n",
    "dfs(1)"
   ]
  }
 ],
 "metadata": {
  "kernelspec": {
   "display_name": "Python 3",
   "language": "python",
   "name": "python3"
  },
  "language_info": {
   "codemirror_mode": {
    "name": "ipython",
    "version": 3
   },
   "file_extension": ".py",
   "mimetype": "text/x-python",
   "name": "python",
   "nbconvert_exporter": "python",
   "pygments_lexer": "ipython3",
   "version": "3.9.6"
  },
  "orig_nbformat": 4
 },
 "nbformat": 4,
 "nbformat_minor": 2
}
