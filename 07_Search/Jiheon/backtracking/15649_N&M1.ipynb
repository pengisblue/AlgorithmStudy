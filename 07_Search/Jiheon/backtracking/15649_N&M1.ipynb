{
 "cells": [
  {
   "cell_type": "markdown",
   "metadata": {},
   "source": [
    "### N과 M(1)\n",
    "\n",
    "1. 재귀로 subset을 탐색하는 함수를 정의하여 해결"
   ]
  },
  {
   "cell_type": "code",
   "execution_count": 6,
   "metadata": {},
   "outputs": [
    {
     "name": "stdout",
     "output_type": "stream",
     "text": [
      "1 2 3 4\n",
      "1 2 4 3\n",
      "1 3 2 4\n",
      "1 3 4 2\n",
      "1 4 2 3\n",
      "1 4 3 2\n",
      "2 1 3 4\n",
      "2 1 4 3\n",
      "2 3 1 4\n",
      "2 3 4 1\n",
      "2 4 1 3\n",
      "2 4 3 1\n",
      "3 1 2 4\n",
      "3 1 4 2\n",
      "3 2 1 4\n",
      "3 2 4 1\n",
      "3 4 1 2\n",
      "3 4 2 1\n",
      "4 1 2 3\n",
      "4 1 3 2\n",
      "4 2 1 3\n",
      "4 2 3 1\n",
      "4 3 1 2\n",
      "4 3 2 1\n"
     ]
    }
   ],
   "source": [
    "N, M = map(int, input().split())\n",
    "nums = [i+1 for i in range(N)]\n",
    "subset = []\n",
    "visited = [0] * (N+1)\n",
    "\n",
    "# 백트래킹 함수 정의\n",
    "def dfs():\n",
    "    # 길이가 제시된 M에 도달하면 즉시 subset 프린트\n",
    "    if len(subset) == M:\n",
    "        print(' '.join(map(str, subset)))\n",
    "        return\n",
    "    # 1 부터 N까지 반복\n",
    "    for i in range(1, N+1):\n",
    "        # 각 원소가 현재 subset에 들어가 있지 않다면, subset에 포함\n",
    "        if not visited[i]:\n",
    "            visited[i] = 1\n",
    "            subset.append(i)\n",
    "            dfs()\n",
    "            # 부분집합을 return 했다면, 마지막 원소부터 제거하면서 다른 경우의 수 탐색\n",
    "            subset.pop()\n",
    "            # pop한 원소는 visited 를 0으로 변경\n",
    "            visited[i] = 0\n",
    "\n",
    "dfs()"
   ]
  }
 ],
 "metadata": {
  "kernelspec": {
   "display_name": "Python 3",
   "language": "python",
   "name": "python3"
  },
  "language_info": {
   "codemirror_mode": {
    "name": "ipython",
    "version": 3
   },
   "file_extension": ".py",
   "mimetype": "text/x-python",
   "name": "python",
   "nbconvert_exporter": "python",
   "pygments_lexer": "ipython3",
   "version": "3.9.6"
  },
  "orig_nbformat": 4
 },
 "nbformat": 4,
 "nbformat_minor": 2
}
