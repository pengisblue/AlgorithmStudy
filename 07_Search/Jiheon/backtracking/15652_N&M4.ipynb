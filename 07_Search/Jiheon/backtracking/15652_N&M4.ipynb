{
 "cells": [
  {
   "cell_type": "markdown",
   "metadata": {},
   "source": [
    "### 15652 N과 M (4)\n",
    "\n",
    "1. 원소의 중복은 허용하되, 비내림차순이어야 함\n",
    "\n",
    "2. visited 를 기록하지 않고 중복을 허용하는 대신, 원소 탐색 범위를 현재 원소를 포함한 이후로 제한해서 비내림차순임을 구현!"
   ]
  },
  {
   "cell_type": "code",
   "execution_count": null,
   "metadata": {},
   "outputs": [],
   "source": [
    "N, M = map(int, input().split())\n",
    "subset = []\n",
    "# 간단한 백트래킹 함수 구현\n",
    "def dfs(start):\n",
    "    if len(subset) == M:\n",
    "        print(' '.join(map(str, subset)))\n",
    "        return\n",
    "    # 시작지점을 start -1 로 해서 이전 탐색 원소부터 그 이후 원소들만을 탐색함\n",
    "    for i in range(start-1, N+1):\n",
    "        subset.append(i)\n",
    "        dfs(i + 1)\n",
    "        subset.pop()\n",
    "dfs(2)"
   ]
  }
 ],
 "metadata": {
  "kernelspec": {
   "display_name": "Python 3",
   "language": "python",
   "name": "python3"
  },
  "language_info": {
   "codemirror_mode": {
    "name": "ipython",
    "version": 3
   },
   "file_extension": ".py",
   "mimetype": "text/x-python",
   "name": "python",
   "nbconvert_exporter": "python",
   "pygments_lexer": "ipython3",
   "version": "3.9.6"
  },
  "orig_nbformat": 4
 },
 "nbformat": 4,
 "nbformat_minor": 2
}
