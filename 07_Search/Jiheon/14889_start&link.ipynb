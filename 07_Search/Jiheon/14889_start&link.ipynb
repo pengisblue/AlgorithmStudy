{
 "cells": [
  {
   "cell_type": "markdown",
   "metadata": {},
   "source": [
    "### 14889 스타트와 링크\n",
    "\n",
    "1. 가능한 부분집합의 경우의 수를 다 구함\n",
    "\n",
    "2. 각 부분집합의 점수 합을 구함\n",
    "\n",
    "3. visited 행렬을 방문했다면, 1팀 아니라면 2팀으로 나누어서 계산!"
   ]
  },
  {
   "cell_type": "code",
   "execution_count": null,
   "metadata": {},
   "outputs": [],
   "source": [
    "import sys\n",
    "input = sys.stdin.readline\n",
    "\n",
    "N = int(input())\n",
    "visited = [0] * N\n",
    "rlt = 10 ** 5\n",
    "matrix = []\n",
    "for i in range(N):\n",
    "    matrix.append(list(map(int, input().split())))\n",
    "\n",
    "def back(L, num):\n",
    "    global rlt\n",
    "    # 각 팀의 팀원 숫자는 총 참가자의 절반\n",
    "    if L == N // 2:\n",
    "        start = 0\n",
    "        link = 0\n",
    "        # 모든 원소에 대해 탐색\n",
    "        for i in range(N):\n",
    "            for j in range(N):\n",
    "                # 두 팀원이 모두 방문했다면, start 팀\n",
    "                if visited[i] and visited[j]:\n",
    "                    start += matrix[i][j]\n",
    "                # 두 팀원이 모두 방문하지 않았다면 link 팀\n",
    "                elif not visited[i] and not visited[j]:\n",
    "                    link += matrix[i][j]\n",
    "        # 그 합의 최솟값을 구함\n",
    "        rlt = min(rlt, abs(start - link))\n",
    "        return\n",
    "    for i in range(num, N):\n",
    "        # 아직 방문하지 않은 팀원에 대해서 모두 탐색\n",
    "        if not visited[i]:\n",
    "            visited[i] = 1\n",
    "            back(L+1, i+1)\n",
    "            visited[i] = 0\n",
    "back(0, 0)\n",
    "print(rlt)"
   ]
  }
 ],
 "metadata": {
  "language_info": {
   "name": "python"
  },
  "orig_nbformat": 4
 },
 "nbformat": 4,
 "nbformat_minor": 2
}
