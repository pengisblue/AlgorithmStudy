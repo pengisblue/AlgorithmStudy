{
 "cells": [
  {
   "cell_type": "markdown",
   "metadata": {},
   "source": [
    "### 24479 알고리즘 수업 - 깊이 우선 탐색 1\n",
    "\n",
    "1. node 리스트로 각 노드가 어떤 노드와 연결되어있는지 표시(리스트의 인덱스 : 각 노드의 번호, 리스트의 원소 : 각 노드의 자식 노드들)\n",
    "\n",
    "2. while문을 통해서, 깊이 우선 탐색을 실시!(트리가 내림차순 정렬이기 때문에, 자식노드들을 오름차순 정렬해야 스택에 넣었을 때 순서대로 반환가능!)\n",
    "\n",
    "3. 양방향 그래프이기 때문에, 양뱡향으로 연결시켜줌"
   ]
  },
  {
   "cell_type": "code",
   "execution_count": 4,
   "metadata": {},
   "outputs": [
    {
     "name": "stdout",
     "output_type": "stream",
     "text": [
      "1\n",
      "0\n",
      "0\n",
      "2\n",
      "0\n"
     ]
    }
   ],
   "source": [
    "# 깊이 우선 탐색 함수정의(N -> 노드의 갯수, start -> 탐색 시작 노드)\n",
    "def DFS(N, start):\n",
    "    cnt = 1\n",
    "    # 깊이 우선 탐색중, 연결되어 있으나 아직 탐색하지 않은 노드는 stack에 저장. 처음 시작 노드를 stack에 저장하고 시작\n",
    "    stack = [start]\n",
    "    # 만난 노드들을 기록하기 위해 list 미리 할당\n",
    "    visited = [0] * (N+1)\n",
    "    # 결과 값 저장을 위한 list할당\n",
    "    result = [0] * (N+1)\n",
    "    # stack에 원소가 남아있을때(연결되었으나 탐색하지 않은 노드) 반복\n",
    "    while stack:\n",
    "        # 스택에 저장되어있는 현재 탐색 노드 불러옴\n",
    "        now = stack.pop()\n",
    "        # 현재 탐색 노드가 방문한적이 없다면, 방문기록을 남기고 탐색순서 변수인 cnt를 result의 현재 탐색 노드 위치에 할당\n",
    "        if visited[now] == 0:\n",
    "            visited[now] = 1\n",
    "            result[now] = cnt\n",
    "            cnt += 1\n",
    "        # 현재 노드에서 갈 수 있는 자식노드들을 순회하면서, 스택에 저장\n",
    "        # 자식노드들을 스택에 저장했다가 빼는 과정에서 정렬순서가 뒤집히기 떄문에, 내림차순으로 자식노드를 정렬해야 오름차순으로 인접 노드를 방문할 수 있다\n",
    "        for i in node[now]:\n",
    "            if visited[i] == 0:\n",
    "                stack.append(i)\n",
    "    # 1번 노드부터 시작(0번 노드 존재x)이기 때문에, 결과의 1번째 index부터 return\n",
    "    return result[1:]\n",
    "\n",
    "\n",
    "N, M, R = map(int, input().split())\n",
    "node = [[] for _ in range(N+1)]\n",
    "for i in range(M):\n",
    "    start, end = map(int, input().split())\n",
    "    # 양방향 그래프이기 때문에, 양쪽모두 왕복으로 연결\n",
    "    node[start].append(end)\n",
    "    node[end].append(start)\n",
    "# 오름차순으로 방문하기 위해서 내림차순으로 자식 노드들을 정렬\n",
    "for i in range(1, len(node)):\n",
    "    node[i].sort(reverse=True)\n",
    "rlt = DFS(N, R)\n",
    "for i in range(len(rlt)):\n",
    "    print(rlt[i])\n",
    "    "
   ]
  }
 ],
 "metadata": {
  "kernelspec": {
   "display_name": "Python 3",
   "language": "python",
   "name": "python3"
  },
  "language_info": {
   "codemirror_mode": {
    "name": "ipython",
    "version": 3
   },
   "file_extension": ".py",
   "mimetype": "text/x-python",
   "name": "python",
   "nbconvert_exporter": "python",
   "pygments_lexer": "ipython3",
   "version": "3.9.6"
  },
  "orig_nbformat": 4
 },
 "nbformat": 4,
 "nbformat_minor": 2
}
