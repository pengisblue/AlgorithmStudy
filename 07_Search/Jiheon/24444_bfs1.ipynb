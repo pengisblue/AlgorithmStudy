{
 "cells": [
  {
   "cell_type": "markdown",
   "metadata": {},
   "source": [
    "### 24444 알고리즘 수업 - 너비 우선 탐색 1\n",
    "\n",
    "1. bfs를 구현하는 문제\n",
    "\n",
    "2. 덱을 사용해서, 같은 깊이에 있는 노드들을 우선탐색\n",
    "\n",
    "3. 덱의 경우 선입선출이기 떄문에, 오름차순으로 탐색하는 같은 깊이의 노드들을 오름차순으로 정렬하면 됨!"
   ]
  },
  {
   "cell_type": "code",
   "execution_count": 5,
   "metadata": {},
   "outputs": [
    {
     "name": "stdout",
     "output_type": "stream",
     "text": [
      "1\n",
      "2\n",
      "4\n",
      "3\n",
      "0\n"
     ]
    }
   ],
   "source": [
    "from collections import deque\n",
    "\n",
    "def bfs(N, start):\n",
    "    # que를 통해서 구현\n",
    "    que = deque([start])\n",
    "    visited = [0] * (N+1)\n",
    "    visited[start] = 1\n",
    "    cnt = 2\n",
    "    # 큐가 빌때까지 반복\n",
    "    while que:\n",
    "        # 선입선출원리에 따라 들어간지 가장 오래된 원소 반환\n",
    "        now = que.popleft()\n",
    "        for i in node[now]:\n",
    "            # 현재 노드와 연결된 노드들이 방문한 적 없다면, que에 넣음\n",
    "            if visited[i] == 0:\n",
    "                que.append(i)\n",
    "                visited[i] = cnt\n",
    "                cnt += 1\n",
    "    return visited[1:]\n",
    "    \n",
    "N, M, R = map(int, input().split())\n",
    "node = [[]for _ in range(N+1)]\n",
    "for _ in range(M):\n",
    "    start, end = map(int, input().split())\n",
    "    node[start].append(end)\n",
    "    node[end].append(start)\n",
    "for i in range(1, N+1):\n",
    "    # 오름차순으로 탐색해야하기 때문에 형제노드들을 오름차순으로 정렬!\n",
    "    node[i].sort()\n",
    "print(*bfs(N, R), sep = '\\n')"
   ]
  }
 ],
 "metadata": {
  "kernelspec": {
   "display_name": "Python 3",
   "language": "python",
   "name": "python3"
  },
  "language_info": {
   "codemirror_mode": {
    "name": "ipython",
    "version": 3
   },
   "file_extension": ".py",
   "mimetype": "text/x-python",
   "name": "python",
   "nbconvert_exporter": "python",
   "pygments_lexer": "ipython3",
   "version": "3.9.6"
  },
  "orig_nbformat": 4
 },
 "nbformat": 4,
 "nbformat_minor": 2
}
