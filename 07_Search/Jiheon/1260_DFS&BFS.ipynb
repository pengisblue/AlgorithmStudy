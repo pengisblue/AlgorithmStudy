{
 "cells": [
  {
   "cell_type": "markdown",
   "metadata": {},
   "source": [
    "### DFS와 BFS\n",
    "\n",
    "1. DFS 와 BFS를 구현하면 되는 문제\n",
    "\n",
    "2. DFS는 stack을, BFS는 deque을 사용해서 구현하기 때문에, 같은 정렬에서도 결과가 다르게 나옴!\n",
    "\n",
    "3. 때문에 DFS는 내림차순, BFS는 오름차순 된 노드에서 실행\n",
    "\n",
    "4. 방문순서대로 노드번호를 출력하는 문제였기 떄문에, 노드를 방문할때마다 노드번호를 출력하도록 함수 생성"
   ]
  },
  {
   "cell_type": "code",
   "execution_count": 6,
   "metadata": {},
   "outputs": [
    {
     "name": "stdout",
     "output_type": "stream",
     "text": [
      "3 1 2 5 4 \n",
      "3 1 4 2 5 "
     ]
    }
   ],
   "source": [
    "from collections import deque\n",
    "\n",
    "def dfs(N, start, node):\n",
    "    visited = [0] * (N+1)\n",
    "    stack = [start]\n",
    "    while stack:\n",
    "        now = stack.pop()\n",
    "        if visited[now] == 0:\n",
    "            visited[now] = 1\n",
    "            # 이전에 방문하지 않은 노드를 방문할 시, 그 노드번호를 출력\n",
    "            print(now, end = ' ')\n",
    "            for i in node[now]:\n",
    "                stack.append(i)\n",
    "\n",
    "def bfs(N, start, node):\n",
    "    visited = [0] * (N+1)\n",
    "    que = deque([start])\n",
    "    while que:\n",
    "        now = que.popleft()\n",
    "        if visited[now] == 0:\n",
    "            visited[now] = 1\n",
    "            # 이전에 방문하지 않은 노드를 방문할 시, 그 노드번호를 출력\n",
    "            print(now, end = ' ')\n",
    "            for i in node[now]:\n",
    "                que.append(i)\n",
    "\n",
    "N, M, V = map(int, input().split())\n",
    "node = [[]for _ in range(N+1)]\n",
    "for _ in range(M):\n",
    "    start, end = map(int, input().split())\n",
    "    node[start].append(end)\n",
    "    node[end].append(start)\n",
    "for i in range(1, N+1):\n",
    "    # dfs는 stack으로 구현하기 때문에, 오름차순으로 탐색하기 위해선, 노드들이 내림차순으로 정렬되어 있어야 함\n",
    "    node[i].sort(reverse = True)\n",
    "dfs(N, V, node)\n",
    "print()\n",
    "for i in range(1, N+1):\n",
    "    node[i].sort()\n",
    "bfs(N, V, node)"
   ]
  }
 ],
 "metadata": {
  "kernelspec": {
   "display_name": "Python 3",
   "language": "python",
   "name": "python3"
  },
  "language_info": {
   "codemirror_mode": {
    "name": "ipython",
    "version": 3
   },
   "file_extension": ".py",
   "mimetype": "text/x-python",
   "name": "python",
   "nbconvert_exporter": "python",
   "pygments_lexer": "ipython3",
   "version": "3.9.6"
  },
  "orig_nbformat": 4
 },
 "nbformat": 4,
 "nbformat_minor": 2
}
