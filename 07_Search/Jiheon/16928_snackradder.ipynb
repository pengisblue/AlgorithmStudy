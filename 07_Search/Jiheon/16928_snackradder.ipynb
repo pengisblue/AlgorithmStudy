{
 "cells": [
  {
   "cell_type": "markdown",
   "metadata": {},
   "source": [
    "### 16928 뱀과 사다리 게임\n",
    "\n",
    "1. 사다리나 뱀은 노드로 연결 되어있다고 생각\n",
    "\n",
    "2. 각 노드에 연결된 노드가 없다면, 주사위가 움직이는 것 만큼 (1-6) now 를 이동\n",
    "\n",
    "3. 도착한 노드에 만약 연결된 노드가 있다면(사다리/뱀을 만났다면) 그 노드와 연결된 노드로 이동\n",
    "\n",
    "4. 다음노드가 도착점인 경우, 즉시 이동한 횟수를 반환"
   ]
  },
  {
   "cell_type": "code",
   "execution_count": 9,
   "metadata": {},
   "outputs": [
    {
     "name": "stdout",
     "output_type": "stream",
     "text": [
      "5\n"
     ]
    }
   ],
   "source": [
    "from collections import deque\n",
    "\n",
    "# 주사위로 이동하는 값 델타값을 설정\n",
    "delta = [1, 2, 3, 4, 5, 6]\n",
    "node = [[]for _ in range(101)]\n",
    "\n",
    "# 각 사다리와 뱀들을 노드로 연결\n",
    "N, M = map(int, input().split())\n",
    "for _ in range(N+M):\n",
    "    start, end = map(int, input().split())\n",
    "    node[start].append(end)\n",
    "\n",
    "# 너비 우선 탐색 정의\n",
    "def bfs():\n",
    "    que = deque([1])\n",
    "    visited = [0] * 101\n",
    "    while que:\n",
    "        now = que.popleft()\n",
    "        # 매 시행에서 주사위를 던지는 모든 경우의 수 탐색\n",
    "        for i in delta:\n",
    "            next = now + i\n",
    "            # 만약 주사위를 던진 도착지점에 연결된 노드가 있다면, 바로 연결된 노드로 이동\n",
    "            if node[next]:\n",
    "                next = node[next][0]\n",
    "            # 최종 도착지점에 도착한다면, 그 즉시 이동 횟수 return \n",
    "            if next == 100:\n",
    "                return visited[now] + 1\n",
    "            # 주사위를 던진 도착지점이 최종 도착지점 이전이면서 이전에 가본적이 없는 경우에만, 이동 후 이동 횟수 기록\n",
    "            if next <= 100 and not visited[next]:\n",
    "                que.append(next)\n",
    "                visited[next] = visited[now] + 1\n",
    "\n",
    "print(bfs())"
   ]
  }
 ],
 "metadata": {
  "kernelspec": {
   "display_name": "Python 3",
   "language": "python",
   "name": "python3"
  },
  "language_info": {
   "codemirror_mode": {
    "name": "ipython",
    "version": 3
   },
   "file_extension": ".py",
   "mimetype": "text/x-python",
   "name": "python",
   "nbconvert_exporter": "python",
   "pygments_lexer": "ipython3",
   "version": "3.9.6"
  },
  "orig_nbformat": 4
 },
 "nbformat": 4,
 "nbformat_minor": 2
}
