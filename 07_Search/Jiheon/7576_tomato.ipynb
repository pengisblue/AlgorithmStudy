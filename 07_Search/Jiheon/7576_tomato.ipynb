{
 "cells": [
  {
   "cell_type": "markdown",
   "metadata": {},
   "source": [
    "### 7576 토마토\n",
    "\n",
    "1. 시작지점이 여러개다 -> 시작지점을 모두 que안에 넣어서 시작지점부터 너비 우선 탐색 실시\n",
    "\n",
    "2. 반복문이 다 돌아갔지만, tomato 안에 0 이 존재하면 -1 return\n",
    "\n",
    "3. 모든 토마토가 이미 익어있으면, 너비 우선 탐색이 안돌아가기 때문에, 0 return"
   ]
  },
  {
   "cell_type": "code",
   "execution_count": 15,
   "metadata": {},
   "outputs": [
    {
     "name": "stdout",
     "output_type": "stream",
     "text": [
      "0\n"
     ]
    }
   ],
   "source": [
    "from collections import deque\n",
    "\n",
    "dx = [1, -1, 0, 0]\n",
    "dy = [0, 0, 1, -1]\n",
    "\n",
    "def bfs(start_list):\n",
    "    # cnt 초기값 설정해줘서 너비 우선 탐색이 안돌아가도 0 반환이 가능하게 했음\n",
    "    cnt = 0\n",
    "    que = deque(start_list)\n",
    "    while que:\n",
    "        x, y = que.popleft()\n",
    "        for i in range(4):\n",
    "            nx = x + dx[i]\n",
    "            ny = y + dy[i]\n",
    "            if 0 <= nx < N and 0 <= ny < M and tomato[nx][ny] == 0:\n",
    "                cnt = tomato[x][y]\n",
    "                # 실시간으로 토마토 좌표에 지나간 시간 표시\n",
    "                tomato[nx][ny] = cnt + 1\n",
    "                que.append([nx, ny])\n",
    "    for i in range(N):\n",
    "        for j in range(M):\n",
    "            if tomato[i][j] == 0:\n",
    "                return -1\n",
    "    # while 이 다돌았다는 것은 지나갈 수 있는 토마토를 다 지나간 것이기 때문에, 바로 cnt 값 return\n",
    "    return cnt\n",
    "\n",
    "M, N = map(int, input().split())\n",
    "tomato = []\n",
    "for i in range(N):\n",
    "    tomato.append(list(map(int, input().split())))\n",
    "start_point = []\n",
    "for i in range(N):\n",
    "    for j in range(M):\n",
    "        if tomato[i][j] == 1:\n",
    "            start_point.append([i, j])\n",
    "rlt = bfs(start_point)\n",
    "print(rlt)"
   ]
  }
 ],
 "metadata": {
  "kernelspec": {
   "display_name": "Python 3",
   "language": "python",
   "name": "python3"
  },
  "language_info": {
   "codemirror_mode": {
    "name": "ipython",
    "version": 3
   },
   "file_extension": ".py",
   "mimetype": "text/x-python",
   "name": "python",
   "nbconvert_exporter": "python",
   "pygments_lexer": "ipython3",
   "version": "3.9.13"
  },
  "orig_nbformat": 4
 },
 "nbformat": 4,
 "nbformat_minor": 2
}
