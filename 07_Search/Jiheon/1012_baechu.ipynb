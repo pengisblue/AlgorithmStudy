{
 "cells": [
  {
   "cell_type": "markdown",
   "metadata": {},
   "source": [
    "### 1012 유기농 배추\n",
    "\n",
    "1. 단지 번호매기기와 거의 동일\n",
    "\n",
    "2. 2차원리스트를 순회하면서, 배추와 마주치면(1) 탐색실시(DFS or BFS)\n",
    "\n",
    "3. 이미 탐색한 배추는 지우면서 탐색(0)\n",
    "\n",
    "4. 인접해있는 배추는 한번의 탐색에 다 탐색이 가능하기 때문에, 탐색이 실시된 횟수가 인접하지 않은 배추들의 수!"
   ]
  },
  {
   "cell_type": "code",
   "execution_count": 13,
   "metadata": {},
   "outputs": [
    {
     "name": "stdout",
     "output_type": "stream",
     "text": [
      "2\n"
     ]
    }
   ],
   "source": [
    "from collections import deque\n",
    "\n",
    "dx = [1, -1, 0, 0]\n",
    "dy = [0, 0, 1, -1]\n",
    "\n",
    "# 너비우선탐색정의. 너비우선탐색이 돌아간 횟수만 필요하기 때문에, 아무런 return 값이 없어도 됨\n",
    "def bfs(startx, starty):\n",
    "    que = deque([[startx, starty]])\n",
    "    baechu[startx][starty] = 0\n",
    "    while que:\n",
    "        x, y = que.popleft()\n",
    "        for i in range(4):\n",
    "            nx = x + dx[i]\n",
    "            ny = y + dy[i]\n",
    "            if nx < 0 or ny < 0 or nx >= M or ny >= N:\n",
    "                continue\n",
    "            if baechu[nx][ny] == 1:\n",
    "                baechu[nx][ny] = 0\n",
    "                que.append([nx, ny])\n",
    "    \n",
    "\n",
    "T = int(input())\n",
    "for _ in range(T):\n",
    "    M, N, K = map(int, input().split())\n",
    "    baechu = [[0 for i in range(N)] for i in range(M)]\n",
    "    for k in range(K):\n",
    "        x, y = map(int, input().split())\n",
    "        baechu[x][y] = 1\n",
    "    cnt = 0\n",
    "    # 모든 좌표를 돌면서 탐색하지 않은 배추가 있다면, 탐색실시. 탐색횟수를 따로 세어놨다가 print\n",
    "    for i in range(M):\n",
    "        for j in range(N):\n",
    "            if baechu[i][j] == 1:\n",
    "                bfs(i, j)\n",
    "                cnt += 1\n",
    "    print(cnt)"
   ]
  }
 ],
 "metadata": {
  "kernelspec": {
   "display_name": "Python 3",
   "language": "python",
   "name": "python3"
  },
  "language_info": {
   "codemirror_mode": {
    "name": "ipython",
    "version": 3
   },
   "file_extension": ".py",
   "mimetype": "text/x-python",
   "name": "python",
   "nbconvert_exporter": "python",
   "pygments_lexer": "ipython3",
   "version": "3.9.13"
  },
  "orig_nbformat": 4
 },
 "nbformat": 4,
 "nbformat_minor": 2
}
