{
 "cells": [
  {
   "cell_type": "markdown",
   "metadata": {},
   "source": [
    "### 7576 토마토\n",
    "\n",
    "1. 2차원 토마토와 흐름은 동일!\n",
    "\n",
    "2. 3차원 좌표가 조금 헷갈리니까 주의해서 풀 것!"
   ]
  },
  {
   "cell_type": "code",
   "execution_count": 11,
   "metadata": {},
   "outputs": [
    {
     "name": "stdout",
     "output_type": "stream",
     "text": [
      "0\n"
     ]
    }
   ],
   "source": [
    "from collections import deque\n",
    "\n",
    "def bfs(list):\n",
    "    cnt = 0\n",
    "    que = deque(list)\n",
    "    while que:\n",
    "        # 각 좌표값을 받아옴\n",
    "        x, y, z = que.popleft()\n",
    "        for i in range(6):\n",
    "            # 델타값을 기준으로 탐색\n",
    "            nx, ny, nz = x + dx[i], y + dy[i], z + dz[i]\n",
    "            # 자식노드로 나아갈 때 마다 cnt + 1\n",
    "            if 0 <= nx < H and 0 <= ny < N and 0 <= nz < M and tomato[nx][ny][nz] == 0:\n",
    "                cnt = tomato[x][y][z]\n",
    "                tomato[nx][ny][nz] = cnt + 1\n",
    "                que.append([nx, ny, nz])\n",
    "    # 만약 특정 좌표에 익지 않은 토마토(0)을 발견하면 즉시 -1 return\n",
    "    for i in range(H):\n",
    "        for j in range(N):\n",
    "            for k in range(M):\n",
    "                if tomato[i][j][k] == 0:\n",
    "                    return -1\n",
    "    return cnt\n",
    "\n",
    "# 3차원 델타값\n",
    "dx = [1, -1, 0, 0, 0, 0]\n",
    "dy = [0, 0, 0, 0, 1, -1]\n",
    "dz = [0, 0, 1, -1, 0, 0]\n",
    "\n",
    "M, N, H = map(int, input().split())\n",
    "tomato = [[] for _ in range(H)]\n",
    "# 토마토의 좌표들을 3차원 리스트로 저장\n",
    "for h in range(H):\n",
    "    for n in range(N):\n",
    "        tomato[h].append(list(map(int, input().split())))\n",
    "start_list = []\n",
    "for i in range(H):\n",
    "    for j in range(N):\n",
    "        for k in range(M):\n",
    "            # 토마토의 좌표값을 리스트로 저장하여 너비우선탐색 시작점으로 사용!\n",
    "            if tomato[i][j][k] == 1:\n",
    "                start_list.append([i, j, k])\n",
    "print(bfs(start_list))"
   ]
  }
 ],
 "metadata": {
  "kernelspec": {
   "display_name": "Python 3",
   "language": "python",
   "name": "python3"
  },
  "language_info": {
   "codemirror_mode": {
    "name": "ipython",
    "version": 3
   },
   "file_extension": ".py",
   "mimetype": "text/x-python",
   "name": "python",
   "nbconvert_exporter": "python",
   "pygments_lexer": "ipython3",
   "version": "3.9.13"
  },
  "orig_nbformat": 4
 },
 "nbformat": 4,
 "nbformat_minor": 2
}
