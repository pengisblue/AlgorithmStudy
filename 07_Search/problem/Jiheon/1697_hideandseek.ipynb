{
 "cells": [
  {
   "cell_type": "markdown",
   "metadata": {},
   "source": [
    "### 1697 숨바꼭질\n",
    "\n",
    "1. 수빈이가 이동하는 경우의 수를 너비 우선 탐색으로 탐색하면 된다.\n",
    "\n",
    "2. K에 도착한다고 가정한다면 K-1에서 2배 건너뛴다고 가정하면, K에 도착하기 전에 갈 수 있는 경우의 좌표 중 가장 먼 좌표는 2 * K -1 이다.\n",
    "\n",
    "3. 이동하는 경우(앞으로 한칸, 뒤로 한칸, 2배 좌표로 순간이동)가 각좌표에서의 자식 노드가 된다.\n",
    "\n",
    "4. 0과 MAX 값 사이에서 방문하지 않은 좌표를 계속 방문하면서 경우의 수를 탐색\n",
    "\n",
    "5. 너비우선 탐색이기 때문에, 가장 먼저 도착한 경우의 수가 가장 빠른 경우의 수이다."
   ]
  },
  {
   "cell_type": "code",
   "execution_count": 42,
   "metadata": {},
   "outputs": [
    {
     "name": "stdout",
     "output_type": "stream",
     "text": [
      "4\n"
     ]
    }
   ],
   "source": [
    "from collections import deque\n",
    "\n",
    "# 만약 N 이 같거나 더 크다면, MAX 값 조정 필요\n",
    "N, K = map(int, input().split())\n",
    "if K > N:\n",
    "    MAX = 2 * K + 1\n",
    "else:\n",
    "    MAX = 10 ** 5\n",
    "\n",
    "# 깊이 우선 탐색 실시\n",
    "def bfs(N, K):\n",
    "    # 방문한 좌표의 값은 MAX 값보다 1 커야함\n",
    "    visited = [0] * (MAX + 1)\n",
    "    que = deque([N])\n",
    "    while que:\n",
    "        now = que.popleft()\n",
    "        # 최초로 목적지에 도착했다면, 그때의 visited 값 반환\n",
    "        if now == K:\n",
    "            return visited[now]\n",
    "        # 자식노드는 뒤로가는경우, 앞으로 가는 경우, 순간이동하는 경우 3가지 경우의 수\n",
    "        for next in (now - 1, now + 1, now * 2):\n",
    "            # 좌표는 0과 MAX 값 사이여야 하며, 이전에 방문한 적 없는 좌표여야 한다.\n",
    "            if 0 <= next <= MAX and not visited[next]:\n",
    "                # 방문한다면, 이전 방문한 좌표의 값에서 + 1 을 더한값(이동한 횟수)를 기록한다.\n",
    "                visited[next] = visited[now] + 1\n",
    "                que.append(next)\n",
    "                \n",
    "print(bfs(N, K))"
   ]
  }
 ],
 "metadata": {
  "kernelspec": {
   "display_name": "Python 3",
   "language": "python",
   "name": "python3"
  },
  "language_info": {
   "codemirror_mode": {
    "name": "ipython",
    "version": 3
   },
   "file_extension": ".py",
   "mimetype": "text/x-python",
   "name": "python",
   "nbconvert_exporter": "python",
   "pygments_lexer": "ipython3",
   "version": "3.9.13"
  },
  "orig_nbformat": 4
 },
 "nbformat": 4,
 "nbformat_minor": 2
}
