{
 "cells": [
  {
   "cell_type": "markdown",
   "metadata": {},
   "source": [
    "### 나이트의 이동\n",
    "\n",
    "1. 2차원 리스트 내에서 나이트가 이동할 수 있는 경우의 수가 자식노드!\n",
    "\n",
    "2. 모든 경우에 대해서 너비 우선 탐색을 통해서 최소경로를 검색한다."
   ]
  },
  {
   "cell_type": "code",
   "execution_count": null,
   "metadata": {},
   "outputs": [],
   "source": [
    "from collections import deque\n",
    "# 나이트가 이동할 수 있는 델타 값 정리\n",
    "dx = [2, 2, 1, 1, -1, -1, -2, -2]\n",
    "dy = [1, -1, 2, -2, 2, -2, 1, -1]\n",
    "# 너비 우선 탐색 정의\n",
    "def bfs():\n",
    "    que = deque([[nowx, nowy]])\n",
    "    while que:\n",
    "        x, y = que.popleft()\n",
    "        if x == goalx and y == goaly:\n",
    "            return board[x][y]\n",
    "        for i in range(8):\n",
    "            nx, ny = x + dx[i], y + dy[i]\n",
    "            # 이동한 결과가 2차원 리스트 내부이고, 방문한 적이 없다면 탐색\n",
    "            if 0 <= nx < N and 0 <= ny < N and board[nx][ny] == 0:\n",
    "                # 이동한 횟수를 카운트 하기 위해서 2차원 리스트에 이동한 횟수 기록\n",
    "                board[nx][ny] = board[x][y] + 1\n",
    "                que.append([nx, ny])\n",
    "\n",
    "T = int(input())\n",
    "for t in range(T):\n",
    "    N = int(input())\n",
    "    board = [[0 for _ in range(N)] for _ in range(N)]\n",
    "    nowx, nowy = map(int, input().split())\n",
    "    goalx, goaly = map(int, input().split())\n",
    "    print(bfs())"
   ]
  }
 ],
 "metadata": {
  "kernelspec": {
   "display_name": "Python 3",
   "language": "python",
   "name": "python3"
  },
  "language_info": {
   "codemirror_mode": {
    "name": "ipython",
    "version": 3
   },
   "file_extension": ".py",
   "mimetype": "text/x-python",
   "name": "python",
   "nbconvert_exporter": "python",
   "pygments_lexer": "ipython3",
   "version": "3.9.13"
  },
  "orig_nbformat": 4
 },
 "nbformat": 4,
 "nbformat_minor": 2
}
