{
 "cells": [
  {
   "cell_type": "markdown",
   "metadata": {},
   "source": [
    "# 0x04강 - 연결 리스트\n",
    "### 특징\n",
    "  1. 동적 배열이다\n",
    "  \n",
    "  2. 삽입과 삭제가 쉽다.\n",
    "  3. 스택과 큐 등의 자료 구조를 만들 때 사용한다.\n",
    "  4. k번째 원소를 확인/변경하기 위해 O(k)가 필요함\n",
    "  5. 임의의 위치에 원소를 추가/임의 위치의 원소 제거는 O(1)"
   ]
  },
  {
   "cell_type": "markdown",
   "metadata": {},
   "source": [
    "### 구현"
   ]
  },
  {
   "cell_type": "markdown",
   "metadata": {},
   "source": [
    "1. Node 생성"
   ]
  },
  {
   "cell_type": "code",
   "execution_count": 5,
   "metadata": {},
   "outputs": [],
   "source": [
    "\n",
    "class Node:\n",
    "  def __init__(self, data, next = None):\n",
    "    self.data = data # data는 값을 가리키는 변수\n",
    "    self.next = next # next는 다음 노드를 가리키는 변수"
   ]
  },
  {
   "cell_type": "markdown",
   "metadata": {},
   "source": [
    "2. Node 연결하기"
   ]
  },
  {
   "cell_type": "code",
   "execution_count": null,
   "metadata": {},
   "outputs": [],
   "source": [
    "node1 = Node(1)\n",
    "node2 = Node(3)\n",
    "node1.next = node2\n",
    "head = node1 # 가장 맨앞의 노드를 head로 지정\n",
    "print(node1.next.data)\n",
    "print(node2.data)"
   ]
  },
  {
   "cell_type": "markdown",
   "metadata": {},
   "source": [
    "3. Node 뒤에 값(tail)을 추가하는 함수"
   ]
  },
  {
   "cell_type": "code",
   "execution_count": 6,
   "metadata": {},
   "outputs": [],
   "source": [
    "def add(data):\n",
    "    node = head\n",
    "    while node.next: # node의 next가 있을 경우에만 실행\n",
    "        node = node.next # 다음 노드가 있는지 계속 반복\n",
    "    node.next = Node(data) # 다음 노드가 없을 경우 루프를 빠져나와 새로운 노드 생성"
   ]
  },
  {
   "cell_type": "code",
   "execution_count": null,
   "metadata": {},
   "outputs": [],
   "source": [
    "node1 = Node(1)\n",
    "head = node1\n",
    "add(3)\n",
    "print(node1.next.data)"
   ]
  },
  {
   "cell_type": "markdown",
   "metadata": {},
   "source": [
    "4. Node 전체 출력해보기"
   ]
  },
  {
   "cell_type": "code",
   "execution_count": null,
   "metadata": {},
   "outputs": [],
   "source": [
    "node1 = Node(1)\n",
    "head = node1\n",
    "add(3)\n",
    "add(4)\n",
    "add(5)\n",
    "\n",
    "# 추가한 값을 node1을 통해 next로 출력해보기\n",
    "node = head\n",
    "while node.next: # next 가 존재할 경우, 계속 실행\n",
    "    print(node.data)\n",
    "    node=node.next\n",
    "print(node.data)"
   ]
  }
 ],
 "metadata": {
  "kernelspec": {
   "display_name": "Python 3",
   "language": "python",
   "name": "python3"
  },
  "language_info": {
   "codemirror_mode": {
    "name": "ipython",
    "version": 3
   },
   "file_extension": ".py",
   "mimetype": "text/x-python",
   "name": "python",
   "nbconvert_exporter": "python",
   "pygments_lexer": "ipython3",
   "version": "3.9.13"
  },
  "orig_nbformat": 4
 },
 "nbformat": 4,
 "nbformat_minor": 2
}
