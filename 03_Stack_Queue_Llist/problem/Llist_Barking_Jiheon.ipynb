{
 "cells": [
  {
   "cell_type": "markdown",
   "metadata": {},
   "source": [
    "# 바킹독 0x04 연결 리스트"
   ]
  },
  {
   "cell_type": "markdown",
   "metadata": {},
   "source": [
    "### 1158 요세푸스 문제\n"
   ]
  },
  {
   "cell_type": "markdown",
   "metadata": {},
   "source": [
    "1. 주어진 N 길이로 Node 를 연결\n",
    "  \n",
    "2. N 번쨰 Node 와 head 를 연결하여 순환리스트 형성\n",
    "3. K-1 번째 노드의 next값을 print + next.next값을 연결함\n",
    "4. N번 반복"
   ]
  },
  {
   "cell_type": "code",
   "execution_count": 33,
   "metadata": {},
   "outputs": [
    {
     "name": "stdout",
     "output_type": "stream",
     "text": [
      "<3, 6, 2, 7, 5, 1, 4>\n"
     ]
    }
   ],
   "source": [
    "class Node:\n",
    "    def __init__(self, data, next = None):\n",
    "        self.data = data\n",
    "        self.next = next\n",
    "\n",
    "\n",
    "N, K = map(int, input().split())\n",
    "\n",
    "head = Node(1)\n",
    "node = head\n",
    "\n",
    "for i in range(1, N):\n",
    "    while node:\n",
    "        if node.next is None:\n",
    "            node.next = Node(i+1)\n",
    "            break\n",
    "        node = node.next\n",
    "\n",
    "node = head\n",
    "\n",
    "while node:\n",
    "    if node.next is None:\n",
    "        node.next = head\n",
    "        break\n",
    "    node = node.next\n",
    "\n",
    "ls = []\n",
    "\n",
    "for i in range(N):\n",
    "    for j in range(K-1):\n",
    "        node = node.next\n",
    "    ls.append(str(node.next.data))\n",
    "    node.next = node.next.next\n",
    "\n",
    "print('<', end = '')\n",
    "print(', '.join(ls), end = '')\n",
    "print('>')\n",
    "    \n"
   ]
  },
  {
   "cell_type": "markdown",
   "metadata": {},
   "source": [
    "### 1406 에디터"
   ]
  },
  {
   "cell_type": "markdown",
   "metadata": {},
   "source": [
    "1. 입력값을 이중연결리스트로 받음\n",
    "\n",
    "2. 현재 노드를 기준으로 하여 앞 뒤 노드를 연결"
   ]
  },
  {
   "cell_type": "code",
   "execution_count": null,
   "metadata": {},
   "outputs": [],
   "source": [
    "import sys\n",
    "input = sys.stdin.readline\n",
    "\n",
    "class Node:\n",
    "    def __init__(self, data, next = None, prev = None):\n",
    "        self.data = data\n",
    "        self.next = next\n",
    "        self.prev = prev\n",
    "\n",
    "string = input().rstrip()\n",
    "\n",
    "head = Node(0)\n",
    "node = head\n",
    "\n",
    "\n",
    "for char in string:\n",
    "    # double linked list로 초기화\n",
    "    new_node = Node(char, prev= node)\n",
    "    node.next = new_node\n",
    "    node = new_node\n",
    "\n",
    "M = int(input())\n",
    "for i in range(M):\n",
    "    ip = input()\n",
    "    if ip[0] == 'L':\n",
    "        if node.prev is not None:\n",
    "            node = node.prev\n",
    "    elif ip[0] == 'D':\n",
    "        if node.next is not None:\n",
    "            node = node.next\n",
    "    elif ip[0] == 'B':\n",
    "        if node.prev is not None:\n",
    "            temp_node = node.prev\n",
    "            temp_node.next = node.next\n",
    "            if node.next is not None:\n",
    "                node.next.prev = temp_node\n",
    "            node = temp_node\n",
    "    else:\n",
    "        temp_node = node.next\n",
    "        new_node = Node(ip[2], next = temp_node, prev = node)\n",
    "        node.next = new_node\n",
    "        if temp_node is not None:\n",
    "            temp_node.prev = new_node\n",
    "        node = new_node\n",
    "\n",
    "node = head\n",
    "\n",
    "while node.next is not None:\n",
    "    node = node.next\n",
    "    print(node.data, end = '')"
   ]
  },
  {
   "cell_type": "markdown",
   "metadata": {},
   "source": [
    "### 5397 키로거\n",
    "\n",
    "1. 1406 에디터와 거의 비슷한 문제!\n",
    "\n",
    "2. 출력형식 신경쓸것..."
   ]
  },
  {
   "cell_type": "code",
   "execution_count": null,
   "metadata": {},
   "outputs": [],
   "source": [
    "class Node:\n",
    "    def __init__(self, data, next = None, prev = None):\n",
    "        self.data = data\n",
    "        self.next = next\n",
    "        self.prev = prev\n",
    "\n",
    "\n",
    "N = int(input())\n",
    "\n",
    "for i in range(N):\n",
    "    log = input()\n",
    "    head = Node(None)\n",
    "    \n",
    "    node = head\n",
    "\n",
    "    for i in log:\n",
    "        if i == '<':\n",
    "            if node.prev is not None:\n",
    "                node = node.prev\n",
    "        elif i == '>':\n",
    "            if node.next is not None:\n",
    "                node = node.next\n",
    "        elif i == '-':\n",
    "            if node.prev is not None:\n",
    "                temp_node = node.prev\n",
    "                temp_node.next = node.next\n",
    "                if node.next is not None:\n",
    "                    node.next.prev = temp_node\n",
    "                node = temp_node\n",
    "        else:\n",
    "            temp_node = node.next\n",
    "            new_node = Node(i, next = temp_node, prev = node)\n",
    "            node.next = new_node\n",
    "            if temp_node is not None:\n",
    "                temp_node.prev = new_node\n",
    "            node = new_node\n",
    "            \n",
    "    \n",
    "    node = head\n",
    "\n",
    "    while node.next is not None:\n",
    "        node = node.next\n",
    "        print(node.data, end = '')\n",
    "    print()"
   ]
  }
 ],
 "metadata": {
  "kernelspec": {
   "display_name": "Python 3",
   "language": "python",
   "name": "python3"
  },
  "language_info": {
   "codemirror_mode": {
    "name": "ipython",
    "version": 3
   },
   "file_extension": ".py",
   "mimetype": "text/x-python",
   "name": "python",
   "nbconvert_exporter": "python",
   "pygments_lexer": "ipython3",
   "version": "3.9.13"
  },
  "orig_nbformat": 4
 },
 "nbformat": 4,
 "nbformat_minor": 2
}
