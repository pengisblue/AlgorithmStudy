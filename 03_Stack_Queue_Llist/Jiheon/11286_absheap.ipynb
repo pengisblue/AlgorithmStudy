{
 "cells": [
  {
   "cell_type": "markdown",
   "metadata": {},
   "source": [
    "### 11286 절대값 힙\n",
    "\n",
    "1. 우선순위로 절대값을 등록\n",
    "\n",
    "2. 절대값을 기준으로 출력"
   ]
  },
  {
   "cell_type": "code",
   "execution_count": 2,
   "metadata": {},
   "outputs": [
    {
     "name": "stdout",
     "output_type": "stream",
     "text": [
      "-1\n",
      "1\n",
      "0\n",
      "-1\n",
      "-1\n",
      "1\n",
      "1\n",
      "-2\n",
      "2\n",
      "0\n"
     ]
    }
   ],
   "source": [
    "import heapq\n",
    "\n",
    "N = int(input())\n",
    "hq = []\n",
    "for i in range(N):\n",
    "    query = int(input())\n",
    "    if query == 0:\n",
    "        if hq:\n",
    "            print(heapq.heappop(hq)[1])\n",
    "        else:\n",
    "            print(0)\n",
    "    else:\n",
    "        heapq.heappush(hq, (abs(query), query))"
   ]
  }
 ],
 "metadata": {
  "kernelspec": {
   "display_name": "Python 3",
   "language": "python",
   "name": "python3"
  },
  "language_info": {
   "codemirror_mode": {
    "name": "ipython",
    "version": 3
   },
   "file_extension": ".py",
   "mimetype": "text/x-python",
   "name": "python",
   "nbconvert_exporter": "python",
   "pygments_lexer": "ipython3",
   "version": "3.9.13"
  },
  "orig_nbformat": 4
 },
 "nbformat": 4,
 "nbformat_minor": 2
}
