{
 "cells": [
  {
   "cell_type": "markdown",
   "metadata": {},
   "source": [
    "### 9012 괄호\n",
    "\n",
    "1. 왼쪽 괄호가 들어오면, stack에 쌓는다.\n",
    "\n",
    "2. 오른쪽 괄호가 들어오면, stack에서 뺀다\n",
    "\n",
    "3. 만약, stack 이 비었는데 오른쪽 괄호가 들어오거나 list의 맨 끝까지 돌았는데 stack에 원소가 있다면, NO를 print 한다."
   ]
  },
  {
   "cell_type": "code",
   "execution_count": 9,
   "metadata": {},
   "outputs": [
    {
     "name": "stdout",
     "output_type": "stream",
     "text": [
      "['(', ')', '(', ')', '(', ')', '(', ')']\n",
      "NO\n",
      "['(', '(', ')', ')', '(', ')', ')']\n",
      "NO\n",
      "['(', '(', ')', ')', '(', ')', ')']\n",
      "NO\n",
      "['(', '(', ')', ')', '(', '(', ')']\n",
      "NO\n",
      "[]\n",
      "NO\n",
      "[]\n",
      "NO\n"
     ]
    }
   ],
   "source": [
    "T = int(input())\n",
    "\n",
    "for i in range(T):\n",
    "    stack = []\n",
    "    a=input()\n",
    "    for j in a:\n",
    "        # 왼쪽 괄호는 stack에 저장한다.\n",
    "        if j == '(':\n",
    "            stack.append(j)\n",
    "        # 오른쪽 괄호는 stack에서 pop한다.\n",
    "        elif j == ')':\n",
    "            if stack:\n",
    "                stack.pop()\n",
    "            # stack이 비어있는데, pop을 해야한다면 바로 NO를 print 한다.\n",
    "            else: \n",
    "                print(\"NO\")\n",
    "                break\n",
    "    # 끝까지 돈경우\n",
    "    else:\n",
    "        # stack이 비어있다면 yes 출력\n",
    "        if not stack: \n",
    "            print(\"YES\")\n",
    "        # 끝까지 탐색했는데 stack에 원소가 있다면 no 출력\n",
    "        else: \n",
    "            print(\"NO\")\n"
   ]
  }
 ],
 "metadata": {
  "kernelspec": {
   "display_name": "Python 3",
   "language": "python",
   "name": "python3"
  },
  "language_info": {
   "codemirror_mode": {
    "name": "ipython",
    "version": 3
   },
   "file_extension": ".py",
   "mimetype": "text/x-python",
   "name": "python",
   "nbconvert_exporter": "python",
   "pygments_lexer": "ipython3",
   "version": "3.9.13"
  },
  "orig_nbformat": 4
 },
 "nbformat": 4,
 "nbformat_minor": 2
}
