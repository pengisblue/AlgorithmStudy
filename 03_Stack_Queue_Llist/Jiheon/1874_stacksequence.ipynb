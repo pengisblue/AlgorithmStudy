{
 "cells": [
  {
   "cell_type": "markdown",
   "metadata": {},
   "source": [
    "### 1874 스택 수열\n",
    "\n",
    "1. push, pop, peek 등의 기능을 가진 기초적인 스택을 구현\n",
    "\n",
    "2. 1부터 stack에 차곡차곡 쌓기 때문에, push 를 할 때 마다 peek의 값 확인\n",
    "\n",
    "3. peek 값이 input 과 같다면, pop\n",
    "\n",
    "4. push 와 pop의 반복을 기록"
   ]
  },
  {
   "cell_type": "code",
   "execution_count": null,
   "metadata": {},
   "outputs": [],
   "source": [
    "import sys\n",
    "input = sys.stdin.readline\n",
    "\n",
    "class stack:\n",
    "    def __init__(self):\n",
    "        self.top = []\n",
    " \n",
    "    def push(self, item):\n",
    "        self.top.append(item)\n",
    "    \n",
    "    def pop(self):\n",
    "        self.top.pop(-1)\n",
    "    \n",
    "    def peek(self):\n",
    "        if not self.empty():\n",
    "            return self.top[-1]\n",
    "        else:\n",
    "            return 0\n",
    "    \n",
    "    def empty(self) -> bool:\n",
    "        return len(self.top) == 0\n",
    "\n",
    "N = int(input())\n",
    "stk = stack()\n",
    "j = 1\n",
    "rlt = list()\n",
    "\n",
    "for i in range(1, N+1):\n",
    "    num = int(input())\n",
    "    while stk.peek() < num:\n",
    "        stk.push(j)\n",
    "        j += 1\n",
    "        rlt.append('+')\n",
    "    if stk.peek() == num:\n",
    "        stk.pop()\n",
    "        rlt.append('-')\n",
    "    else:\n",
    "        print(\"NO\")\n",
    "        sys.exit()\n",
    "\n",
    "for i in rlt:\n",
    "    print(i)"
   ]
  }
 ],
 "metadata": {
  "language_info": {
   "name": "python"
  },
  "orig_nbformat": 4
 },
 "nbformat": 4,
 "nbformat_minor": 2
}
