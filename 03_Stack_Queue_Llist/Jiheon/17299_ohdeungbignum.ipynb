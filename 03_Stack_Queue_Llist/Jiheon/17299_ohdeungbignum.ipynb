{
 "cells": [
  {
   "cell_type": "markdown",
   "metadata": {},
   "source": [
    "### 17299 오등큰수\n",
    "\n",
    "1. 카운팅 배열을 만들어서 카운팅을 먼저 실시!\n",
    "\n",
    "2. 카운팅 배열의 값을 기준으로 input 리스트의 맨 오른쪽부터 탐색\n",
    "\n",
    "3. 맨 오른쪽 값은 무조건 -1 이기 떄문에, -1 result에 추가\n",
    "\n",
    "4. 맨 오른쪽 값부터 stack 에 push\n",
    "\n",
    "5. stack의 값이 list의 값보다 크다면, rlt에 stack의 값 추가\n",
    "\n",
    "6. 반대라면, list의 값보다 더 큰 값이 나올때까지 pop\n",
    "\n",
    "7. 만약, stack의 모든 원소를 pop했으나 더 큰 값이 없다면, -1 결과에 추가"
   ]
  },
  {
   "cell_type": "code",
   "execution_count": null,
   "metadata": {},
   "outputs": [],
   "source": [
    "N = int(input())\n",
    "num_list = list(map(int, input().split()))\n",
    "stack = []\n",
    "# 카운팅을 위한 배열 미리 할당\n",
    "cnt = [0] * 1000001\n",
    "rlt = []\n",
    "# 전체 list count\n",
    "for i in range(N):\n",
    "    cnt[num_list[i]] += 1\n",
    "# 리스트의 오른쪽부터 탐색시작\n",
    "for i in range(N-1, -1, -1):\n",
    "    # stack에 원소가 있고, 스택에 있는 원소의 등장횟수보다 list의 원소의 등장횟수가 더 많다면 더 큰 등장횟수가 나올 때 까지 pop\n",
    "    while stack and cnt[num_list[i]] >= cnt[stack[-1]]:\n",
    "        stack.pop()\n",
    "    # 더 큰 등장횟수를 만났고, stack에 아직 원소가 남아있다면 stack 원소 rlt 추가\n",
    "    if stack:\n",
    "        rlt.append(stack[-1])\n",
    "    # 반대로 모든 원소 pop 했으나, 더 큰 원소를 찾지 못했다면, rlt에 -1 추가\n",
    "    else:\n",
    "        rlt.append(-1)\n",
    "    stack.append(num_list[i])\n",
    "print(*rlt[::-1])"
   ]
  }
 ],
 "metadata": {
  "kernelspec": {
   "display_name": "Python 3",
   "language": "python",
   "name": "python3"
  },
  "language_info": {
   "codemirror_mode": {
    "name": "ipython",
    "version": 3
   },
   "file_extension": ".py",
   "mimetype": "text/x-python",
   "name": "python",
   "nbconvert_exporter": "python",
   "pygments_lexer": "ipython3",
   "version": "3.9.6"
  },
  "orig_nbformat": 4
 },
 "nbformat": 4,
 "nbformat_minor": 2
}
