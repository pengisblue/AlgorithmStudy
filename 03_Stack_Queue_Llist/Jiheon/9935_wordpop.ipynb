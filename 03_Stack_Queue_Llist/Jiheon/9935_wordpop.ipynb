{
 "cells": [
  {
   "cell_type": "markdown",
   "metadata": {},
   "source": [
    "### 9935 문자열 폭발 \n",
    "\n",
    "1. 단순한 스택으로 해결\n",
    "\n",
    "2. 문자열을 맨 뒤부터 하나씩 stack으로 옮긴다\n",
    "\n",
    "3. stack의 맨앞의 문자열이 bomb의 문자열과 같으면 지운다\n",
    "\n",
    "4. 위 과정을 끝까지 반복한다."
   ]
  },
  {
   "cell_type": "code",
   "execution_count": null,
   "metadata": {},
   "outputs": [],
   "source": [
    "import sys\n",
    "input = sys.stdin.readline\n",
    "\n",
    "str = list(input().strip())\n",
    "bomb = list(input().strip())\n",
    "stack = []\n",
    "\n",
    "# stack의 문자열이 bomb의 문자열과 같으면 stack을 비움\n",
    "for i in range(len(str)):\n",
    "    stack.append(str.pop(-1))\n",
    "    if stack[-1:-1-len(bomb):-1] == bomb:\n",
    "        for j in range(len(bomb)):\n",
    "            stack.pop(-1)\n",
    "# 모든 bomb을 지웠을 떄, stack 에 문자열이 남아있다면 문자열 반환 아니면 FRULA 반환\n",
    "if stack:\n",
    "    print(''.join(stack[::-1]))\n",
    "else:\n",
    "    print('FRULA')"
   ]
  }
 ],
 "metadata": {
  "kernelspec": {
   "display_name": "Python 3",
   "language": "python",
   "name": "python3"
  },
  "language_info": {
   "codemirror_mode": {
    "name": "ipython",
    "version": 3
   },
   "file_extension": ".py",
   "mimetype": "text/x-python",
   "name": "python",
   "nbconvert_exporter": "python",
   "pygments_lexer": "ipython3",
   "version": "3.9.13"
  },
  "orig_nbformat": 4
 },
 "nbformat": 4,
 "nbformat_minor": 2
}
