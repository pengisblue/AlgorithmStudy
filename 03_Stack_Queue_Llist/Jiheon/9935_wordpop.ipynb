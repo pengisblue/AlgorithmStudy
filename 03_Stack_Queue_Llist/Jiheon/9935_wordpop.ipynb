{
 "cells": [
  {
   "cell_type": "markdown",
   "metadata": {},
   "source": [
    "### 9935 문자열 폭발  "
   ]
  },
  {
   "cell_type": "code",
   "execution_count": 19,
   "metadata": {},
   "outputs": [
    {
     "name": "stdout",
     "output_type": "stream",
     "text": [
      "mirkovniz\n"
     ]
    }
   ],
   "source": [
    "from collections import deque\n",
    "\n",
    "str = deque(input())\n",
    "bomb = list(input())\n",
    "cnt = 0\n",
    "while cnt < len(str):\n",
    "    cnt = 0\n",
    "    while str[0] != bomb[0] and cnt < len(str):\n",
    "        str.append(str.popleft())\n",
    "        cnt += 1\n",
    "    else:\n",
    "        for i in range(len(bomb)):\n",
    "            if str[i] != bomb[i]:\n",
    "                str.append(str.popleft())\n",
    "                break\n",
    "        else:\n",
    "            for i in range(len(bomb)):\n",
    "                str.popleft()\n",
    "print(''.join(str))"
   ]
  }
 ],
 "metadata": {
  "kernelspec": {
   "display_name": "Python 3",
   "language": "python",
   "name": "python3"
  },
  "language_info": {
   "codemirror_mode": {
    "name": "ipython",
    "version": 3
   },
   "file_extension": ".py",
   "mimetype": "text/x-python",
   "name": "python",
   "nbconvert_exporter": "python",
   "pygments_lexer": "ipython3",
   "version": "3.9.13"
  },
  "orig_nbformat": 4
 },
 "nbformat": 4,
 "nbformat_minor": 2
}
