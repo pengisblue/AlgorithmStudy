{
 "cells": [
  {
   "cell_type": "markdown",
   "metadata": {},
   "source": [
    "### 28279 덱 2\n",
    "\n",
    "1. 덱의 기본적인 기능을 구현하기만 하면 댐!"
   ]
  },
  {
   "cell_type": "code",
   "execution_count": 3,
   "metadata": {},
   "outputs": [
    {
     "name": "stdout",
     "output_type": "stream",
     "text": [
      "1\n",
      "8\n",
      "3\n",
      "8\n",
      "3\n",
      "5\n",
      "3\n"
     ]
    }
   ],
   "source": [
    "from collections import deque\n",
    "\n",
    "dq = deque([])\n",
    "N = int(input())\n",
    "for i in range(N):\n",
    "    query = input().split()\n",
    "    if query[0] == '1':\n",
    "        dq.appendleft(query[1])\n",
    "    elif query[0] == '2':\n",
    "        dq.append(query[1])\n",
    "    elif query[0] == '3':\n",
    "        if dq:\n",
    "            print(dq.popleft())\n",
    "        else:\n",
    "            print(-1)\n",
    "    elif query[0] == '4':\n",
    "        if dq:\n",
    "            print(dq.pop())\n",
    "        else:\n",
    "            print(-1)\n",
    "    elif query[0] == '5':\n",
    "        print(len(dq))\n",
    "    elif query[0] == '6':\n",
    "        if dq:\n",
    "            print(0)\n",
    "        else:\n",
    "            print(1)\n",
    "    elif query[0] == '7':\n",
    "        if dq:\n",
    "            print(dq[0])\n",
    "        else:\n",
    "            print(-1)\n",
    "    else:\n",
    "        if dq:\n",
    "            print(dq[-1])\n",
    "        else:\n",
    "            print(-1)"
   ]
  }
 ],
 "metadata": {
  "kernelspec": {
   "display_name": "Python 3",
   "language": "python",
   "name": "python3"
  },
  "language_info": {
   "codemirror_mode": {
    "name": "ipython",
    "version": 3
   },
   "file_extension": ".py",
   "mimetype": "text/x-python",
   "name": "python",
   "nbconvert_exporter": "python",
   "pygments_lexer": "ipython3",
   "version": "3.10.8"
  },
  "orig_nbformat": 4
 },
 "nbformat": 4,
 "nbformat_minor": 2
}
