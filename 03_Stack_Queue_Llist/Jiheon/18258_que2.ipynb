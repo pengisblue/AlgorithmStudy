{
 "cells": [
  {
   "cell_type": "markdown",
   "metadata": {},
   "source": [
    "### 18258 큐2\n",
    "\n",
    "1. list 로 큐를 구현하여 pop(0)를 하게 되면, 첫 번째 요소를 pop 하고 나서 나머지 요소들의 인덱스를 1칸씩 당기는 과정에서 O(N) 의 계산량이 발생\n",
    "\n",
    "2. 때문에, collections 의 deque 를 사용하여 문제해결"
   ]
  },
  {
   "cell_type": "code",
   "execution_count": null,
   "metadata": {},
   "outputs": [],
   "source": [
    "import sys\n",
    "input = sys.stdin.readline\n",
    "\n",
    "class Que:\n",
    "    def __init__(self):\n",
    "        self.que = []\n",
    "    def push(self, item):\n",
    "        self.que.append(item)\n",
    "    def empty(self):\n",
    "        if len(self.que) == 0:\n",
    "            return 1\n",
    "        else:\n",
    "            return 0\n",
    "    def pop(self):\n",
    "        if self.empty() == 1:\n",
    "            return -1\n",
    "        else:\n",
    "            return self.que.pop(0)\n",
    "    def front(self):\n",
    "        if self.empty() == 1:\n",
    "            return -1\n",
    "        else:\n",
    "            return self.que[0]\n",
    "    def back(self):\n",
    "        if self.empty() == 1:\n",
    "            return -1\n",
    "        else:\n",
    "            return self.que[-1]\n",
    "    def size(self):\n",
    "        return len(self.que)\n",
    "\n",
    "que = Que()\n",
    "N = int(input())\n",
    "\n",
    "for i in range(N):\n",
    "    order = input().split()\n",
    "    if order[0] == 'push':\n",
    "        que.push(order[1])\n",
    "    elif order[0] == 'front':\n",
    "        print(que.front())\n",
    "    elif order[0] == 'back':\n",
    "        print(que.back())\n",
    "    elif order[0] == 'pop':\n",
    "        print(que.pop())\n",
    "    elif order[0] == 'empty':\n",
    "        print(que.empty())\n",
    "    else:\n",
    "        print(que.size())"
   ]
  },
  {
   "cell_type": "code",
   "execution_count": 12,
   "metadata": {},
   "outputs": [
    {
     "ename": "KeyboardInterrupt",
     "evalue": "",
     "output_type": "error",
     "traceback": [
      "\u001b[0;31m---------------------------------------------------------------------------\u001b[0m",
      "\u001b[0;31mKeyboardInterrupt\u001b[0m                         Traceback (most recent call last)",
      "Cell \u001b[0;32mIn[12], line 4\u001b[0m\n\u001b[1;32m      1\u001b[0m \u001b[39mfrom\u001b[39;00m \u001b[39mcollections\u001b[39;00m \u001b[39mimport\u001b[39;00m deque\n\u001b[1;32m      3\u001b[0m dq \u001b[39m=\u001b[39m deque([])\n\u001b[0;32m----> 4\u001b[0m N \u001b[39m=\u001b[39m \u001b[39mint\u001b[39m(\u001b[39minput\u001b[39;49m())\n\u001b[1;32m      5\u001b[0m \u001b[39mfor\u001b[39;00m i \u001b[39min\u001b[39;00m \u001b[39mrange\u001b[39m(N):\n\u001b[1;32m      6\u001b[0m     order \u001b[39m=\u001b[39m \u001b[39minput\u001b[39m()\u001b[39m.\u001b[39msplit()\n",
      "\u001b[0;31mKeyboardInterrupt\u001b[0m: "
     ]
    }
   ],
   "source": [
    "from collections import deque\n",
    "\n",
    "dq = deque([])\n",
    "N = int(input())\n",
    "for i in range(N):\n",
    "    order = input().split()\n",
    "    if order[0] == 'push':\n",
    "        dq.append(order[1])\n",
    "    elif order[0] == 'pop':\n",
    "        if dq:\n",
    "            print(dq.popleft())\n",
    "        else:\n",
    "            print(-1)\n",
    "    elif order[0] == 'size':\n",
    "        print(len(dq))\n",
    "    elif order[0] == 'empty':\n",
    "        if dq:\n",
    "            print(0)\n",
    "        else:\n",
    "            print(1)\n",
    "    elif order[0] == 'front':\n",
    "        if dq:\n",
    "            print(dq[0])\n",
    "        else:\n",
    "            print(-1)\n",
    "    elif order[0] == 'back':\n",
    "        if dq:\n",
    "            print(dq[-1])\n",
    "        else:\n",
    "            print(-1)"
   ]
  }
 ],
 "metadata": {
  "kernelspec": {
   "display_name": "Python 3",
   "language": "python",
   "name": "python3"
  },
  "language_info": {
   "codemirror_mode": {
    "name": "ipython",
    "version": 3
   },
   "file_extension": ".py",
   "mimetype": "text/x-python",
   "name": "python",
   "nbconvert_exporter": "python",
   "pygments_lexer": "ipython3",
   "version": "3.10.8"
  },
  "orig_nbformat": 4
 },
 "nbformat": 4,
 "nbformat_minor": 2
}
