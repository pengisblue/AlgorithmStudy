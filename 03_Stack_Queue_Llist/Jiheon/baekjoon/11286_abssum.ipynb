{
 "cells": [
  {
   "cell_type": "markdown",
   "metadata": {},
   "source": [
    "### 절대값 합"
   ]
  },
  {
   "cell_type": "code",
   "execution_count": null,
   "metadata": {},
   "outputs": [],
   "source": [
    "from collections import deque\n",
    "\n",
    "T = int(input())\n",
    "dq = deque([])\n",
    "for t in range(T):\n",
    "    x = int(input())\n",
    "    if x != 0:\n",
    "        dq.appendleft(x)"
   ]
  }
 ],
 "metadata": {
  "language_info": {
   "name": "python"
  },
  "orig_nbformat": 4
 },
 "nbformat": 4,
 "nbformat_minor": 2
}
