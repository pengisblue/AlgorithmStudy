{
 "cells": [
  {
   "cell_type": "markdown",
   "metadata": {},
   "source": [
    "### 17298 오큰수\n",
    "\n",
    "1. stack 문제이긴 한데, 덱을 stack 처럼 사용해서 풀어봄\n",
    "\n",
    "2. 매번 오른쪽의 값 중 나보다 큰 값을 찾는다면, 내림차순으로 input이 들어올때 연산량 어마어마\n",
    "\n",
    "3. 각각의 원소를 stack에 저장할 때, 자신의 오큰수에 대한 정보를 저장해서 비교가능\n",
    "\n",
    "4. [원소, 오큰수의 인덱스]의 형식으로 stack에 저장함\n",
    "\n",
    "5. 다음번 원소가 들어왔을 때, 기존의 원소와 비교하여 더 크다면 바로 기존 원소의 오큰수로 넘어가서 다시 탐색하면 연산량을 많이 줄일 수 있음\n",
    "\n",
    "6. print 해야하는 결과값은 각자의 오큰수이기 때문에, stack에 저장할 때 바로 결과 list에 stack[오큰수의 인덱스] 로 바로 저장을 해두고 print 하면 시간절약!"
   ]
  },
  {
   "cell_type": "code",
   "execution_count": 20,
   "metadata": {},
   "outputs": [
    {
     "name": "stdout",
     "output_type": "stream",
     "text": [
      "-1 3 4 5 -1\n"
     ]
    }
   ],
   "source": [
    "from collections import deque\n",
    "\n",
    "N = int(input())\n",
    "nums = list(map(int, input().split()))\n",
    "dq = deque([])\n",
    "rlt = []\n",
    "\n",
    "# 맨 오른쪽 수는 무조건 오큰수가 없기 때문에 오큰수 index -> -1\n",
    "dq.append([nums.pop(-1), -1])\n",
    "# 바로바로 rlt list에 저장해서 탐색시간 단축\n",
    "rlt.append(-1)\n",
    "\n",
    "for i in range(N-1):\n",
    "    # 바로 오른쪽 수부터 탐색을 해야하기 때문에, 초기 인덱스 값 -> i(0)    \n",
    "    temp_index = i\n",
    "    # 숫자가 비교대상보다 크다면, 비교대상의 오큰수와 비교하여 자신보다 큰값을 찾거나 맨 오른쪽 수까지 비교할 떄 까지 반복\n",
    "    while nums[-1] >= dq[temp_index][0] and dq[temp_index][1] != -1:\n",
    "        temp_index = dq[temp_index][1]\n",
    "    # 더 큰 숫자를 발견하면, 그 수를 오큰수로 지정하고 index 값을 저장\n",
    "    if nums[-1] < dq[temp_index][0]:\n",
    "        dq.append([nums.pop(-1), temp_index])\n",
    "        # 빠른 결과 출력을 위해 오큰수를 바로 결과 list 저장\n",
    "        rlt.append(dq[temp_index][0])\n",
    "    else:\n",
    "        # 맨뒤까지 탐색했는데, 오큰수가 없는 경우 -1 출력\n",
    "        dq.append([nums.pop(-1), -1])\n",
    "        rlt.append(-1)\n",
    "print(*rlt[::-1])"
   ]
  }
 ],
 "metadata": {
  "kernelspec": {
   "display_name": "Python 3",
   "language": "python",
   "name": "python3"
  },
  "language_info": {
   "codemirror_mode": {
    "name": "ipython",
    "version": 3
   },
   "file_extension": ".py",
   "mimetype": "text/x-python",
   "name": "python",
   "nbconvert_exporter": "python",
   "pygments_lexer": "ipython3",
   "version": "3.9.13"
  },
  "orig_nbformat": 4
 },
 "nbformat": 4,
 "nbformat_minor": 2
}
