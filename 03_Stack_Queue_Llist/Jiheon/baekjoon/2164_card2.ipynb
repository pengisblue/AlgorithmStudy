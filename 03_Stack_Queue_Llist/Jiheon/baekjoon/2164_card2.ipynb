{
 "cells": [
  {
   "cell_type": "markdown",
   "metadata": {},
   "source": [
    "### 카드2\n",
    "\n",
    "1. deque 로 요구사항을 만족하는 굉장히 빠른 자료구조 만듦"
   ]
  },
  {
   "cell_type": "code",
   "execution_count": 6,
   "metadata": {},
   "outputs": [
    {
     "name": "stdout",
     "output_type": "stream",
     "text": [
      "4\n"
     ]
    }
   ],
   "source": [
    "from collections import deque\n",
    "\n",
    "num = int(input())\n",
    "\n",
    "dq = deque([])\n",
    "\n",
    "for i in range(num):\n",
    "    dq.append(i+1)\n",
    "\n",
    "for i in range(num-1):\n",
    "    dq.popleft()\n",
    "    pop_item = dq.popleft()\n",
    "    dq.append(pop_item)\n",
    "\n",
    "print(dq[0])"
   ]
  }
 ],
 "metadata": {
  "kernelspec": {
   "display_name": "Python 3",
   "language": "python",
   "name": "python3"
  },
  "language_info": {
   "codemirror_mode": {
    "name": "ipython",
    "version": 3
   },
   "file_extension": ".py",
   "mimetype": "text/x-python",
   "name": "python",
   "nbconvert_exporter": "python",
   "pygments_lexer": "ipython3",
   "version": "3.9.13"
  },
  "orig_nbformat": 4
 },
 "nbformat": 4,
 "nbformat_minor": 2
}
