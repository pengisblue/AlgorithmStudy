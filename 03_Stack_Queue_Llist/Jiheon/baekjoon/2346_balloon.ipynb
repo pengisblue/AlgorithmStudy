{
 "cells": [
  {
   "cell_type": "markdown",
   "metadata": {},
   "source": [
    "### 2346 balloon\n",
    "\n",
    "1. 덱에 (풍선의 값, 풍선의 번호) 형태로 저장\n",
    "\n",
    "2. 맨 앞 풍선을 pop한 뒤, 풍선의 값을 확인\n",
    "\n",
    "3. 풍선의 값이 양수이면, (풍선의 숫자 횟수 - 1)만큼 왼쪽의 풍선을 pop하여 맨 뒤로 보냄\n",
    "\n",
    "4. 음수라면, (풍선의 숫자 횟수 - 1)만큼 오른쪽의 풍선을 pop하여 맨 앞으로 보냄\n",
    "\n",
    "5. 위의 과정을 거친 다면, 맨 앞의 풍선을 pop하여 결과로 출력!"
   ]
  },
  {
   "cell_type": "code",
   "execution_count": null,
   "metadata": {},
   "outputs": [],
   "source": [
    "from collections import deque\n",
    "import sys\n",
    "input = sys.stdin.readline\n",
    "\n",
    "N = int(input())\n",
    "dq = deque(list(zip(map(int, input().split()), [i+1 for i in range(N)])))\n",
    "\n",
    "# 맨 앞의 풍선은 무조건 가장 먼저 터지기 때문에, 먼저 터뜨림!\n",
    "num = dq.popleft()\n",
    "print(num[1], end = ' ')\n",
    "\n",
    "# 풍선이 남아있지 않을 떄 까지 반복\n",
    "while dq:\n",
    "    # 풍선에 적혀있는 값이 양수라면\n",
    "    if num[0] > 0:\n",
    "        # 적혀있는 값 - 1 횟수만큼 왼쪽 값을 pop 하여 맨뒤로 보냄\n",
    "        for i in range(num[0]-1):\n",
    "            dq.append(dq.popleft())\n",
    "        # 그 다음 값이 적혀있는 값만큼 이동한 풍선이기 때문에, 해당 풍선을 pop\n",
    "        num = dq.popleft()\n",
    "        # 풍선에 적혀있는 풍선의 번호 print\n",
    "        print(num[1], end = ' ')\n",
    "    # 풍선에 적혀있는 값이 음수라면\n",
    "    else:\n",
    "        # 적혀있는 값 -1 횟수만큼 맨 뒤의 값을 pop하여 맨 앞으로 보냄\n",
    "        for i in range(abs(num[0])-1):\n",
    "            dq.appendleft(dq.pop())\n",
    "        # 그 다음 맨 뒤의 값이 타겟이기 때문에 해당 풍선을 pop\n",
    "        num = dq.pop()\n",
    "        #풍선에 적혀있는 풍선의 번호를 print\n",
    "        print(num[1], end = ' ')"
   ]
  }
 ],
 "metadata": {
  "kernelspec": {
   "display_name": "Python 3",
   "language": "python",
   "name": "python3"
  },
  "language_info": {
   "codemirror_mode": {
    "name": "ipython",
    "version": 3
   },
   "file_extension": ".py",
   "mimetype": "text/x-python",
   "name": "python",
   "nbconvert_exporter": "python",
   "pygments_lexer": "ipython3",
   "version": "3.10.8"
  },
  "orig_nbformat": 4
 },
 "nbformat": 4,
 "nbformat_minor": 2
}
