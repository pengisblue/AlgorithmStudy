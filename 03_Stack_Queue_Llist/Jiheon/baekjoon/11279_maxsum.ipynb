{
 "cells": [
  {
   "cell_type": "markdown",
   "metadata": {},
   "source": [
    "### 11279 최대 합\n",
    "\n",
    "1. heap[k] <= heap[2*k+1] and heap[k] <= heap[2*k+2] (min heap 에서의 원소 정렬 조건)\n",
    "\n",
    "2. heapq 를 통해서 간단하게 구현 가능!\n",
    "\n",
    "3. heapq 는 기본적으로 min heap 만을 지원하기 때문에, 원소 값을 음수로 만든 우선순위를 포함시킨 원소를 minheap에 저장한다.\n",
    "\n",
    "4. 우선순위에 따라 원래 원소값(heap 원소의 2번째 값)을 출력하면 끝!"
   ]
  },
  {
   "cell_type": "code",
   "execution_count": 2,
   "metadata": {},
   "outputs": [
    {
     "name": "stdout",
     "output_type": "stream",
     "text": [
      "0\n",
      "2\n",
      "1\n",
      "3\n",
      "2\n",
      "1\n",
      "0\n",
      "0\n"
     ]
    }
   ],
   "source": [
    "import heapq\n",
    "\n",
    "N = int(input())\n",
    "# heap 자료구조를 만들 list를 생성\n",
    "hq  = []\n",
    "for i in range(N):\n",
    "    query = int(input())\n",
    "    # input 이 0이라면 heap에 있는 원소를 우선순위에 따라 출력\n",
    "    if query == 0:\n",
    "        if hq:\n",
    "            print(heapq.heappop(hq)[1])\n",
    "        else:\n",
    "            print(0)\n",
    "    # 아니라면 heap에 input을 (우선순위, 원소) 형태로 저장!\n",
    "    else:\n",
    "        heapq.heappush(hq, (-query, query))"
   ]
  }
 ],
 "metadata": {
  "kernelspec": {
   "display_name": "Python 3",
   "language": "python",
   "name": "python3"
  },
  "language_info": {
   "codemirror_mode": {
    "name": "ipython",
    "version": 3
   },
   "file_extension": ".py",
   "mimetype": "text/x-python",
   "name": "python",
   "nbconvert_exporter": "python",
   "pygments_lexer": "ipython3",
   "version": "3.9.13"
  },
  "orig_nbformat": 4
 },
 "nbformat": 4,
 "nbformat_minor": 2
}
