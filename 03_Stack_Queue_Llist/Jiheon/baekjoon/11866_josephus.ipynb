{
 "cells": [
  {
   "cell_type": "markdown",
   "metadata": {},
   "source": [
    "### 11866 요세푸스 문제0\n",
    "\n",
    "1. K - 1 번 que 에서 pop 한것을 맨 뒤에 append\n",
    "\n",
    "2. K 번재 원소를 pop 하여 print\n",
    "\n",
    "3. que 안의 모든 원소를 pop 할 때 까지 반복"
   ]
  },
  {
   "cell_type": "code",
   "execution_count": 15,
   "metadata": {},
   "outputs": [
    {
     "name": "stdout",
     "output_type": "stream",
     "text": [
      "<3, 6, 2, 7, 5, 1, 4>\n"
     ]
    }
   ],
   "source": [
    "from collections import deque\n",
    "\n",
    "N, K = map(int, input().split())\n",
    "dq = deque([])\n",
    "rlt = []\n",
    "for i in range(1, N+1):\n",
    "    dq.appendleft(i)\n",
    "# que 가 빌 때까지 반복\n",
    "while dq:\n",
    "    # K-1번 pop한 것을 맨 뒤로 보낸 뒤\n",
    "    for _ in range(K-1):\n",
    "        dq.appendleft(dq.pop())\n",
    "    # K 번째 pop 한것을 반환\n",
    "    rlt.append(dq.pop())\n",
    "print('<' + ', '.join(map(str, rlt)) + '>')"
   ]
  }
 ],
 "metadata": {
  "kernelspec": {
   "display_name": "Python 3",
   "language": "python",
   "name": "python3"
  },
  "language_info": {
   "codemirror_mode": {
    "name": "ipython",
    "version": 3
   },
   "file_extension": ".py",
   "mimetype": "text/x-python",
   "name": "python",
   "nbconvert_exporter": "python",
   "pygments_lexer": "ipython3",
   "version": "3.10.8"
  },
  "orig_nbformat": 4
 },
 "nbformat": 4,
 "nbformat_minor": 2
}
