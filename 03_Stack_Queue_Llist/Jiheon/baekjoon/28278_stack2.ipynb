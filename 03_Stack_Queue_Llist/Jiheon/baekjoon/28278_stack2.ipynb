{
 "cells": [
  {
   "cell_type": "markdown",
   "metadata": {},
   "source": [
    "### 스택 2\n",
    "\n",
    "1. 단순하게 스택 구현하는 것"
   ]
  },
  {
   "cell_type": "code",
   "execution_count": 7,
   "metadata": {},
   "outputs": [
    {
     "name": "stdout",
     "output_type": "stream",
     "text": [
      "1\n",
      "2\n",
      "5\n",
      "3\n",
      "3\n",
      "-1\n",
      "-1\n"
     ]
    }
   ],
   "source": [
    "import sys\n",
    "input = sys.stdin.readline\n",
    "\n",
    "class stack:\n",
    "    def __init__(self):\n",
    "        self.top = []\n",
    "    \n",
    "    def push(self, item):\n",
    "        self.top.append(item)\n",
    "    \n",
    "    def pop(self):\n",
    "        if self.empty() == 0:\n",
    "            return self.top.pop(-1)\n",
    "        else:\n",
    "            return -1\n",
    "\n",
    "    def size(self):\n",
    "        return len(self.top)\n",
    "\n",
    "    def empty(self):\n",
    "        if len(self.top) == 0:\n",
    "            return 1\n",
    "        else:\n",
    "            return 0\n",
    "    \n",
    "    def peek(self):\n",
    "        if self.empty() == 0:\n",
    "            return self.top[-1]\n",
    "        else:\n",
    "            return -1\n",
    "\n",
    "N = int(input())\n",
    "stk = stack()\n",
    "for i in range(N):\n",
    "    ip = list(map(int, input().split()))\n",
    "    if ip[0] == 1:\n",
    "        stk.push(ip[1])\n",
    "    elif ip[0] == 2:\n",
    "        print(stk.pop())\n",
    "    elif ip[0] == 3:\n",
    "        print(stk.size())\n",
    "    elif ip[0] == 4:\n",
    "        print(stk.empty())\n",
    "    else:\n",
    "        print(stk.peek())\n"
   ]
  }
 ],
 "metadata": {
  "kernelspec": {
   "display_name": "Python 3",
   "language": "python",
   "name": "python3"
  },
  "language_info": {
   "codemirror_mode": {
    "name": "ipython",
    "version": 3
   },
   "file_extension": ".py",
   "mimetype": "text/x-python",
   "name": "python",
   "nbconvert_exporter": "python",
   "pygments_lexer": "ipython3",
   "version": "3.9.13"
  },
  "orig_nbformat": 4
 },
 "nbformat": 4,
 "nbformat_minor": 2
}
