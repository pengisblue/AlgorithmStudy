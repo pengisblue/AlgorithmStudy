{
 "cells": [
  {
   "cell_type": "markdown",
   "metadata": {},
   "source": [
    "### 1289 도키도키 간식드리미\n",
    "\n",
    "1. 현재 줄을 서있는 list 와 빠져서 기다리는 stack 을 구현한다면 간단하게 풀 수 있다.\n",
    "\n",
    "2. list의 맨앞을 검서하여 맨앞의 번호가 순서와 맞다면 pop, 아니라면 stack 에 저장한다.\n",
    "\n",
    "3. 맨앞의 번호와 순서가 맞을 때 까지 반복한다.\n",
    "\n",
    "4. 순서가 맞아 pop을 했다면, 다음번 번호에 대해서 stack의 맨 앞과 비교를 먼저 실시한다.\n",
    "\n",
    "5. 순서가 맞다면, stack 에서 pop 아니라면 list에서 pop하여 순서가 맞을 때 까지 반복한다.\n",
    "\n",
    "6. list의 끝까지 pop을 하였지만 stack에 pop을 할 수 없는 숫자가 남아있으면 sad "
   ]
  },
  {
   "cell_type": "code",
   "execution_count": null,
   "metadata": {},
   "outputs": [],
   "source": [
    "N = int(input())\n",
    "num = list(map(int, input().split()))\n",
    "stack = []\n",
    "i = 1\n",
    "# 초기 list 에 원소가 남아있지 않을 때 까지 반복\n",
    "while num:\n",
    "    # 먼저 list의 맨 앞과 i 를 비교하여 일치한다면 list를 pop 하고 다음 번호로 넘어감\n",
    "    if num[0] == i:\n",
    "        num.pop(0)\n",
    "        i += 1\n",
    "    # i 와 일치하지 않으면, stack에 추가(옆으로 빠져 있는다고 생각하면 됨)\n",
    "    else:\n",
    "        stack.append(num.pop(0))\n",
    "    # 이후에 stack의 맨 앞과 비교하여 일치한다면, stack에서 pop하고 다음 번호로 넘어감\n",
    "    while stack and stack[-1] == i:\n",
    "        stack.pop()\n",
    "        i += 1\n",
    "# 초기 list에 원소가 없으면서, stack에서 일치하는 원소를 모두 pop했지만, 원소가 남아있다면 sad 아니라면 nice를 출력\n",
    "print('Nice' if not stack else 'Sad')\n"
   ]
  }
 ],
 "metadata": {
  "kernelspec": {
   "display_name": "Python 3",
   "language": "python",
   "name": "python3"
  },
  "language_info": {
   "codemirror_mode": {
    "name": "ipython",
    "version": 3
   },
   "file_extension": ".py",
   "mimetype": "text/x-python",
   "name": "python",
   "nbconvert_exporter": "python",
   "pygments_lexer": "ipython3",
   "version": "3.10.8"
  },
  "orig_nbformat": 4
 },
 "nbformat": 4,
 "nbformat_minor": 2
}
