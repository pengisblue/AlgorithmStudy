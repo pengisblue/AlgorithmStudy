{
 "cells": [
  {
   "cell_type": "markdown",
   "metadata": {},
   "source": [
    "### 도키도키 간식드리미"
   ]
  },
  {
   "cell_type": "code",
   "execution_count": null,
   "metadata": {},
   "outputs": [],
   "source": [
    "N = int(input())\n",
    "num = list(map(int, input().split()))\n",
    "stack = []\n",
    "for i in range(1, N+1):\n",
    "    if num:\n",
    "        stack.append(num.pop(0))\n",
    "        while num[0] != i and stack[-1] != i:\n",
    "            stack.append(num.pop(0))\n",
    "        else:\n",
    "            if num[0] == i:\n",
    "                num.pop(0)\n",
    "            else:\n",
    "                stack.pop(-1)"
   ]
  }
 ],
 "metadata": {
  "language_info": {
   "name": "python"
  },
  "orig_nbformat": 4
 },
 "nbformat": 4,
 "nbformat_minor": 2
}
