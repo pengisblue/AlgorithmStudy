{
 "cells": [
  {
   "cell_type": "markdown",
   "metadata": {},
   "source": [
    "### 24511 queuestack\n",
    "\n",
    "1. stack -> 후입선출이기 때문에, 이 문제에서는 있으나 없으나이다.\n",
    "\n",
    "2. 연속된 길이 1의 큐의 경우, 하나의 긴 큐로 나타낼 수 있다.\n",
    "\n",
    "3. 연속된 queuestack에서, 스택을 제거한 뒤 나머지 원소로 구성 된 하나의 큐를 만들어서 문제를 해결할 수 있다"
   ]
  },
  {
   "cell_type": "code",
   "execution_count": null,
   "metadata": {},
   "outputs": [],
   "source": [
    "from collections import deque\n",
    "\n",
    "N = int(input())\n",
    "A = list(map(int, input().split()))\n",
    "B = list(map(int, input().split()))\n",
    "B_dq = deque([])\n",
    "for i in range(len(A)):\n",
    "    if A[i] == 0:\n",
    "        B_dq.append(B[i])\n",
    "M = int(input())\n",
    "C = deque(list(map(int, input().split())))\n",
    "for i in range(len(C)):\n",
    "    B_dq.appendleft(C.popleft())\n",
    "    rlt = B_dq.pop()\n",
    "    print(rlt, end = ' ')"
   ]
  }
 ],
 "metadata": {
  "kernelspec": {
   "display_name": "Python 3",
   "language": "python",
   "name": "python3"
  },
  "language_info": {
   "codemirror_mode": {
    "name": "ipython",
    "version": 3
   },
   "file_extension": ".py",
   "mimetype": "text/x-python",
   "name": "python",
   "nbconvert_exporter": "python",
   "pygments_lexer": "ipython3",
   "version": "3.9.13"
  },
  "orig_nbformat": 4
 },
 "nbformat": 4,
 "nbformat_minor": 2
}
