{
 "cells": [
  {
   "cell_type": "markdown",
   "metadata": {},
   "source": [
    "### 11003 최솟값 찾기\n",
    "\n",
    "1. deque를 사용한 슬라이딩 윈도우를 만들어 해결\n",
    "\n",
    "2. 각 input의 값과, index 값을 함께 deque에 저장\n",
    "\n",
    "3. deque 의 값과 list 값을 비교하여, pop을 반복하여 deque의 모든 원소를 pop 하거나"
   ]
  },
  {
   "cell_type": "code",
   "execution_count": 15,
   "metadata": {},
   "outputs": [
    {
     "name": "stdout",
     "output_type": "stream",
     "text": [
      "1 1 1 2 2 2 2 2 3 3 2 2 "
     ]
    }
   ],
   "source": [
    "from collections import deque\n",
    "\n",
    "N, L = map(int, input().split())\n",
    "num_list = list(map(int, input().split()))\n",
    "window = deque([])\n",
    "\n",
    "for i in range(N):\n",
    "    while window and window[0][0] > num_list[i]:\n",
    "        window.popleft()\n",
    "    while window and window[-1][1] < i - L + 1:\n",
    "        window.pop()\n",
    "    window.appendleft((num_list[i], i))\n",
    "    print(window[-1][0], end = ' ')"
   ]
  }
 ],
 "metadata": {
  "kernelspec": {
   "display_name": "Python 3",
   "language": "python",
   "name": "python3"
  },
  "language_info": {
   "codemirror_mode": {
    "name": "ipython",
    "version": 3
   },
   "file_extension": ".py",
   "mimetype": "text/x-python",
   "name": "python",
   "nbconvert_exporter": "python",
   "pygments_lexer": "ipython3",
   "version": "3.9.13"
  },
  "orig_nbformat": 4
 },
 "nbformat": 4,
 "nbformat_minor": 2
}
