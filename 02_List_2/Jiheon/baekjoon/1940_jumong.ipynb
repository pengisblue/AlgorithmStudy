{
 "cells": [
  {
   "cell_type": "markdown",
   "metadata": {},
   "source": [
    "### 1940 주몽\n",
    "\n",
    "1. 모든 경우의 수를 따질 경우 시간복잡도가 O(N^2)가 된다\n",
    "\n",
    "2. ls를 크기 순으로 정렬한 다음, 가장 작은 수와 가장 큰 수를 더한다.\n",
    "\n",
    "3. 더한 값이 M보다 작으면 작은 수를 한단계 이동시키고, M보다 크면 큰 수를 한단계 이동시킨다.\n",
    "\n",
    "4. 작은수가 큰수보다 커질 떄 까지 반복하여, 경우의 수를 다 고려한다."
   ]
  },
  {
   "cell_type": "code",
   "execution_count": null,
   "metadata": {},
   "outputs": [],
   "source": [
    "N = int(input())\n",
    "M = int(input())\n",
    "ls = list(map(int, input().split()))\n",
    "ls.sort()\n",
    "cnt = 0\n",
    "\n",
    "start = 0\n",
    "end = N-1\n",
    "\n",
    "# start(작은 수)가 end(큰 수)보다 커질 때 까지 반복\n",
    "while start < end:\n",
    "# 두 수를 더한 것이 M 보다 크면 큰 수를 한단계 줄인다.\n",
    "    if ls[start] + ls[end] > M:\n",
    "        end -= 1\n",
    "# 두 수를 더한 것이 M보다 작으면 작은 수를 한단계 늘린다.\n",
    "    elif ls[start] + ls[end] < M:\n",
    "        start += 1\n",
    "# M과 같을 때, +1 카운트하고, 다음 경우의 수 탐색을 위하여 start 값을 1 늘린다.\n",
    "    else:\n",
    "        cnt += 1\n",
    "        start += 1\n",
    "\n",
    "print(cnt)"
   ]
  }
 ],
 "metadata": {
  "language_info": {
   "name": "python"
  },
  "orig_nbformat": 4
 },
 "nbformat": 4,
 "nbformat_minor": 2
}
