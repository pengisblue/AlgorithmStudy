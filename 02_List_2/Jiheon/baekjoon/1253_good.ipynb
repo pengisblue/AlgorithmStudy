{
 "cells": [
  {
   "cell_type": "markdown",
   "metadata": {},
   "source": [
    "### 1253 좋다\n",
    "\n",
    "1. 중첩 for 문으로 해결할 수 있겠지만, 시간복잡도가 O(N^2)이 된다.\n",
    "\n",
    "2. ls를 크기순으로 정렬한 다음, i 번째 숫자를 제외하고 합할 두개의 수를 뽑아낼 list를 만든다.\n",
    "\n",
    "3. 가장 작은 숫자와 가장 큰 숫자를 더하는 것에서 시작한다.\n",
    "\n",
    "4. 더한 값이 목표 값보다 작으면 start +1 을, 더 크면 end -1을 하는 이진탐색 방법을 사용한다."
   ]
  },
  {
   "cell_type": "code",
   "execution_count": null,
   "metadata": {},
   "outputs": [],
   "source": [
    "import sys\n",
    "input = sys.stdin.readline\n",
    "\n",
    "N = int(input())\n",
    "ls = list(map(int, input().split()))\n",
    "ls.sort()\n",
    "cnt = 0\n",
    "for i in range(len(ls)):\n",
    "    ls_i = ls[:]\n",
    "# i 번째 값을 제거한 list를 생성한다.\n",
    "    ls_i.remove(ls[i])\n",
    "# 새로운 리스트의 첫째 값과 마지막 값을 start와 end 값으로 설정한다.\n",
    "    start, end = 0, len(ls_i)-1\n",
    "    while start < end:\n",
    "        if ls_i[start] + ls_i[end] < ls[i]:\n",
    "            start += 1\n",
    "        elif ls_i[start] + ls_i[end] > ls[i]:\n",
    "            end -= 1\n",
    "        else:\n",
    "            cnt += 1\n",
    "            break\n",
    "    \n",
    "print(cnt)"
   ]
  }
 ],
 "metadata": {
  "language_info": {
   "name": "python"
  },
  "orig_nbformat": 4
 },
 "nbformat": 4,
 "nbformat_minor": 2
}
