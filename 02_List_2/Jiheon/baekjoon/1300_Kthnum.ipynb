{
 "cells": [
  {
   "cell_type": "markdown",
   "metadata": {},
   "source": [
    "### K번째 수\n",
    "\n",
    "1. 이진탐색으로 풀이!\n",
    "\n",
    "2. 목표로 하는 수가 1~K 안에 있음(무조건 숫자 중 중복이 발생하기 때문에, K번째 수는 K보다 작음)\n",
    "\n",
    "5. mid 를 i로 나누면, mid 가 i번째 열의 몇번째에 속하는지를 구할 수 있음\n",
    "\n",
    "6. 이를 통해 mid//i 와 N 값 중 작은 값을 cnt에 더함으로써 mid의 위치를 구할 수 있음\n",
    "\n",
    "7. mid 의 위치가 K보다 작다면, 큰 쪽에서 다시 이진탐색 반대의 경우 작은 쪽에서 이진탐색"
   ]
  },
  {
   "cell_type": "code",
   "execution_count": 7,
   "metadata": {},
   "outputs": [
    {
     "name": "stdout",
     "output_type": "stream",
     "text": [
      "6\n"
     ]
    }
   ],
   "source": [
    "N = int(input())\n",
    "K = int(input())\n",
    "\n",
    "start, end = 1, K\n",
    "\n",
    "while start <= end:\n",
    "    mid = (start + end)//2\n",
    "    cnt = 0\n",
    "\n",
    "    for i in range(1, N+1):\n",
    "        # mid//i 가 N 보다 크다면, 행렬의 범위를 벗어나는 것이기 때문에, N보다 작으면 mid//i를 더하고 N 보다 크면 N을 더함\n",
    "        cnt += min(mid//i, N)\n",
    "    # 카운트가 K 보다 크다는 것은 mid 와 같거나 작은 숫자가 K개 보다 많이 있다는 것이기 때문에, 결과값 저장 및 작은쪽에서 이진탐색\n",
    "    if cnt >= K:\n",
    "        answer = mid\n",
    "        end = mid - 1\n",
    "    # K개 보다 적을경우, 큰 쪽에서 이진탐색\n",
    "    else :\n",
    "        start = mid + 1\n",
    "\n",
    "print(answer)\n"
   ]
  }
 ],
 "metadata": {
  "kernelspec": {
   "display_name": "Python 3",
   "language": "python",
   "name": "python3"
  },
  "language_info": {
   "codemirror_mode": {
    "name": "ipython",
    "version": 3
   },
   "file_extension": ".py",
   "mimetype": "text/x-python",
   "name": "python",
   "nbconvert_exporter": "python",
   "pygments_lexer": "ipython3",
   "version": "3.9.13"
  },
  "orig_nbformat": 4
 },
 "nbformat": 4,
 "nbformat_minor": 2
}
