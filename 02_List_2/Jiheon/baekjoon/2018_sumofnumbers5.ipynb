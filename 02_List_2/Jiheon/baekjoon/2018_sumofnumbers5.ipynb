{
 "cells": [
  {
   "cell_type": "markdown",
   "metadata": {},
   "source": [
    "### 2018 수들의 합\n",
    "\n",
    "1. Input N에 대하여 모든 경우의 수를 따질 경우 시간복잡도가 O(N^2)이 된다(맞나?)\n",
    "\n",
    "2. 시작 숫자와 끝 숫자를 두 포인터로 가정함.\n",
    "\n",
    "3. 시작 숫자와 끝 숫자 사이의 숫자들의 합이 N보다 작으면 끝 숫자를 더 크게 만들고, 크면 시작 숫자를 작게 만듦\n",
    "\n",
    "4. 순차적으로 탐색해나가다가, 시작 숫자가 끝 숫자보다 커지면(더이상 연속된 자연수의 합으로 나타낼 수 없으면) 반복을 종료."
   ]
  },
  {
   "cell_type": "code",
   "execution_count": null,
   "metadata": {},
   "outputs": [],
   "source": [
    "N = int(input())\n",
    "cnt, summ = 0,0\n",
    "start, end = 0,0\n",
    "\n",
    "# end가 N이 될때까지 반복\n",
    "while end <= N:\n",
    "    if summ < N:\n",
    "        end += 1\n",
    "# end 값이 1이 늘었기 때문에, end 값을 총합에 더함\n",
    "        summ += end\n",
    "    elif summ > N:\n",
    "# start 값이 1 늘었기 때문에, start 값을 총합에서 뺌\n",
    "        summ -= start\n",
    "        start += 1\n",
    "    else :\n",
    "# 총합의 값과 N이 같을 경우에, 1씩 카운트하고 다음 경우의 수를 찾기 위해 end + 1\n",
    "        cnt += 1\n",
    "        end += 1\n",
    "        summ += end\n",
    "print(cnt)"
   ]
  }
 ],
 "metadata": {
  "language_info": {
   "name": "python"
  },
  "orig_nbformat": 4
 },
 "nbformat": 4,
 "nbformat_minor": 2
}
