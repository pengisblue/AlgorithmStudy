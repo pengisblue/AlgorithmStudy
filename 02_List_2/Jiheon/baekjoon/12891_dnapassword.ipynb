{
 "cells": [
  {
   "cell_type": "markdown",
   "metadata": {},
   "source": [
    "### 12891 DNA 비밀번호\n",
    "\n",
    "1. A C G T 가 몇개여야 하는 입력값을 받기위해, index 대용으로 사용할 문자열을 미리 배정!\n",
    "\n",
    "2. 딕셔너리 각각에 ACGT 키 배정!\n",
    "\n",
    "3. 슬라이딩 윈도우를 설정하여, 문자열을 빠르게 탐색\n",
    "\n",
    "4. 문자열 전체를 다시 탐색하는 것이 아니라, 추가되는 원소만을 탐색하여 시간 단축"
   ]
  },
  {
   "cell_type": "code",
   "execution_count": 3,
   "metadata": {},
   "outputs": [
    {
     "name": "stdout",
     "output_type": "stream",
     "text": [
      "0\n"
     ]
    }
   ],
   "source": [
    "import sys\n",
    "input = sys.stdin.readline\n",
    "\n",
    "S, P = map(int, input().split())\n",
    "DNA = list(input())\n",
    "need = list(map(int, input().split()))\n",
    "rlt = 0\n",
    "\n",
    "# 현재 윈도우에 A C G T 가 각각 몇개 포함되어 있는지의 dict\n",
    "now = {0:0, 1:0, 2:0, 3:0}\n",
    "# 이후 반복문에서 dict에 접근하기 쉽게 따로 idx를 만들어서 할당\n",
    "idx = ['A','C','G','T']\n",
    "# 맨 첫 P개의 문자열을 window 로 설정\n",
    "window = ''.join(DNA[:P])\n",
    "# window의 길이만큼 돌면서 현재 window 에 각 문자가 몇개 포함되었는지 검사\n",
    "for i in range(len(window)):\n",
    "    now[idx.index(window[i])] += 1\n",
    "# 총 4개의 문자가 모두 조건을 만족했는지 검사\n",
    "for i in range(4):\n",
    "    if now[i] < need[i]:\n",
    "        break\n",
    "# 모두 검사를 통과했다면 rlt + 1\n",
    "else:\n",
    "    rlt += 1\n",
    "# 윈도우를 한칸씩 이동시키면서 조건에 맞는 문자를 추가/제거\n",
    "for i in range(S-P):\n",
    "    now[idx.index(DNA[i])] -= 1\n",
    "    now[idx.index(DNA[i+P])] += 1\n",
    "    for j in range(4):\n",
    "        if now[j] < need[j]:\n",
    "            break\n",
    "    else:\n",
    "        rlt += 1\n",
    "\n",
    "print(rlt)"
   ]
  }
 ],
 "metadata": {
  "kernelspec": {
   "display_name": "Python 3",
   "language": "python",
   "name": "python3"
  },
  "language_info": {
   "codemirror_mode": {
    "name": "ipython",
    "version": 3
   },
   "file_extension": ".py",
   "mimetype": "text/x-python",
   "name": "python",
   "nbconvert_exporter": "python",
   "pygments_lexer": "ipython3",
   "version": "3.9.13"
  },
  "orig_nbformat": 4
 },
 "nbformat": 4,
 "nbformat_minor": 2
}
