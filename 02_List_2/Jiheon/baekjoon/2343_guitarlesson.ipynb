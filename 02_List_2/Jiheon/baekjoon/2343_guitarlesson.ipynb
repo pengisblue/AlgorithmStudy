{
 "cells": [
  {
   "cell_type": "markdown",
   "metadata": {},
   "source": [
    "### 2343 기타 레슨\n",
    "\n",
    "1. 블루레이의 용량은 가장 긴 영상의 길이보다는 커야하고, 모든 영상의 길이의 합보다는 작다\n",
    "\n",
    "2. 가능한 블루레이의 용량크기 리스트에서 이진탐색을 실시\n",
    "\n",
    "3. 리스트의 중간값을 블루레이의 용량이라고 가정하고, 각 영상을 순서대로 블루레이에 넣음\n",
    "\n",
    "4. 주어진 조건에 맞게 영상을 집어넣을 수 있는 모든 경우의 수 중 가장 짧은 경우의 수를 출력"
   ]
  },
  {
   "cell_type": "code",
   "execution_count": 13,
   "metadata": {},
   "outputs": [
    {
     "name": "stdout",
     "output_type": "stream",
     "text": [
      "17\n"
     ]
    }
   ],
   "source": [
    "N, M = map(int, input().split())\n",
    "length = list(map(int, input().split()))\n",
    "\n",
    "# 블루레이 크기가 가능한 가장 작은 값은 영상 용량 중 가장 큰 영상\n",
    "# 블루레이 크기가 가능한 가장 큰 값은 영상 용량들의 총합\n",
    "start = max(length)\n",
    "end = sum(length)\n",
    "short = float('inf')\n",
    "# 이진탐색을 통해 영상을 넣을 블루레이의 용량을 미리 가정\n",
    "while start <= end:\n",
    "    mid = (end+start)//2\n",
    "    cnt = 1\n",
    "    size = 0\n",
    "# 정해진 용량에 맞게 영상을 넣는 경우의 수 도축\n",
    "    for i in range(N):\n",
    "        if size + length[i] <= mid:\n",
    "            size += length[i]\n",
    "# 더 영상을 넣을 수 없을 경우 cnt(블루레이 갯수) +1 한 뒤 다음 블루레이에 영상을 넣음\n",
    "        else:\n",
    "            cnt += 1\n",
    "            size = length[i]\n",
    "# 갖고있는 블루레이보다 더 많은 블루레이가 필요하다면 반복문 종료\n",
    "        if cnt > M:\n",
    "            break\n",
    "# 갖고있는 블루레이보다 더 많은 블루레이가 필요하다면 더 큰 용량이 필요한 것이기 때문에, 큰 쪽에서 다시 이진탐색\n",
    "    if cnt > M:\n",
    "        start = mid + 1\n",
    "# 그렇지 않다면, 더 작은 용량 중 탐색\n",
    "    else:\n",
    "        end = mid - 1\n",
    "# mid 값이 start 값보다 큰 상태라면, 원래의 가장 작은 용량 값과 비교하여 가장 작은 값 갱신\n",
    "        if mid >= max(length):\n",
    "            short = min(short, mid)\n",
    "\n",
    "print(short)\n"
   ]
  }
 ],
 "metadata": {
  "kernelspec": {
   "display_name": "Python 3",
   "language": "python",
   "name": "python3"
  },
  "language_info": {
   "codemirror_mode": {
    "name": "ipython",
    "version": 3
   },
   "file_extension": ".py",
   "mimetype": "text/x-python",
   "name": "python",
   "nbconvert_exporter": "python",
   "pygments_lexer": "ipython3",
   "version": "3.9.13"
  },
  "orig_nbformat": 4
 },
 "nbformat": 4,
 "nbformat_minor": 2
}
