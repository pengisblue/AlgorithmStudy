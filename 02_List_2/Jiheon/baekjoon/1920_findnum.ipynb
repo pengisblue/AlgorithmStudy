{
 "cells": [
  {
   "cell_type": "markdown",
   "metadata": {},
   "source": [
    "### 수 찾기\n",
    "\n",
    "1. 간단한 이진탐색으로 풀이가 가능하다.\n",
    "\n",
    "2. 찾는 기준이 되는 list를 정렬한 상태에서, list의 중간부터 탐색을 시작한다.\n",
    "\n",
    "3. 찾을 수가 list 중간의 값보다 작으면 앞쪽 절반에서 다시 탐색하고, 크면 뒤쪽 절반에서 다시 탐색한다.\n",
    "\n",
    "4. 위의 과정을 반복해서 값을 찾는다."
   ]
  },
  {
   "cell_type": "code",
   "execution_count": 15,
   "metadata": {},
   "outputs": [
    {
     "name": "stdout",
     "output_type": "stream",
     "text": [
      "1\n",
      "1\n",
      "0\n",
      "0\n",
      "1\n"
     ]
    }
   ],
   "source": [
    "N = int(input())\n",
    "nums = list(map(int, input().split()))\n",
    "nums.sort()\n",
    "M = int(input())\n",
    "nums2 = list(map(int, input().split()))\n",
    "for i in nums2:\n",
    "# exist -> 숫자의 존재여부 저장\n",
    "    exist = 0\n",
    "    start = 0\n",
    "    end = N - 1\n",
    "# start 가 end 보다 커지면 반복문을 종료(끝까지 탐색)\n",
    "    while start <= end:\n",
    "        mid = (end+start)//2\n",
    "# 숫자를 찾은경우 1을 print하고 exist 값을 1로 만듦\n",
    "        if i == nums[mid]:\n",
    "            print(1)\n",
    "            exist = 1\n",
    "            break\n",
    "# 찾으려는 숫자보다 기준 list의 숫자가 작으면, 뒤쪽 리스트 절반에서 탐색\n",
    "        elif i > nums[mid]:\n",
    "            start = mid +1\n",
    "# 찾으려는 숫자보다 기준 list의 숫자가 크면, 앞쪽 리스트 절반에서 탐색\n",
    "        else:        \n",
    "            end = mid - 1\n",
    "    if exist == 0:\n",
    "        print(0)"
   ]
  }
 ],
 "metadata": {
  "kernelspec": {
   "display_name": "Python 3",
   "language": "python",
   "name": "python3"
  },
  "language_info": {
   "codemirror_mode": {
    "name": "ipython",
    "version": 3
   },
   "file_extension": ".py",
   "mimetype": "text/x-python",
   "name": "python",
   "nbconvert_exporter": "python",
   "pygments_lexer": "ipython3",
   "version": "3.9.13"
  },
  "orig_nbformat": 4
 },
 "nbformat": 4,
 "nbformat_minor": 2
}
