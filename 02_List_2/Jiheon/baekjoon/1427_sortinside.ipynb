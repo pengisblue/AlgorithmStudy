{
 "cells": [
  {
   "cell_type": "markdown",
   "metadata": {},
   "source": [
    "### 1427 소트인사이드\n",
    "\n",
    "1. 카운팅정렬로 해결 가능!"
   ]
  },
  {
   "cell_type": "code",
   "execution_count": null,
   "metadata": {},
   "outputs": [],
   "source": [
    "def counting(arr):\n",
    "    m = max(arr)\n",
    "    cnt = [0]*(m+1) # 최대수 + 1 크기의 count 리스트 형성\n",
    "    for i in arr:\n",
    "        cnt[i] += 1 # 각 수의 갯수를 count 리스트의 위치에 할당\n",
    "    for i in range(1, len(cnt)):\n",
    "        cnt[i] += cnt[i-1] # 누적 갯수 합계\n",
    "    result = [0]*(len(arr)) # 결과 리스트 형성\n",
    "\n",
    "    for num in arr:\n",
    "        idx = cnt[num] # 각 수의 갯수의 위치 할당\n",
    "        result[idx - 1] = num # 결과 리스트에 각 숫자를 배치\n",
    "        cnt[num] -= 1 # count 리스트에 할당 된 숫자를 차감\n",
    "    return result\n",
    "\n",
    "num = list(map(int, str(input())))\n",
    "rlt = counting(num)\n",
    "for i in range(len(rlt)):\n",
    "    print(rlt[-i-1], end = '')"
   ]
  }
 ],
 "metadata": {
  "language_info": {
   "name": "python"
  },
  "orig_nbformat": 4
 },
 "nbformat": 4,
 "nbformat_minor": 2
}
