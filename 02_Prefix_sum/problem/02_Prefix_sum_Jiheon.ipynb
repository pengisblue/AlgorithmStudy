{
 "cells": [
  {
   "cell_type": "markdown",
   "metadata": {},
   "source": [
    "# 02_Prefix_sum"
   ]
  },
  {
   "cell_type": "markdown",
   "metadata": {},
   "source": [
    "##### 11659 구간 합 구하기 4\n",
    "\n",
    "1. 주어진 수 N 개에 대한 누적 합 리스트를 생성한다.\n",
    "\n",
    "2. i 에서 j 번째 숫자의 합이기 떄문에, j까지의 누적합 - i까지의 누적합으로 계산하면 된다."
   ]
  },
  {
   "cell_type": "code",
   "execution_count": null,
   "metadata": {},
   "outputs": [],
   "source": [
    "import sys\n",
    "input = sys.stdin.readline\n",
    "N, M = map(int, input().split())\n",
    "num = list(map(int, input().split()))\n",
    "# 첫번째 수가 i 로 제시되는 경우를 위해 아무것도 빼지않는 경우 0을 더미로 추가\n",
    "c_num = [0]\n",
    "\n",
    "for _ in range(1,N+1):\n",
    "    c_num.append(c_num[_-1]+num[_-1])\n",
    "for _ in range(M):\n",
    "    i, j = map(int, input().split())\n",
    "    print(c_num[j]-c_num[i-1])"
   ]
  },
  {
   "cell_type": "markdown",
   "metadata": {},
   "source": [
    "##### 구간 합 구하기 5\n",
    "\n",
    "1. 2차원 누적합 배열로 처리 가능!\n",
    "\n",
    "2. 미리 2차원 누적합 배열이 들어갈 배열을 만듦((N+1)^2 사이즈)\n",
    "\n",
    "3. 2차원 누적합 배열을 구성\n",
    "\n",
    "4. (x1, y1)에서 (x2, y2)까지의 합을 구하기 위해, [x2][y2] - [x1-1][y2] - [x2][y1-1] + [x1-1][y1-1] 값 계산"
   ]
  },
  {
   "cell_type": "code",
   "execution_count": 5,
   "metadata": {},
   "outputs": [
    {
     "name": "stdout",
     "output_type": "stream",
     "text": [
      "27\n",
      "6\n"
     ]
    },
    {
     "ename": "ValueError",
     "evalue": "invalid literal for int() with base 10: '4\\\\'",
     "output_type": "error",
     "traceback": [
      "\u001b[0;31m---------------------------------------------------------------------------\u001b[0m",
      "\u001b[0;31mValueError\u001b[0m                                Traceback (most recent call last)",
      "Cell \u001b[0;32mIn[5], line 12\u001b[0m\n\u001b[1;32m      9\u001b[0m        sum_list[i][j] \u001b[39m=\u001b[39m ls[i\u001b[39m-\u001b[39m\u001b[39m1\u001b[39m][j\u001b[39m-\u001b[39m\u001b[39m1\u001b[39m] \u001b[39m+\u001b[39m (sum_list[i\u001b[39m-\u001b[39m\u001b[39m1\u001b[39m][j] \u001b[39m+\u001b[39m sum_list[i][j\u001b[39m-\u001b[39m\u001b[39m1\u001b[39m]) \u001b[39m-\u001b[39m sum_list[i\u001b[39m-\u001b[39m\u001b[39m1\u001b[39m][j\u001b[39m-\u001b[39m\u001b[39m1\u001b[39m] \n\u001b[1;32m     11\u001b[0m \u001b[39mfor\u001b[39;00m i \u001b[39min\u001b[39;00m \u001b[39mrange\u001b[39m(M):\n\u001b[0;32m---> 12\u001b[0m     x1, y1, x2, y2 \u001b[39m=\u001b[39m \u001b[39mmap\u001b[39m(\u001b[39mint\u001b[39m, \u001b[39minput\u001b[39m()\u001b[39m.\u001b[39msplit())\n\u001b[1;32m     13\u001b[0m     \u001b[39mprint\u001b[39m(sum_list[x2][y2] \u001b[39m-\u001b[39m sum_list[x1\u001b[39m-\u001b[39m\u001b[39m1\u001b[39m][y2] \u001b[39m-\u001b[39m sum_list[x2][y1\u001b[39m-\u001b[39m\u001b[39m1\u001b[39m] \u001b[39m+\u001b[39m sum_list[x1\u001b[39m-\u001b[39m\u001b[39m1\u001b[39m][y1\u001b[39m-\u001b[39m\u001b[39m1\u001b[39m])\n",
      "\u001b[0;31mValueError\u001b[0m: invalid literal for int() with base 10: '4\\\\'"
     ]
    }
   ],
   "source": [
    "import sys\n",
    "input = sys.stdin.readline\n",
    "N, M = map(int, input().split())\n",
    "num_c = list()\n",
    "result = list()\n",
    "# 누적합 배열이 들어갈 (N+1)^2 size의 빈 배열 만들어 놓기\n",
    "sum_list = [[0 for _ in range(N+1)]for _ in range(N+1)]\n",
    "ls = []\n",
    "for i in range(1, N+1):\n",
    "    ls.append(list(map(int, input().split())))\n",
    "# 각 빈칸에 들어갈 누적합 값 계산하여 할당.    \n",
    "    for j in range(1, N+1):\n",
    "        sum_list[i][j] = ls[i-1][j-1] + (sum_list[i-1][j] + sum_list[i][j-1]) - sum_list[i-1][j-1] \n",
    "# 각 좌표별 합 계산. [x2][y2] - [x1-1][y2] - [x2][y1-1] + [x1-1][y1-1] 공식 사용\n",
    "for i in range(M):\n",
    "    x1, y1, x2, y2 = map(int, input().split())\n",
    "    print(sum_list[x2][y2] - sum_list[x1-1][y2] - sum_list[x2][y1-1] + sum_list[x1-1][y1-1])"
   ]
  }
 ],
 "metadata": {
  "kernelspec": {
   "display_name": "Python 3",
   "language": "python",
   "name": "python3"
  },
  "language_info": {
   "codemirror_mode": {
    "name": "ipython",
    "version": 3
   },
   "file_extension": ".py",
   "mimetype": "text/x-python",
   "name": "python",
   "nbconvert_exporter": "python",
   "pygments_lexer": "ipython3",
   "version": "3.10.8"
  },
  "orig_nbformat": 4
 },
 "nbformat": 4,
 "nbformat_minor": 2
}
