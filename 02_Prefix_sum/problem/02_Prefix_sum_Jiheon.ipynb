{
 "cells": [
  {
   "cell_type": "markdown",
   "metadata": {},
   "source": [
    "# 02_Prefix_sum"
   ]
  },
  {
   "cell_type": "markdown",
   "metadata": {},
   "source": [
    "##### 11659 구간 합 구하기 4\n",
    "\n",
    "1. 주어진 수 N 개에 대한 누적 합 리스트를 생성한다.\n",
    "\n",
    "2. i 에서 j 번째 숫자의 합이기 떄문에, j까지의 누적합 - i까지의 누적합으로 계산하면 된다."
   ]
  },
  {
   "cell_type": "code",
   "execution_count": 11,
   "metadata": {},
   "outputs": [
    {
     "ename": "KeyboardInterrupt",
     "evalue": "",
     "output_type": "error",
     "traceback": [
      "\u001b[0;31m---------------------------------------------------------------------------\u001b[0m",
      "\u001b[0;31mKeyboardInterrupt\u001b[0m                         Traceback (most recent call last)",
      "Cell \u001b[0;32mIn[11], line 3\u001b[0m\n\u001b[1;32m      1\u001b[0m \u001b[39m# import sys\u001b[39;00m\n\u001b[1;32m      2\u001b[0m \u001b[39m# input = sys.stdin.readline\u001b[39;00m\n\u001b[0;32m----> 3\u001b[0m N, M \u001b[39m=\u001b[39m \u001b[39mmap\u001b[39m(\u001b[39mint\u001b[39m, \u001b[39minput\u001b[39;49m()\u001b[39m.\u001b[39msplit())\n\u001b[1;32m      4\u001b[0m num \u001b[39m=\u001b[39m \u001b[39mlist\u001b[39m(\u001b[39mmap\u001b[39m(\u001b[39mint\u001b[39m, \u001b[39minput\u001b[39m()\u001b[39m.\u001b[39msplit()))\n\u001b[1;32m      5\u001b[0m c_num \u001b[39m=\u001b[39m [\u001b[39m0\u001b[39m]\n",
      "\u001b[0;31mKeyboardInterrupt\u001b[0m: "
     ]
    }
   ],
   "source": [
    "# import sys\n",
    "# input = sys.stdin.readline\n",
    "N, M = map(int, input().split())\n",
    "num = list(map(int, input().split()))\n",
    "# 첫번째 수가 i 로 제시되는 경우를 위해 아무것도 빼지않는 경우 0을 더미로 추가\n",
    "c_num = [0]\n",
    "\n",
    "for _ in range(1,N+1):\n",
    "    c_num.append(c_num[_-1]+num[_-1])\n",
    "for _ in range(M):\n",
    "    i, j = map(int, input().split())\n",
    "    print(c_num[j]-c_num[i-1])"
   ]
  }
 ],
 "metadata": {
  "kernelspec": {
   "display_name": "Python 3",
   "language": "python",
   "name": "python3"
  },
  "language_info": {
   "codemirror_mode": {
    "name": "ipython",
    "version": 3
   },
   "file_extension": ".py",
   "mimetype": "text/x-python",
   "name": "python",
   "nbconvert_exporter": "python",
   "pygments_lexer": "ipython3",
   "version": "3.10.8"
  },
  "orig_nbformat": 4
 },
 "nbformat": 4,
 "nbformat_minor": 2
}
