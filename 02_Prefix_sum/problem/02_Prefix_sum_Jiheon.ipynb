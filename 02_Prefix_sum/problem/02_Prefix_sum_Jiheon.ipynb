{
 "cells": [
  {
   "cell_type": "markdown",
   "metadata": {},
   "source": [
    "# 02_Prefix_sum"
   ]
  },
  {
   "cell_type": "markdown",
   "metadata": {},
   "source": [
    "##### 11659 구간 합 구하기 4\n",
    "\n",
    "1. 주어진 수 N 개에 대한 누적 합 리스트를 생성한다.\n",
    "\n",
    "2. i 에서 j 번째 숫자의 합이기 떄문에, j까지의 누적합 - i까지의 누적합으로 계산하면 된다."
   ]
  },
  {
   "cell_type": "code",
   "execution_count": null,
   "metadata": {},
   "outputs": [],
   "source": [
    "import sys\n",
    "input = sys.stdin.readline\n",
    "N, M = map(int, input().split())\n",
    "num = list(map(int, input().split()))\n",
    "# 첫번째 수가 i 로 제시되는 경우를 위해 아무것도 빼지않는 경우 0을 더미로 추가\n",
    "c_num = [0]\n",
    "\n",
    "for _ in range(1,N+1):\n",
    "    c_num.append(c_num[_-1]+num[_-1])\n",
    "for _ in range(M):\n",
    "    i, j = map(int, input().split())\n",
    "    print(c_num[j]-c_num[i-1])"
   ]
  },
  {
   "cell_type": "markdown",
   "metadata": {},
   "source": [
    "##### 11660 구간 합 구하기 5\n",
    "\n",
    "1. 2차원 누적합 배열로 처리 가능!\n",
    "\n",
    "2. 미리 2차원 누적합 배열이 들어갈 배열을 만듦((N+1)^2 사이즈)\n",
    "\n",
    "3. 2차원 누적합 배열을 구성\n",
    "\n",
    "4. (x1, y1)에서 (x2, y2)까지의 합을 구하기 위해, [x2][y2] - [x1-1][y2] - [x2][y1-1] + [x1-1][y1-1] 값 계산"
   ]
  },
  {
   "cell_type": "code",
   "execution_count": null,
   "metadata": {},
   "outputs": [],
   "source": [
    "import sys\n",
    "input = sys.stdin.readline\n",
    "N, M = map(int, input().split())\n",
    "num_c = list()\n",
    "result = list()\n",
    "# 누적합 배열이 들어갈 (N+1)^2 size의 빈 배열 만들어 놓기\n",
    "sum_list = [[0 for _ in range(N+1)]for _ in range(N+1)]\n",
    "ls = []\n",
    "for i in range(1, N+1):\n",
    "    ls.append(list(map(int, input().split())))\n",
    "# 각 빈칸에 들어갈 누적합 값 계산하여 할당.    \n",
    "    for j in range(1, N+1):\n",
    "        sum_list[i][j] = ls[i-1][j-1] + (sum_list[i-1][j] + sum_list[i][j-1]) - sum_list[i-1][j-1] \n",
    "# 각 좌표별 합 계산. [x2][y2] - [x1-1][y2] - [x2][y1-1] + [x1-1][y1-1] 공식 사용\n",
    "for i in range(M):\n",
    "    x1, y1, x2, y2 = map(int, input().split())\n",
    "    print(sum_list[x2][y2] - sum_list[x1-1][y2] - sum_list[x2][y1-1] + sum_list[x1-1][y1-1])"
   ]
  },
  {
   "cell_type": "markdown",
   "metadata": {},
   "source": [
    "##### 10986 나머지 합\n",
    "\n",
    "1. 누적합 리스트를 구한 후, 모든 구간 합의 경우의 수를 구할 경우 시간복잡도가 N^2\n",
    "\n",
    "2. 나머지가 0이 되는 수(배수)끼리의 합도 나머지가 0이 된다는 점을 활용!\n",
    "\n",
    "3. (누적리스트[i] - 누적리스트[j])%M = 0 이라면, 누적리스트[i]%M = 누적리스트[j]%M 이라는 점을 활용!\n",
    "\n",
    "4. 길이 M 의 counting list를 만들어서, i 번째 누적합의 나머지(x) 를 x 번째 index에 카운팅\n",
    "\n",
    "5. nC2 순열 구하는 방식을 통해서 같은 나머지들 중에서 2개의 조합을 골라내는 경우의 수 계산"
   ]
  },
  {
   "cell_type": "code",
   "execution_count": null,
   "metadata": {},
   "outputs": [],
   "source": [
    "N, M = map(int, input().split())\n",
    "ls = list(map(int, input().split()))\n",
    "# counting list 할당\n",
    "cnt = [0] * M\n",
    "# 누적합 리스트를 따로 만들면, index에 다 다시 접근해서 시간이 느려지므로 현재 누적합을 저장하는 변수 sum을 지정\n",
    "# sum을 M으로 나눈 값을 바로 counting list에 카운트\n",
    "sum = 0\n",
    "for i in range(len(ls)):\n",
    "    sum += ls[i]\n",
    "    cnt[sum % M] += 1\n",
    "\n",
    "# 나머지가 0인 경우, 혼자서도 M으로 나누어떨어지는 것이기 때문에 바로 최종결과 반영\n",
    "rlt = cnt[0]\n",
    "\n",
    "# 나머지가 같은 쌍을 구하는 모든 경우의 수를 nC2 순열로 갯수만 구함\n",
    "for i in range(M):\n",
    "    rlt += (cnt[i]*(cnt[i]-1))/2\n",
    "\n",
    "print(int(rlt))"
   ]
  },
  {
   "cell_type": "markdown",
   "metadata": {},
   "source": [
    "##### 12891 DNA 비밀번호\n",
    "\n",
    "1. 슬라이딩 윈도우는 윈도우(특정 범위)가 있을 때 윈도우 내부 요소의 값을 이용하여 문제를 풀이하는 알고리즘임\n",
    "\n",
    "2. list 내부에서 한칸 씩 이동하면서 특정 범위를 갖는다.\n",
    "\n",
    "3. 때문에, 매번 새롭게 윈도우를 할당하는 것이 아니라 변경되는 범위만 포함/탈락시키는 방식으로 계산을 줄일 수 있다.\n",
    "\n",
    "4. 이 문제는 특정 윈도우에서 주어진 문자가 몇번 포함되었는지를 구하는 문제이다.\n",
    "\n",
    "5. 주어진 범위크기에 따라 한칸씩 이동하는 동시에, 주어진 문자(A, C, G, T)가 범위 안에 몇개가 있는지를 파악한다.\n",
    "\n",
    "6. 최초 윈도우(0:P)에 문자가 몇번 존재하는지 파악한다면 다음 윈도우부터는 새로운 값을 더하고 탈락하는 값을 빼기만 하면 된다."
   ]
  },
  {
   "cell_type": "code",
   "execution_count": 15,
   "metadata": {},
   "outputs": [
    {
     "name": "stdout",
     "output_type": "stream",
     "text": [
      "2\n"
     ]
    }
   ],
   "source": [
    "import sys\n",
    "input = sys.stdin.readline\n",
    "\n",
    "S, P = map(int, input().split())\n",
    "DNA = list(input())\n",
    "need = list(map(int, input().split()))\n",
    "rlt = 0\n",
    "# 현재 윈도우에 ACGT가 몇개 존재하는지 dict 에 저장\n",
    "now = {0:0, 1:0, 2:0, 3:0}\n",
    "# 코드를 간단하게 하기 위해 각 dict key에 해당하는 문자 리스트를 미리 만든다.\n",
    "idx = ['A','C','G','T']\n",
    "window = ''.join(DNA[:P])\n",
    "# 첫 윈도우에선, 모든 원소에 대해서 ACGT가 몇개 존재하는지를 파악한다.\n",
    "for i in range(len(window)):\n",
    "    now[idx.index(window[i])] += 1\n",
    "for i in range(4):\n",
    "    if now[i] < need[i]:\n",
    "        break\n",
    "else:\n",
    "    rlt += 1\n",
    "# 두번째 윈도우에서 부터는 변경된 부분에 대해서만 ACGT 존재여부를 파악하여, 갯수를 더하거나 뺀다.\n",
    "for i in range(S-P):\n",
    "    now[idx.index(DNA[i])] -= 1\n",
    "    now[idx.index(DNA[i+P])] += 1\n",
    "    for j in range(4):\n",
    "        if now[j] < need[j]:\n",
    "            break\n",
    "    else:\n",
    "        rlt += 1\n",
    "\n",
    "print(rlt)"
   ]
  }
 ],
 "metadata": {
  "kernelspec": {
   "display_name": "Python 3",
   "language": "python",
   "name": "python3"
  },
  "language_info": {
   "codemirror_mode": {
    "name": "ipython",
    "version": 3
   },
   "file_extension": ".py",
   "mimetype": "text/x-python",
   "name": "python",
   "nbconvert_exporter": "python",
   "pygments_lexer": "ipython3",
   "version": "3.9.13"
  },
  "orig_nbformat": 4
 },
 "nbformat": 4,
 "nbformat_minor": 2
}
