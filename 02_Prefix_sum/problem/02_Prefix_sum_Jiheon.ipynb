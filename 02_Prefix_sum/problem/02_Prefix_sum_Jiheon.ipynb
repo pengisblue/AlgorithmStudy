{
 "cells": [
  {
   "cell_type": "markdown",
   "metadata": {},
   "source": [
    "# 02_Prefix_sum"
   ]
  },
  {
   "cell_type": "markdown",
   "metadata": {},
   "source": [
    "##### 11659 구간 합 구하기 4\n",
    "\n",
    "1. 주어진 수 N 개에 대한 누적 합 리스트를 생성한다.\n",
    "\n",
    "2. i 에서 j 번째 숫자의 합이기 떄문에, j까지의 누적합 - i까지의 누적합으로 계산하면 된다."
   ]
  },
  {
   "cell_type": "code",
   "execution_count": null,
   "metadata": {},
   "outputs": [],
   "source": [
    "import sys\n",
    "input = sys.stdin.readline\n",
    "N, M = map(int, input().split())\n",
    "num = list(map(int, input().split()))\n",
    "# 첫번째 수가 i 로 제시되는 경우를 위해 아무것도 빼지않는 경우 0을 더미로 추가\n",
    "c_num = [0]\n",
    "\n",
    "for _ in range(1,N+1):\n",
    "    c_num.append(c_num[_-1]+num[_-1])\n",
    "for _ in range(M):\n",
    "    i, j = map(int, input().split())\n",
    "    print(c_num[j]-c_num[i-1])"
   ]
  },
  {
   "cell_type": "markdown",
   "metadata": {},
   "source": [
    "##### 구간 합 구하기 5\n",
    "\n",
    "1. 2차원 누적합 배열로 처리 가능!\n",
    "\n",
    "2. 미리 2차원 누적합 배열이 들어갈 배열을 만듦((N+1)^2 사이즈)\n",
    "\n",
    "3. 2차원 누적합 배열을 구성\n",
    "\n",
    "4. (x1, y1)에서 (x2, y2)까지의 합을 구하기 위해, [x2][y2] - [x1-1][y2] - [x2][y1-1] + [x1-1][y1-1] 값 계산"
   ]
  },
  {
   "cell_type": "code",
   "execution_count": null,
   "metadata": {},
   "outputs": [],
   "source": [
    "import sys\n",
    "input = sys.stdin.readline\n",
    "N, M = map(int, input().split())\n",
    "num_c = list()\n",
    "result = list()\n",
    "# 누적합 배열이 들어갈 (N+1)^2 size의 빈 배열 만들어 놓기\n",
    "sum_list = [[0 for _ in range(N+1)]for _ in range(N+1)]\n",
    "ls = []\n",
    "for i in range(1, N+1):\n",
    "    ls.append(list(map(int, input().split())))\n",
    "# 각 빈칸에 들어갈 누적합 값 계산하여 할당.    \n",
    "    for j in range(1, N+1):\n",
    "        sum_list[i][j] = ls[i-1][j-1] + (sum_list[i-1][j] + sum_list[i][j-1]) - sum_list[i-1][j-1] \n",
    "# 각 좌표별 합 계산. [x2][y2] - [x1-1][y2] - [x2][y1-1] + [x1-1][y1-1] 공식 사용\n",
    "for i in range(M):\n",
    "    x1, y1, x2, y2 = map(int, input().split())\n",
    "    print(sum_list[x2][y2] - sum_list[x1-1][y2] - sum_list[x2][y1-1] + sum_list[x1-1][y1-1])"
   ]
  },
  {
   "cell_type": "markdown",
   "metadata": {},
   "source": [
    "##### 10986 나머지 합\n",
    "\n",
    "1. 누적합 리스트를 구한 후, 모든 구간 합의 경우의 수를 구할 경우 시간복잡도가 N^2\n",
    "\n",
    "2. 나머지가 0이 되는 수(배수)끼리의 합도 나머지가 0이 된다는 점을 활용!\n",
    "\n",
    "3. (누적리스트[i] - 누적리스트[j])%M = 0 이라면, 누적리스트[i]%M = 누적리스트[j]%M 이라는 점을 활용!\n",
    "\n",
    "4. 길이 M 의 counting list를 만들어서, i 번째 누적합의 나머지(x) 를 x 번째 index에 카운팅\n",
    "\n",
    "5. nC2 순열 구하는 방식을 통해서 같은 나머지들 중에서 2개의 조합을 골라내는 경우의 수 계산"
   ]
  },
  {
   "cell_type": "code",
   "execution_count": 1,
   "metadata": {},
   "outputs": [
    {
     "name": "stdout",
     "output_type": "stream",
     "text": [
      "7\n"
     ]
    }
   ],
   "source": [
    "N, M = map(int, input().split())\n",
    "ls = list(map(int, input().split()))\n",
    "# counting list 할당\n",
    "cnt = [0] * M\n",
    "# 누적합 리스트를 따로 만들면, index에 다 다시 접근해서 시간이 느려지므로 현재 누적합을 저장하는 변수 sum을 지정\n",
    "# sum을 M으로 나눈 값을 바로 counting list에 카운트\n",
    "sum = 0\n",
    "for i in range(len(ls)):\n",
    "    sum += ls[i]\n",
    "    cnt[sum % M] += 1\n",
    "\n",
    "# 나머지가 0인 경우, 혼자서도 M으로 나누어떨어지는 것이기 때문에 바로 최종결과 반영\n",
    "rlt = cnt[0]\n",
    "\n",
    "# 나머지가 같은 쌍을 구하는 모든 경우의 수를 nC2 순열로 갯수만 구함\n",
    "for i in range(M):\n",
    "    rlt += (cnt[i]*(cnt[i]-1))/2\n",
    "\n",
    "print(int(rlt))"
   ]
  }
 ],
 "metadata": {
  "kernelspec": {
   "display_name": "Python 3",
   "language": "python",
   "name": "python3"
  },
  "language_info": {
   "codemirror_mode": {
    "name": "ipython",
    "version": 3
   },
   "file_extension": ".py",
   "mimetype": "text/x-python",
   "name": "python",
   "nbconvert_exporter": "python",
   "pygments_lexer": "ipython3",
   "version": "3.9.13"
  },
  "orig_nbformat": 4
 },
 "nbformat": 4,
 "nbformat_minor": 2
}
