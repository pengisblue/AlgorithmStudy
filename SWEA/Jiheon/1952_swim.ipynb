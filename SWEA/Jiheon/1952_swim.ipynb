{
 "cells": [
  {
   "cell_type": "markdown",
   "metadata": {},
   "source": [
    "### 1952 수영장\n",
    "\n",
    "1. dfs 로 간단하게 해결가능 하다.\n",
    "\n",
    "2. 모든 경우의 수에 대해서, total 요금을 계산해서 가장 적은 값을 return 할 수 있는 dfs 함수를 정의한다.\n",
    "\n",
    "3. 일, 월, 3개월, 년 요금이 있기 때문에, 각 달에 대해선 4개의 분기가 존재"
   ]
  },
  {
   "cell_type": "code",
   "execution_count": null,
   "metadata": {},
   "outputs": [],
   "source": [
    "def dfs(start, total):\n",
    "    # 최솟값 갱신을 위한 temp_min 변수 들고옴\n",
    "    global temp_min\n",
    "    # 현재 분기가 temp_min 보다 크면 그 즉시 return\n",
    "    if total > temp_min:\n",
    "        return\n",
    "    # start 즉, 12월까지 다 살펴보았다면, temp_min 값 return\n",
    "    if start >= 12:\n",
    "        temp_min = min(temp_min, total)\n",
    "        return\n",
    "    # 현재 분기에서 시작하는 달의 수영 계획을 들고옴\n",
    "    days = plan[start]\n",
    "    # 현재 분기를 기준으로 4가지 분기를 모두 탐색\n",
    "    dfs(start + 1, total + (day * days))\n",
    "    dfs(start + 1, total + month)\n",
    "    dfs(start + 3, total + quarter)\n",
    "    dfs(start + 12, total + year)\n",
    "    # 최종 최솟 값 return\n",
    "    return temp_min\n",
    "\n",
    "\n",
    "\n",
    "T = int(input())\n",
    "for t in range(T):\n",
    "    day, month, quarter, year = map(int, input().split())\n",
    "    plan = list(map(int, input().split()))\n",
    "    temp_min = float('inf')\n",
    "    print(f'#{t+1}', dfs(0, 0))"
   ]
  }
 ],
 "metadata": {
  "language_info": {
   "name": "python"
  },
  "orig_nbformat": 4
 },
 "nbformat": 4,
 "nbformat_minor": 2
}
